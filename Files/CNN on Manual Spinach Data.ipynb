{
 "cells": [
  {
   "cell_type": "markdown",
   "id": "c4eafc83",
   "metadata": {},
   "source": [
    "# Importing the required libraries"
   ]
  },
  {
   "cell_type": "code",
   "execution_count": null,
   "id": "9b27652a",
   "metadata": {},
   "outputs": [],
   "source": [
    "from keras.applications.vgg19 import VGG19\n",
    "from keras.layers import Conv2D, MaxPooling2D, Flatten, Dense, Dropout\n",
    "from sklearn.metrics import accuracy_score, confusion_matrix, classification_report, plot_roc_curve\n",
    "from keras.preprocessing.image import ImageDataGenerator,load_img\n",
    "from sklearn.model_selection import train_test_split\n",
    "from keras.models import Sequential, Model\n",
    "import matplotlib.pyplot as plt\n",
    "import tensorflow as tf\n",
    "from PIL import Image\n",
    "from skimage import io\n",
    "import numpy as np\n",
    "import pandas as pd\n",
    "import keras\n",
    "import os\n",
    "import cv2\n"
   ]
  },
  {
   "cell_type": "code",
   "execution_count": 3,
   "id": "f6b63168",
   "metadata": {},
   "outputs": [
    {
     "name": "stdout",
     "output_type": "stream",
     "text": [
      "Note: you may need to restart the kernel to use updated packages.\n"
     ]
    },
    {
     "name": "stderr",
     "output_type": "stream",
     "text": [
      "ERROR: unknown command \"remove\"\n",
      "\n"
     ]
    }
   ],
   "source": [
    "pip remove geopandas"
   ]
  },
  {
   "cell_type": "code",
   "execution_count": 4,
   "id": "dbbc12e6",
   "metadata": {},
   "outputs": [
    {
     "name": "stdout",
     "output_type": "stream",
     "text": [
      "Collecting geopandas\n",
      "  Using cached geopandas-0.10.2-py2.py3-none-any.whl (1.0 MB)\n",
      "Collecting pyproj>=2.2.0\n",
      "  Using cached pyproj-3.3.0-cp38-cp38-win_amd64.whl (6.3 MB)\n",
      "Requirement already satisfied: pandas>=0.25.0 in c:\\users\\asus\\appdata\\local\\programs\\python\\python38\\lib\\site-packages (from geopandas) (1.4.1)\n",
      "Collecting shapely>=1.6\n",
      "  Using cached Shapely-1.8.1.post1-cp38-cp38-win_amd64.whl (1.3 MB)\n",
      "Collecting fiona>=1.8\n",
      "  Using cached Fiona-1.8.21.tar.gz (1.0 MB)\n",
      "Note: you may need to restart the kernel to use updated packages.\n"
     ]
    },
    {
     "name": "stderr",
     "output_type": "stream",
     "text": [
      "    ERROR: Command errored out with exit status 1:\n",
      "     command: 'C:\\Users\\asus\\AppData\\Local\\Programs\\Python\\Python38\\python.exe' -c 'import sys, setuptools, tokenize; sys.argv[0] = '\"'\"'C:\\\\Users\\\\asus\\\\AppData\\\\Local\\\\Temp\\\\pip-install-5mu4q9dn\\\\fiona\\\\setup.py'\"'\"'; __file__='\"'\"'C:\\\\Users\\\\asus\\\\AppData\\\\Local\\\\Temp\\\\pip-install-5mu4q9dn\\\\fiona\\\\setup.py'\"'\"';f=getattr(tokenize, '\"'\"'open'\"'\"', open)(__file__);code=f.read().replace('\"'\"'\\r\\n'\"'\"', '\"'\"'\\n'\"'\"');f.close();exec(compile(code, __file__, '\"'\"'exec'\"'\"'))' egg_info --egg-base 'C:\\Users\\asus\\AppData\\Local\\Temp\\pip-pip-egg-info-4_25vfvl'\n",
      "         cwd: C:\\Users\\asus\\AppData\\Local\\Temp\\pip-install-5mu4q9dn\\fiona\\\n",
      "    Complete output (1 lines):\n",
      "    A GDAL API version must be specified. Provide a path to gdal-config using a GDAL_CONFIG environment variable or use a GDAL_VERSION environment variable.\n",
      "    ----------------------------------------\n",
      "ERROR: Command errored out with exit status 1: python setup.py egg_info Check the logs for full command output.\n",
      "WARNING: You are using pip version 20.1.1; however, version 22.0.4 is available.\n",
      "You should consider upgrading via the 'C:\\Users\\asus\\AppData\\Local\\Programs\\Python\\Python38\\python.exe -m pip install --upgrade pip' command.\n"
     ]
    }
   ],
   "source": [
    "pip install geopandas"
   ]
  },
  {
   "cell_type": "markdown",
   "id": "12fae42e",
   "metadata": {},
   "source": [
    "# Importing the Original Data Set"
   ]
  },
  {
   "cell_type": "code",
   "execution_count": 3,
   "id": "82e20df1",
   "metadata": {},
   "outputs": [
    {
     "name": "stdout",
     "output_type": "stream",
     "text": [
      "length of the dataset :  527\n",
      "Whole imge data in the array format : [array([[[ 83, 125,  78],\n",
      "        [ 91, 136,  89],\n",
      "        [ 90, 143,  96],\n",
      "        ...,\n",
      "        [  5,  48,   8],\n",
      "        [  4,  47,   8],\n",
      "        [  3,  44,  12]],\n",
      "\n",
      "       [[ 87, 128,  82],\n",
      "        [ 92, 138,  92],\n",
      "        [ 88, 143,  97],\n",
      "        ...,\n",
      "        [  5,  53,  10],\n",
      "        [  4,  48,   9],\n",
      "        [  4,  43,  10]],\n",
      "\n",
      "       [[ 91, 132,  86],\n",
      "        [ 93, 141,  95],\n",
      "        [ 83, 142,  97],\n",
      "        ...,\n",
      "        [  6,  61,  15],\n",
      "        [  4,  50,  11],\n",
      "        [  5,  43,   8]],\n",
      "\n",
      "       ...,\n",
      "\n",
      "       [[ 24,  88,  43],\n",
      "        [ 26,  83,  39],\n",
      "        [ 24,  72,  33],\n",
      "        ...,\n",
      "        [  0,   1,   1],\n",
      "        [  0,   0,   0],\n",
      "        [  0,   0,   0]],\n",
      "\n",
      "       [[ 23,  84,  37],\n",
      "        [ 26,  78,  34],\n",
      "        [ 23,  68,  30],\n",
      "        ...,\n",
      "        [  0,   0,   0],\n",
      "        [  0,   0,   0],\n",
      "        [  0,   0,   0]],\n",
      "\n",
      "       [[ 23,  81,  33],\n",
      "        [ 25,  74,  30],\n",
      "        [ 22,  65,  28],\n",
      "        ...,\n",
      "        [  0,   0,   0],\n",
      "        [  0,   0,   0],\n",
      "        [  0,   0,   0]]], dtype=uint8), 0]\n"
     ]
    }
   ],
   "source": [
    "dir = r\"E:\\Python\\project\\Manual_Spinach\"\n",
    "\n",
    "catg1 = ['Downy Mildew','Healthy','Leaf_spot','white rust']\n",
    "\n",
    "img_cube = []\n",
    "image_size = 224\n",
    "\n",
    "for i in catg1:\n",
    "    path = os.path.join(dir,i)\n",
    "    label = catg1.index(i)\n",
    "    for j in os.listdir(path):\n",
    "        img_arr = cv2.imread(os.path.join(path,j))\n",
    "        img_arr = cv2.resize(img_arr,(224,224))\n",
    "        img_cube.append([img_arr,label])\n",
    "        \n",
    "print(\"length of the dataset : \",len(img_cube))\n",
    "print(\"Whole imge data in the array format :\",img_cube[10])"
   ]
  },
  {
   "cell_type": "code",
   "execution_count": 4,
   "id": "715490fc",
   "metadata": {},
   "outputs": [
    {
     "data": {
      "text/plain": [
       "0"
      ]
     },
     "execution_count": 4,
     "metadata": {},
     "output_type": "execute_result"
    },
    {
     "data": {
      "image/png": "[encoded data removed]",
      "text/plain": [
       "<Figure size 432x288 with 1 Axes>"
      ]
     },
     "metadata": {
      "needs_background": "light"
     },
     "output_type": "display_data"
    }
   ],
   "source": [
    "plt.imshow(img_cube[20][0])\n",
    "img_cube[3][1]"
   ]
  },
  {
   "cell_type": "code",
   "execution_count": 5,
   "id": "92cfdd92",
   "metadata": {},
   "outputs": [
    {
     "data": {
      "text/plain": [
       "(224, 224, 3)"
      ]
     },
     "execution_count": 5,
     "metadata": {},
     "output_type": "execute_result"
    }
   ],
   "source": [
    "img_cube[3][0].shape"
   ]
  },
  {
   "cell_type": "code",
   "execution_count": 6,
   "id": "3c05dfde",
   "metadata": {},
   "outputs": [],
   "source": [
    "feature=[]\n",
    "target=[]\n",
    "for i in img_cube:\n",
    "    feature.append(i[0])\n",
    "for i in img_cube:\n",
    "    target.append(i[1])\n",
    "feature=np.array(feature)\n",
    "target=np.array(target)\n",
    "feature = feature/255.0"
   ]
  },
  {
   "cell_type": "code",
   "execution_count": null,
   "id": "1d3d442f",
   "metadata": {},
   "outputs": [],
   "source": []
  },
  {
   "cell_type": "markdown",
   "id": "74003b5b",
   "metadata": {},
   "source": [
    "# Splitting the Data set "
   ]
  },
  {
   "cell_type": "code",
   "execution_count": 7,
   "id": "c4a149f5",
   "metadata": {},
   "outputs": [],
   "source": [
    "x_train,x_test,y_train,y_test= train_test_split(feature, target, random_state=0, test_size=0.25)"
   ]
  },
  {
   "cell_type": "markdown",
   "id": "2425aec2",
   "metadata": {},
   "source": [
    "# Before Applying Augmentation to the dataset"
   ]
  },
  {
   "cell_type": "code",
   "execution_count": 54,
   "id": "7308e846",
   "metadata": {},
   "outputs": [
    {
     "data": {
      "image/png": "[encoded data removed]",
      "text/plain": [
       "<Figure size 720x504 with 1 Axes>"
      ]
     },
     "metadata": {},
     "output_type": "display_data"
    }
   ],
   "source": [
    "\n",
    "# Import libraries\n",
    "import numpy as np\n",
    "import matplotlib.pyplot as plt\n",
    " \n",
    " \n",
    "# Creating dataset\n",
    "images = ['Downy Mildew', 'Healthy', 'Leaf spot',\n",
    "        'White rust']\n",
    " \n",
    "data = [86, 338, 33, 70]\n",
    " \n",
    "# Creating explode data\n",
    "explode = (0.1, 0.0, 0.2, 0.3)\n",
    " \n",
    "# Creating color parameters\n",
    "colors = ( \"orange\", \"cyan\", \"brown\",\n",
    "          \"grey\")\n",
    " \n",
    "# Wedge properties\n",
    "wp = { 'linewidth' : 1, 'edgecolor' : \"green\" }\n",
    " \n",
    "# Creating autocpt arguments\n",
    "def func(pct, allvalues):\n",
    "    absolute = int(pct / 100.*np.sum(allvalues))\n",
    "    return \"{:.1f}%\\n({:d})\".format(pct, absolute)\n",
    " \n",
    "# Creating plot\n",
    "fig, ax = plt.subplots(figsize =(10, 7))\n",
    "wedges, texts, autotexts = ax.pie(data,\n",
    "                                  autopct = lambda pct: func(pct, data),\n",
    "                                  explode = explode,\n",
    "                                  labels = images,\n",
    "                                  shadow = True,\n",
    "                                  colors = colors,\n",
    "                                  startangle = 90,\n",
    "                                  wedgeprops = wp,\n",
    "                                  textprops = dict(color =\"Blue\"))\n",
    " \n",
    "# Adding legend\n",
    "ax.legend(wedges, images,\n",
    "          title =\"spinach dataset\",\n",
    "          loc =\"center left\",\n",
    "          bbox_to_anchor =(1, 0, 0.5, 1))\n",
    " \n",
    "plt.setp(autotexts, size = 8, weight =\"bold\")\n",
    "ax.set_title(\"Spinach Data set\")\n",
    " \n",
    "# show plot\n",
    "plt.show()"
   ]
  },
  {
   "cell_type": "markdown",
   "id": "1a5b52ce",
   "metadata": {},
   "source": [
    "# Applying Augmentation to the Original Dataset"
   ]
  },
  {
   "cell_type": "code",
   "execution_count": 1,
   "id": "8a4826fe",
   "metadata": {},
   "outputs": [],
   "source": [
    "import sys\n",
    "from PIL import Image\n",
    "sys.modules['Image'] = Image "
   ]
  },
  {
   "cell_type": "markdown",
   "id": "f333489a",
   "metadata": {},
   "source": [
    "# Downy Mildew"
   ]
  },
  {
   "cell_type": "code",
   "execution_count": null,
   "id": "67742b18",
   "metadata": {},
   "outputs": [],
   "source": [
    "data_gen = ImageDataGenerator(\n",
    "    rotation_range = 45, #random rotation bewteen 0 to 45\n",
    "    width_shift_range = 0.2,\n",
    "    height_shift_range = 0.2,\n",
    "    shear_range = 0.2,\n",
    "    zoom_range = 0.2,\n",
    "    horizontal_flip = True,\n",
    "    fill_mode = 'nearest',#constant,reflect ,wrap is another parameter\n",
    "    cval = 125 #gray background\n",
    ")\n",
    "\n",
    "i = 0\n",
    "for batch in data_gen.flow_from_directory(directory = \"E:\\Python\\project\\Manual_Spinach\",\n",
    "                                    classes=['Downy Mildew'],\n",
    "                                    batch_size = 16,\n",
    "                                    target_size = (256,256),\n",
    "                                    color_mode = \"rgb\",\n",
    "                                    save_to_dir = 'E:\\\\Python\\\\project\\\\Aug_spinach\\\\aug_downy_mildew',\n",
    "                                    save_prefix = 'aug',\n",
    "                                    save_format = 'jpg'):\n",
    "    i +=1\n",
    "    if i>30:\n",
    "        break"
   ]
  },
  {
   "cell_type": "markdown",
   "id": "9d8d9aef",
   "metadata": {},
   "source": [
    "# Leaf Spot"
   ]
  },
  {
   "cell_type": "code",
   "execution_count": null,
   "id": "2a2c2a25",
   "metadata": {},
   "outputs": [
    {
     "name": "stdout",
     "output_type": "stream",
     "text": [
      "Found 33 images belonging to 1 classes.\n"
     ]
    }
   ],
   "source": [
    "data_gen = ImageDataGenerator(\n",
    "    rotation_range = 45, #random rotation bewteen 0 to 45\n",
    "    width_shift_range = 0.2,\n",
    "    height_shift_range = 0.2,\n",
    "    shear_range = 0.2,\n",
    "    zoom_range = 0.2,\n",
    "    horizontal_flip = True,\n",
    "    fill_mode = 'nearest',#constant,reflect ,wrap is another parameter\n",
    "    cval = 125 #gray background\n",
    ")\n",
    "\n",
    "i = 0\n",
    "for batch in data_gen.flow_from_directory(directory = 'E:\\\\Python\\\\project\\\\Manual_Spinach',\n",
    "                                        classes=['Leaf_spot'],\n",
    "                                        batch_size = 16,\n",
    "                                        target_size = (256,256),\n",
    "                                        color_mode = \"rgb\",\n",
    "                                        save_to_dir = 'E:\\\\Python\\\\project\\\\Aug_spinach\\\\aug_Leaf_spot',\n",
    "                                        save_prefix = 'aug',\n",
    "                                        save_format = 'jpg'):\n",
    "    i +=1\n",
    "    if i>30:\n",
    "        break"
   ]
  },
  {
   "cell_type": "markdown",
   "id": "bee5cb1b",
   "metadata": {},
   "source": [
    "# White Rust"
   ]
  },
  {
   "cell_type": "code",
   "execution_count": null,
   "id": "7a3f37f4",
   "metadata": {},
   "outputs": [
    {
     "name": "stdout",
     "output_type": "stream",
     "text": [
      "Found 70 images belonging to 1 classes.\n"
     ]
    }
   ],
   "source": [
    "\n",
    "data_gen = ImageDataGenerator(\n",
    "    rotation_range = 45, #random rotation bewteen 0 to 45\n",
    "    width_shift_range = 0.2,\n",
    "    height_shift_range = 0.2,\n",
    "    shear_range = 0.2,\n",
    "    zoom_range = 0.2,\n",
    "    horizontal_flip = True,\n",
    "    fill_mode = 'nearest',#constant,reflect ,wrap is another parameter\n",
    "    cval = 125 #gray background\n",
    ")\n",
    "\n",
    "i = 0\n",
    "for batch in data_gen.flow_from_directory(directory = 'E:\\\\Python\\\\project\\\\Manual_Spinach',\n",
    "                                        classes=['white rust'],\n",
    "                                        batch_size = 16,\n",
    "                                        target_size = (256,256),\n",
    "                                        color_mode = \"rgb\",\n",
    "                                        save_to_dir = 'E:\\\\Python\\\\project\\\\Aug_spinach\\\\aug_white_rust',\n",
    "                                        save_prefix = 'aug',\n",
    "                                        save_format = 'jpg'):\n",
    "    i +=1\n",
    "    if i>30:\n",
    "        break"
   ]
  },
  {
   "cell_type": "code",
   "execution_count": null,
   "id": "087162ec",
   "metadata": {},
   "outputs": [],
   "source": []
  },
  {
   "cell_type": "markdown",
   "id": "44c9cdd0",
   "metadata": {},
   "source": [
    "# Healthy Leafs"
   ]
  },
  {
   "cell_type": "code",
   "execution_count": null,
   "id": "01bf28e3",
   "metadata": {},
   "outputs": [
    {
     "name": "stdout",
     "output_type": "stream",
     "text": [
      "Found 338 images belonging to 1 classes.\n"
     ]
    }
   ],
   "source": [
    "\n",
    "data_gen = ImageDataGenerator(\n",
    "    rotation_range = 45, #random rotation bewteen 0 to 45\n",
    "    width_shift_range = 0.2,\n",
    "    height_shift_range = 0.2,\n",
    "    shear_range = 0.2,\n",
    "    zoom_range = 0.2,\n",
    "    horizontal_flip = True,\n",
    "    fill_mode = 'nearest',#constant,reflect ,wrap is another parameter\n",
    "    cval = 125 #gray background\n",
    ")\n",
    "\n",
    "i = 0\n",
    "for batch in data_gen.flow_from_directory(directory = 'E:\\\\Python\\\\project\\\\Manual_Spinach',\n",
    "                                        classes=['Healthy'],\n",
    "                                        batch_size = 16,\n",
    "                                        target_size = (256,256),\n",
    "                                        color_mode = \"rgb\",\n",
    "                                        save_to_dir = 'E:\\\\Python\\\\project\\\\Aug_spinach\\\\aug_healthy_leafs',\n",
    "                                          save_prefix = 'aug',\n",
    "                                        save_format = 'jpg'):\n",
    "    i +=1\n",
    "    if i>50:\n",
    "        break"
   ]
  },
  {
   "cell_type": "markdown",
   "id": "ffec6e9b",
   "metadata": {},
   "source": [
    "# Reading the Augmented Dataset"
   ]
  },
  {
   "cell_type": "code",
   "execution_count": 8,
   "id": "eaa8f9a5",
   "metadata": {},
   "outputs": [
    {
     "name": "stdout",
     "output_type": "stream",
     "text": [
      "length of the dataset :  2016\n",
      "Whole imge data in the array format : [array([[[105, 188, 149],\n",
      "        [109, 192, 150],\n",
      "        [112, 194, 152],\n",
      "        ...,\n",
      "        [ 34, 104,  51],\n",
      "        [ 41, 111,  58],\n",
      "        [ 45, 115,  62]],\n",
      "\n",
      "       [[ 97, 180, 140],\n",
      "        [102, 186, 143],\n",
      "        [108, 190, 147],\n",
      "        ...,\n",
      "        [ 36, 106,  54],\n",
      "        [ 42, 112,  59],\n",
      "        [ 45, 115,  62]],\n",
      "\n",
      "       [[ 76, 160, 117],\n",
      "        [ 85, 170, 126],\n",
      "        [ 99, 181, 137],\n",
      "        ...,\n",
      "        [ 40, 110,  57],\n",
      "        [ 45, 115,  62],\n",
      "        [ 45, 115,  62]],\n",
      "\n",
      "       ...,\n",
      "\n",
      "       [[ 92, 179, 121],\n",
      "        [ 91, 179, 121],\n",
      "        [ 89, 178, 119],\n",
      "        ...,\n",
      "        [ 15,  43,  20],\n",
      "        [ 15,  43,  20],\n",
      "        [ 15,  43,  20]],\n",
      "\n",
      "       [[ 93, 179, 121],\n",
      "        [ 91, 179, 120],\n",
      "        [ 88, 176, 118],\n",
      "        ...,\n",
      "        [ 16,  44,  21],\n",
      "        [ 16,  44,  21],\n",
      "        [ 15,  43,  20]],\n",
      "\n",
      "       [[ 95, 180, 122],\n",
      "        [ 93, 178, 120],\n",
      "        [ 88, 176, 117],\n",
      "        ...,\n",
      "        [ 16,  44,  21],\n",
      "        [ 16,  44,  21],\n",
      "        [ 16,  44,  21]]], dtype=uint8), 0]\n"
     ]
    }
   ],
   "source": [
    "dir2 = r'E:\\Python\\project\\Aug_spinach'\n",
    "\n",
    "catg = ['aug_downy_mildew','aug_healthy_leafs','aug_Leaf_spot','aug_white_rust']\n",
    "\n",
    "img_cube2= []\n",
    "image_size = 224\n",
    "\n",
    "for i in catg:\n",
    "    path = os.path.join(dir2,i)\n",
    "    label = catg.index(i)\n",
    "    for j in os.listdir(path):\n",
    "        img_arr = cv2.imread(os.path.join(path,j))\n",
    "        img_arr = cv2.resize(img_arr,(224,224))\n",
    "        img_cube2.append([img_arr,label])\n",
    "        \n",
    "print(\"length of the dataset : \",len(img_cube2))\n",
    "print(\"Whole imge data in the array format :\",img_cube2[10])"
   ]
  },
  {
   "cell_type": "code",
   "execution_count": 9,
   "id": "e8b0c43f",
   "metadata": {},
   "outputs": [],
   "source": [
    "import random \n",
    "random.shuffle(img_cube2)"
   ]
  },
  {
   "cell_type": "code",
   "execution_count": 10,
   "id": "0ee14a69",
   "metadata": {},
   "outputs": [
    {
     "data": {
      "text/plain": [
       "<matplotlib.image.AxesImage at 0x26173f7f370>"
      ]
     },
     "execution_count": 10,
     "metadata": {},
     "output_type": "execute_result"
    },
    {
     "data": {
      "image/png": "[encoded data removed]",
      "text/plain": [
       "<Figure size 432x288 with 1 Axes>"
      ]
     },
     "metadata": {
      "needs_background": "light"
     },
     "output_type": "display_data"
    }
   ],
   "source": [
    "feature2 =[]\n",
    "target2 = []\n",
    "for i,j in img_cube2:\n",
    "    feature2.append(i)\n",
    "    target2.append(j)\n",
    "x = np.array(feature2)\n",
    "x = x/255.0\n",
    "y = np.array(target2)\n",
    "plt.imshow(x[500],cmap='gray')"
   ]
  },
  {
   "cell_type": "code",
   "execution_count": 11,
   "id": "19dbc420",
   "metadata": {},
   "outputs": [
    {
     "data": {
      "text/plain": [
       "(1512, 224, 224, 3)"
      ]
     },
     "execution_count": 11,
     "metadata": {},
     "output_type": "execute_result"
    }
   ],
   "source": [
    "x_train,x_test,y_train,y_test=train_test_split(x,y,random_state=0,test_size=0.25)\n",
    "x_train.shape"
   ]
  },
  {
   "cell_type": "code",
   "execution_count": 11,
   "id": "88df0192",
   "metadata": {},
   "outputs": [
    {
     "data": {
      "text/plain": [
       "(504,)"
      ]
     },
     "execution_count": 11,
     "metadata": {},
     "output_type": "execute_result"
    }
   ],
   "source": [
    "y_test.shape"
   ]
  },
  {
   "cell_type": "markdown",
   "id": "262c03a7",
   "metadata": {},
   "source": [
    "# After Applying Augmentation to the Dataset"
   ]
  },
  {
   "cell_type": "code",
   "execution_count": 59,
   "id": "db9c8f99",
   "metadata": {},
   "outputs": [
    {
     "data": {
      "image/png": "[encoded data removed]",
      "text/plain": [
       "<Figure size 720x504 with 1 Axes>"
      ]
     },
     "metadata": {},
     "output_type": "display_data"
    }
   ],
   "source": [
    "\n",
    "# Import libraries\n",
    "import numpy as np\n",
    "import matplotlib.pyplot as plt\n",
    " \n",
    " \n",
    "# Creating dataset\n",
    "images = ['Downy Mildew', 'Healthy', 'Leaf spot',\n",
    "        'White rust']\n",
    " \n",
    "data = [446, 788, 346, 436]\n",
    " \n",
    "# Creating explode data\n",
    "explode = (0.1, 0.0, 0.2, 0.3)\n",
    " \n",
    "# Creating color parameters\n",
    "colors = ( \"orange\", \"cyan\", \"brown\",\n",
    "          \"grey\")\n",
    " \n",
    "# Wedge properties\n",
    "wp = { 'linewidth' : 1, 'edgecolor' : \"green\" }\n",
    " \n",
    "# Creating autocpt arguments\n",
    "def func(pct, allvalues):\n",
    "    absolute = int(pct / 100.*np.sum(allvalues))\n",
    "    return \"{:.1f}%\\n({:d})\".format(pct, absolute)\n",
    " \n",
    "# Creating plot\n",
    "fig, ax = plt.subplots(figsize =(10, 7))\n",
    "wedges, texts, autotexts = ax.pie(data,\n",
    "                                  autopct = lambda pct: func(pct, data),\n",
    "                                  explode = explode,\n",
    "                                  labels = images,\n",
    "                                  shadow = True,\n",
    "                                  colors = colors,\n",
    "                                  startangle = 90,\n",
    "                                  wedgeprops = wp,\n",
    "                                  textprops = dict(color =\"Blue\"))\n",
    " \n",
    "# Adding legend\n",
    "ax.legend(wedges, images,\n",
    "          title =\"spinach dataset\",\n",
    "          loc =\"center left\",\n",
    "          bbox_to_anchor =(1, 0, 0.5, 1))\n",
    " \n",
    "plt.setp(autotexts, size = 8, weight =\"bold\")\n",
    "ax.set_title(\"Spinach Data set\")\n",
    " \n",
    "# show plot\n",
    "plt.show()"
   ]
  },
  {
   "cell_type": "markdown",
   "id": "09691eb0",
   "metadata": {},
   "source": [
    "# MOdel_1. CNN"
   ]
  },
  {
   "cell_type": "code",
   "execution_count": 11,
   "id": "9b770289",
   "metadata": {},
   "outputs": [
    {
     "name": "stdout",
     "output_type": "stream",
     "text": [
      "Epoch 1/20\n",
      "48/48 [==============================] - 44s 890ms/step - loss: 1.1383 - accuracy: 0.4788 - val_loss: 0.7977 - val_accuracy: 0.5853\n",
      "Epoch 2/20\n",
      "48/48 [==============================] - 32s 657ms/step - loss: 0.7728 - accuracy: 0.6065 - val_loss: 0.7667 - val_accuracy: 0.6131\n",
      "Epoch 3/20\n",
      "48/48 [==============================] - 25s 517ms/step - loss: 0.6994 - accuracy: 0.6422 - val_loss: 0.6295 - val_accuracy: 0.7024\n",
      "Epoch 4/20\n",
      "48/48 [==============================] - 31s 645ms/step - loss: 0.6172 - accuracy: 0.6991 - val_loss: 0.7057 - val_accuracy: 0.7222\n",
      "Epoch 5/20\n",
      "48/48 [==============================] - 31s 641ms/step - loss: 0.6181 - accuracy: 0.7163 - val_loss: 0.7254 - val_accuracy: 0.6984\n",
      "Epoch 6/20\n",
      "48/48 [==============================] - 29s 593ms/step - loss: 0.5962 - accuracy: 0.7255 - val_loss: 0.5943 - val_accuracy: 0.7421\n",
      "Epoch 7/20\n",
      "48/48 [==============================] - 31s 648ms/step - loss: 0.4833 - accuracy: 0.7798 - val_loss: 0.4708 - val_accuracy: 0.7996\n",
      "Epoch 8/20\n",
      "48/48 [==============================] - 30s 619ms/step - loss: 0.4397 - accuracy: 0.7970 - val_loss: 0.4712 - val_accuracy: 0.7956\n",
      "Epoch 9/20\n",
      "48/48 [==============================] - 30s 615ms/step - loss: 0.4022 - accuracy: 0.8267 - val_loss: 0.5315 - val_accuracy: 0.7599\n",
      "Epoch 10/20\n",
      "48/48 [==============================] - 28s 576ms/step - loss: 0.3122 - accuracy: 0.8750 - val_loss: 0.4962 - val_accuracy: 0.8095\n",
      "Epoch 11/20\n",
      "48/48 [==============================] - 28s 574ms/step - loss: 0.3696 - accuracy: 0.8505 - val_loss: 0.5397 - val_accuracy: 0.8036\n",
      "Epoch 12/20\n",
      "48/48 [==============================] - 28s 577ms/step - loss: 0.2674 - accuracy: 0.8909 - val_loss: 0.5665 - val_accuracy: 0.7778\n",
      "Epoch 13/20\n",
      "48/48 [==============================] - 28s 580ms/step - loss: 0.2508 - accuracy: 0.9061 - val_loss: 0.5506 - val_accuracy: 0.7937\n",
      "Epoch 14/20\n",
      "48/48 [==============================] - 30s 632ms/step - loss: 0.1851 - accuracy: 0.9233 - val_loss: 0.4203 - val_accuracy: 0.8353\n",
      "Epoch 15/20\n",
      "48/48 [==============================] - 28s 577ms/step - loss: 0.1368 - accuracy: 0.9464 - val_loss: 0.5342 - val_accuracy: 0.8155\n",
      "Epoch 16/20\n",
      "48/48 [==============================] - 28s 590ms/step - loss: 0.1024 - accuracy: 0.9630 - val_loss: 0.5860 - val_accuracy: 0.8294\n",
      "Epoch 17/20\n",
      "48/48 [==============================] - 33s 698ms/step - loss: 0.0835 - accuracy: 0.9676 - val_loss: 0.5229 - val_accuracy: 0.8333\n",
      "Epoch 18/20\n",
      "48/48 [==============================] - 28s 588ms/step - loss: 0.0513 - accuracy: 0.9835 - val_loss: 0.6677 - val_accuracy: 0.8353\n",
      "Epoch 19/20\n",
      "48/48 [==============================] - 29s 602ms/step - loss: 0.0423 - accuracy: 0.9861 - val_loss: 0.5800 - val_accuracy: 0.8651\n",
      "Epoch 20/20\n",
      "48/48 [==============================] - 33s 685ms/step - loss: 0.1700 - accuracy: 0.9418 - val_loss: 0.6592 - val_accuracy: 0.7996\n"
     ]
    }
   ],
   "source": [
    "cnn=Sequential()\n",
    "cnn.add(Conv2D(32, kernel_size=(3, 3), activation='relu'))\n",
    "cnn.add(MaxPooling2D(3,3))\n",
    "cnn.add(Conv2D(32, kernel_size=(3, 3), activation='relu'))\n",
    "cnn.add(MaxPooling2D(3,3))\n",
    "cnn.add(Conv2D(64, kernel_size=(3, 3), activation='relu'))\n",
    "cnn.add(MaxPooling2D(3,3))\n",
    "\n",
    "cnn.add(Flatten(input_shape=x_train.shape[1:] ))\n",
    "\n",
    "cnn.add(Dense(512,activation='relu'))\n",
    "cnn.add(Dropout(0.2))\n",
    "cnn.add(Dense(128,activation='relu'))\n",
    "\n",
    "cnn.add(Dense(9,activation='softmax'))\n",
    "\n",
    "cnn.compile(optimizer='Adam',\n",
    "              loss=tf.keras.losses.SparseCategoricalCrossentropy(from_logits=False),\n",
    "              metrics=['accuracy'])\n",
    "\n",
    "history=cnn.fit(x_train,\n",
    "                y_train,\n",
    "                epochs=20,  #20\n",
    "                batch_size=32,  #15\n",
    "                validation_data=(x_test,y_test) )"
   ]
  },
  {
   "cell_type": "code",
   "execution_count": 12,
   "id": "7a9c000b",
   "metadata": {},
   "outputs": [
    {
     "name": "stdout",
     "output_type": "stream",
     "text": [
      "Model: \"sequential\"\n",
      "_________________________________________________________________\n",
      " Layer (type)                Output Shape              Param #   \n",
      "=================================================================\n",
      " conv2d (Conv2D)             (None, 222, 222, 32)      896       \n",
      "                                                                 \n",
      " max_pooling2d (MaxPooling2D  (None, 74, 74, 32)       0         \n",
      " )                                                               \n",
      "                                                                 \n",
      " conv2d_1 (Conv2D)           (None, 72, 72, 32)        9248      \n",
      "                                                                 \n",
      " max_pooling2d_1 (MaxPooling  (None, 24, 24, 32)       0         \n",
      " 2D)                                                             \n",
      "                                                                 \n",
      " conv2d_2 (Conv2D)           (None, 22, 22, 64)        18496     \n",
      "                                                                 \n",
      " max_pooling2d_2 (MaxPooling  (None, 7, 7, 64)         0         \n",
      " 2D)                                                             \n",
      "                                                                 \n",
      " flatten (Flatten)           (None, 3136)              0         \n",
      "                                                                 \n",
      " dense (Dense)               (None, 512)               1606144   \n",
      "                                                                 \n",
      " dropout (Dropout)           (None, 512)               0         \n",
      "                                                                 \n",
      " dense_1 (Dense)             (None, 128)               65664     \n",
      "                                                                 \n",
      " dense_2 (Dense)             (None, 9)                 1161      \n",
      "                                                                 \n",
      "=================================================================\n",
      "Total params: 1,701,609\n",
      "Trainable params: 1,701,609\n",
      "Non-trainable params: 0\n",
      "_________________________________________________________________\n",
      "--------------------------------------------------------------------------------\n",
      "Accuracy Found:  0.7996031746031746\n",
      "--------------------------------------------------------------------------------\n",
      "Confusion Matrix:\n",
      " [[ 66   2  10  53]\n",
      " [  1 191   0   1]\n",
      " [  3   0  59  15]\n",
      " [  6   0  10  87]]\n",
      "--------------------------------------------------------------------------------\n",
      "Classification Report:\n",
      "               precision    recall  f1-score   support\n",
      "\n",
      "           0       0.87      0.50      0.64       131\n",
      "           1       0.99      0.99      0.99       193\n",
      "           2       0.75      0.77      0.76        77\n",
      "           3       0.56      0.84      0.67       103\n",
      "\n",
      "    accuracy                           0.80       504\n",
      "   macro avg       0.79      0.78      0.76       504\n",
      "weighted avg       0.83      0.80      0.80       504\n",
      "\n",
      "--------------------------------------------------------------------------------\n"
     ]
    },
    {
     "data": {
      "image/png": "[encoded data removed]",
      "text/plain": [
       "<Figure size 360x360 with 1 Axes>"
      ]
     },
     "metadata": {
      "needs_background": "light"
     },
     "output_type": "display_data"
    },
    {
     "data": {
      "image/png": "[encoded data removed]",
      "text/plain": [
       "<Figure size 360x360 with 1 Axes>"
      ]
     },
     "metadata": {
      "needs_background": "light"
     },
     "output_type": "display_data"
    }
   ],
   "source": [
    "cnn.summary()\n",
    "\n",
    "y_pred=cnn.predict(x_test)\n",
    "\n",
    "y_pred1=np.argmax(y_pred,axis=1)\n",
    "\n",
    "print(\"-\"*80)\n",
    "print(\"Accuracy Found: \",accuracy_score(y_test,y_pred1))\n",
    "\n",
    "print(\"-\"*80)\n",
    "print(\"Confusion Matrix:\\n\",confusion_matrix(y_test,y_pred1)) \n",
    "print(\"-\"*80)\n",
    "print(\"Classification Report:\\n\",classification_report(y_test,y_pred1))\n",
    "print(\"-\"*80)\n",
    "\n",
    "plt.figure(figsize=(5,5))\n",
    "plt.title('Loss Comparison',fontsize=15)\n",
    "plt.plot(history.history['loss'],)\n",
    "plt.plot(history.history['val_loss'])\n",
    "plt.legend(['Training Loss','Validation Loss'])\n",
    "plt.xlabel(\"Epochs\")\n",
    "plt.ylabel(\"Error rate\")\n",
    "plt.show()\n",
    "\n",
    "\n",
    "plt.figure(figsize=(5,5))\n",
    "plt.title('Accuracy comparison ',fontsize=15)\n",
    "plt.plot(history.history['accuracy'],)\n",
    "plt.plot(history.history['val_accuracy'])\n",
    "plt.legend(['Training Acc','Validation Acc'])\n",
    "plt.xlabel(\"Epochs\")\n",
    "plt.ylabel(\"Accuracy rate\")\n",
    "plt.show()"
   ]
  },
  {
   "cell_type": "markdown",
   "id": "d1d683dc",
   "metadata": {},
   "source": [
    "# Model_2. VGG19"
   ]
  },
  {
   "cell_type": "code",
   "execution_count": 13,
   "id": "2524f328",
   "metadata": {},
   "outputs": [
    {
     "name": "stdout",
     "output_type": "stream",
     "text": [
      "Epoch 1/10\n",
      "48/48 [==============================] - 246s 5s/step - loss: 1.2361 - accuracy: 0.6567 - val_loss: 0.5480 - val_accuracy: 0.7817\n",
      "Epoch 2/10\n",
      "48/48 [==============================] - 215s 5s/step - loss: 0.3450 - accuracy: 0.8618 - val_loss: 0.3270 - val_accuracy: 0.8790\n",
      "Epoch 3/10\n",
      "48/48 [==============================] - 215s 4s/step - loss: 0.1729 - accuracy: 0.9266 - val_loss: 0.5593 - val_accuracy: 0.8175\n",
      "Epoch 4/10\n",
      "48/48 [==============================] - 220s 5s/step - loss: 0.1205 - accuracy: 0.9570 - val_loss: 0.3905 - val_accuracy: 0.8730\n",
      "Epoch 5/10\n",
      "48/48 [==============================] - 214s 4s/step - loss: 0.0847 - accuracy: 0.9769 - val_loss: 0.4113 - val_accuracy: 0.8690\n",
      "Epoch 6/10\n",
      "48/48 [==============================] - 213s 4s/step - loss: 0.0668 - accuracy: 0.9775 - val_loss: 0.3720 - val_accuracy: 0.8829\n",
      "Epoch 7/10\n",
      "48/48 [==============================] - 213s 4s/step - loss: 0.0315 - accuracy: 0.9881 - val_loss: 0.3194 - val_accuracy: 0.8968\n",
      "Epoch 8/10\n",
      "48/48 [==============================] - 212s 4s/step - loss: 0.0122 - accuracy: 0.9960 - val_loss: 0.2842 - val_accuracy: 0.9087\n",
      "Epoch 9/10\n",
      "48/48 [==============================] - 211s 4s/step - loss: 0.0025 - accuracy: 0.9993 - val_loss: 0.3178 - val_accuracy: 0.9187\n",
      "Epoch 10/10\n",
      "48/48 [==============================] - 211s 4s/step - loss: 0.0015 - accuracy: 1.0000 - val_loss: 0.3713 - val_accuracy: 0.8988\n"
     ]
    }
   ],
   "source": [
    "tl_model=VGG19(weights='imagenet',include_top=False, input_shape=x_train.shape[1:])\n",
    "\n",
    "\n",
    "flat1=Flatten()(tl_model.layers[-1].output)\n",
    "class1=Dense(512,activation='relu')(flat1)\n",
    "output=Dense(11,activation='softmax')(class1)\n",
    "\n",
    "tl_model=Model(inputs=tl_model.inputs,outputs=output)\n",
    "\n",
    "\n",
    "for layer in tl_model.layers[:20]:\n",
    "    layer.trainable = False\n",
    "for layer in tl_model.layers[20:]:\n",
    "    layer.trainable = True\n",
    "    \n",
    "tl_model.compile(optimizer='Adam',loss=tf.keras.losses.SparseCategoricalCrossentropy(from_logits=False),metrics=['accuracy'])\n",
    "\n",
    "history2=tl_model.fit(x_train,\n",
    "                     y_train,\n",
    "                     verbose=1,\n",
    "                     epochs=10,  #20\n",
    "                     batch_size=32,  #15\n",
    "                     validation_data=(x_test,y_test) )"
   ]
  },
  {
   "cell_type": "code",
   "execution_count": 14,
   "id": "4ffa80de",
   "metadata": {},
   "outputs": [
    {
     "name": "stdout",
     "output_type": "stream",
     "text": [
      "Model: \"model\"\n",
      "_________________________________________________________________\n",
      " Layer (type)                Output Shape              Param #   \n",
      "=================================================================\n",
      " input_1 (InputLayer)        [(None, 224, 224, 3)]     0         \n",
      "                                                                 \n",
      " block1_conv1 (Conv2D)       (None, 224, 224, 64)      1792      \n",
      "                                                                 \n",
      " block1_conv2 (Conv2D)       (None, 224, 224, 64)      36928     \n",
      "                                                                 \n",
      " block1_pool (MaxPooling2D)  (None, 112, 112, 64)      0         \n",
      "                                                                 \n",
      " block2_conv1 (Conv2D)       (None, 112, 112, 128)     73856     \n",
      "                                                                 \n",
      " block2_conv2 (Conv2D)       (None, 112, 112, 128)     147584    \n",
      "                                                                 \n",
      " block2_pool (MaxPooling2D)  (None, 56, 56, 128)       0         \n",
      "                                                                 \n",
      " block3_conv1 (Conv2D)       (None, 56, 56, 256)       295168    \n",
      "                                                                 \n",
      " block3_conv2 (Conv2D)       (None, 56, 56, 256)       590080    \n",
      "                                                                 \n",
      " block3_conv3 (Conv2D)       (None, 56, 56, 256)       590080    \n",
      "                                                                 \n",
      " block3_conv4 (Conv2D)       (None, 56, 56, 256)       590080    \n",
      "                                                                 \n",
      " block3_pool (MaxPooling2D)  (None, 28, 28, 256)       0         \n",
      "                                                                 \n",
      " block4_conv1 (Conv2D)       (None, 28, 28, 512)       1180160   \n",
      "                                                                 \n",
      " block4_conv2 (Conv2D)       (None, 28, 28, 512)       2359808   \n",
      "                                                                 \n",
      " block4_conv3 (Conv2D)       (None, 28, 28, 512)       2359808   \n",
      "                                                                 \n",
      " block4_conv4 (Conv2D)       (None, 28, 28, 512)       2359808   \n",
      "                                                                 \n",
      " block4_pool (MaxPooling2D)  (None, 14, 14, 512)       0         \n",
      "                                                                 \n",
      " block5_conv1 (Conv2D)       (None, 14, 14, 512)       2359808   \n",
      "                                                                 \n",
      " block5_conv2 (Conv2D)       (None, 14, 14, 512)       2359808   \n",
      "                                                                 \n",
      " block5_conv3 (Conv2D)       (None, 14, 14, 512)       2359808   \n",
      "                                                                 \n",
      " block5_conv4 (Conv2D)       (None, 14, 14, 512)       2359808   \n",
      "                                                                 \n",
      " block5_pool (MaxPooling2D)  (None, 7, 7, 512)         0         \n",
      "                                                                 \n",
      " flatten_1 (Flatten)         (None, 25088)             0         \n",
      "                                                                 \n",
      " dense_3 (Dense)             (None, 512)               12845568  \n",
      "                                                                 \n",
      " dense_4 (Dense)             (None, 11)                5643      \n",
      "                                                                 \n",
      "=================================================================\n",
      "Total params: 32,875,595\n",
      "Trainable params: 15,211,019\n",
      "Non-trainable params: 17,664,576\n",
      "_________________________________________________________________\n",
      "--------------------------------------------------------------------------------\n",
      "Accuracy Found:  0.8988095238095238\n",
      "--------------------------------------------------------------------------------\n",
      "Confusion Matrix:\n",
      " [[109   2   1  19]\n",
      " [  0 193   0   0]\n",
      " [  9   0  58  10]\n",
      " [  6   1   3  93]]\n",
      "--------------------------------------------------------------------------------\n",
      "Classification Report:\n",
      "               precision    recall  f1-score   support\n",
      "\n",
      "           0       0.88      0.83      0.85       131\n",
      "           1       0.98      1.00      0.99       193\n",
      "           2       0.94      0.75      0.83        77\n",
      "           3       0.76      0.90      0.83       103\n",
      "\n",
      "    accuracy                           0.90       504\n",
      "   macro avg       0.89      0.87      0.88       504\n",
      "weighted avg       0.90      0.90      0.90       504\n",
      "\n",
      "--------------------------------------------------------------------------------\n"
     ]
    },
    {
     "data": {
      "image/png": "[encoded data removed]",
      "text/plain": [
       "<Figure size 432x288 with 1 Axes>"
      ]
     },
     "metadata": {
      "needs_background": "light"
     },
     "output_type": "display_data"
    },
    {
     "data": {
      "image/png": "[encoded data removed]",
      "text/plain": [
       "<Figure size 432x288 with 1 Axes>"
      ]
     },
     "metadata": {
      "needs_background": "light"
     },
     "output_type": "display_data"
    }
   ],
   "source": [
    "tl_model.summary()\n",
    "\n",
    "y_pred2=tl_model.predict(x_test)\n",
    "\n",
    "y_pred2=np.argmax(y_pred2,axis=1)\n",
    "\n",
    "print(\"-\"*80)\n",
    "print(\"Accuracy Found: \",accuracy_score(y_test,y_pred2))\n",
    "\n",
    "print(\"-\"*80)\n",
    "print(\"Confusion Matrix:\\n\",confusion_matrix(y_test,y_pred2)) \n",
    "print(\"-\"*80)\n",
    "print(\"Classification Report:\\n\",classification_report(y_test,y_pred2))\n",
    "print(\"-\"*80)\n",
    "\n",
    "#plt.figure(figsize=(15,9))\n",
    "plt.title('Loss Comparison',fontsize=20)\n",
    "plt.plot(history2.history['loss'],)\n",
    "plt.plot(history2.history['val_loss'])\n",
    "plt.legend(['Training Loss','Validation Loss'])\n",
    "plt.xlabel(\"Epochs\")\n",
    "plt.ylabel(\"Error rate\")\n",
    "plt.show()\n",
    "\n",
    "\n",
    "#plt.figure(figsize=(15,9))\n",
    "plt.title('Accuracy comparison ',fontsize=20)\n",
    "plt.plot(history2.history['accuracy'],)\n",
    "plt.plot(history2.history['val_accuracy'])\n",
    "plt.legend(['Training Acc','Validation Acc'])\n",
    "plt.xlabel(\"Epochs\")\n",
    "plt.ylabel(\"Accuracy rate\")\n",
    "plt.show()"
   ]
  },
  {
   "cell_type": "markdown",
   "id": "c4c89774",
   "metadata": {},
   "source": [
    "# Model_3. ResNet50V2"
   ]
  },
  {
   "cell_type": "code",
   "execution_count": 15,
   "id": "a219c259",
   "metadata": {},
   "outputs": [
    {
     "name": "stdout",
     "output_type": "stream",
     "text": [
      "Epoch 1/10\n",
      "48/48 [==============================] - 462s 9s/step - loss: 2.1913 - accuracy: 0.6138 - val_loss: 5236102.0000 - val_accuracy: 0.1528\n",
      "Epoch 2/10\n",
      "48/48 [==============================] - 423s 9s/step - loss: 2.2330 - accuracy: 0.6389 - val_loss: 1295652480.0000 - val_accuracy: 0.3710\n",
      "Epoch 3/10\n",
      "48/48 [==============================] - 420s 9s/step - loss: 6.1837 - accuracy: 0.5959 - val_loss: 144769648.0000 - val_accuracy: 0.2063\n",
      "Epoch 4/10\n",
      "48/48 [==============================] - 419s 9s/step - loss: 2.6486 - accuracy: 0.6078 - val_loss: 2120.2988 - val_accuracy: 0.2202\n",
      "Epoch 5/10\n",
      "48/48 [==============================] - 417s 9s/step - loss: 1.2421 - accuracy: 0.6085 - val_loss: 17.0214 - val_accuracy: 0.5774\n",
      "Epoch 6/10\n",
      "48/48 [==============================] - 377s 8s/step - loss: 1.2618 - accuracy: 0.6257 - val_loss: 13.6343 - val_accuracy: 0.6032\n",
      "Epoch 7/10\n",
      "48/48 [==============================] - 374s 8s/step - loss: 1.1292 - accuracy: 0.6356 - val_loss: 36.6877 - val_accuracy: 0.6369\n",
      "Epoch 8/10\n",
      "48/48 [==============================] - 374s 8s/step - loss: 0.9348 - accuracy: 0.6237 - val_loss: 11.1817 - val_accuracy: 0.6151\n",
      "Epoch 9/10\n",
      "48/48 [==============================] - 350s 7s/step - loss: 0.8654 - accuracy: 0.6349 - val_loss: 0.7917 - val_accuracy: 0.6012\n",
      "Epoch 10/10\n",
      "48/48 [==============================] - 361s 8s/step - loss: 0.7933 - accuracy: 0.6462 - val_loss: 0.8705 - val_accuracy: 0.6647\n"
     ]
    }
   ],
   "source": [
    "Resnet_model=tf.keras.applications.ResNet50V2(weights='imagenet',include_top=False, input_shape=x_train.shape[1:])\n",
    "\n",
    "\n",
    "flat1=Flatten()(Resnet_model.layers[-1].output)\n",
    "class1=Dense(512,activation='relu')(flat1)\n",
    "output=Dense(11,activation='softmax')(class1)\n",
    "\n",
    "Resnet_model=Model(inputs=Resnet_model.inputs,outputs=output)\n",
    "\n",
    "\n",
    "for layer in Resnet_model.layers[:20]:\n",
    "    layer.trainable = False\n",
    "for layer in Resnet_model.layers[20:]:\n",
    "    layer.trainable = True\n",
    "    \n",
    "Resnet_model.compile(optimizer='Adam',loss=tf.keras.losses.SparseCategoricalCrossentropy(from_logits=False),metrics=['accuracy'])\n",
    "\n",
    "history2=Resnet_model.fit(x_train,\n",
    "                     y_train,\n",
    "                     verbose=1,\n",
    "                     epochs=10,  #20\n",
    "                     batch_size=32,  #15\n",
    "                     validation_data=(x_test,y_test) )"
   ]
  },
  {
   "cell_type": "code",
   "execution_count": 16,
   "id": "f966218d",
   "metadata": {},
   "outputs": [
    {
     "name": "stdout",
     "output_type": "stream",
     "text": [
      "Model: \"model_1\"\n",
      "__________________________________________________________________________________________________\n",
      " Layer (type)                   Output Shape         Param #     Connected to                     \n",
      "==================================================================================================\n",
      " input_2 (InputLayer)           [(None, 224, 224, 3  0           []                               \n",
      "                                )]                                                                \n",
      "                                                                                                  \n",
      " conv1_pad (ZeroPadding2D)      (None, 230, 230, 3)  0           ['input_2[0][0]']                \n",
      "                                                                                                  \n",
      " conv1_conv (Conv2D)            (None, 112, 112, 64  9472        ['conv1_pad[0][0]']              \n",
      "                                )                                                                 \n",
      "                                                                                                  \n",
      " pool1_pad (ZeroPadding2D)      (None, 114, 114, 64  0           ['conv1_conv[0][0]']             \n",
      "                                )                                                                 \n",
      "                                                                                                  \n",
      " pool1_pool (MaxPooling2D)      (None, 56, 56, 64)   0           ['pool1_pad[0][0]']              \n",
      "                                                                                                  \n",
      " conv2_block1_preact_bn (BatchN  (None, 56, 56, 64)  256         ['pool1_pool[0][0]']             \n",
      " ormalization)                                                                                    \n",
      "                                                                                                  \n",
      " conv2_block1_preact_relu (Acti  (None, 56, 56, 64)  0           ['conv2_block1_preact_bn[0][0]'] \n",
      " vation)                                                                                          \n",
      "                                                                                                  \n",
      " conv2_block1_1_conv (Conv2D)   (None, 56, 56, 64)   4096        ['conv2_block1_preact_relu[0][0]'\n",
      "                                                                 ]                                \n",
      "                                                                                                  \n",
      " conv2_block1_1_bn (BatchNormal  (None, 56, 56, 64)  256         ['conv2_block1_1_conv[0][0]']    \n",
      " ization)                                                                                         \n",
      "                                                                                                  \n",
      " conv2_block1_1_relu (Activatio  (None, 56, 56, 64)  0           ['conv2_block1_1_bn[0][0]']      \n",
      " n)                                                                                               \n",
      "                                                                                                  \n",
      " conv2_block1_2_pad (ZeroPaddin  (None, 58, 58, 64)  0           ['conv2_block1_1_relu[0][0]']    \n",
      " g2D)                                                                                             \n",
      "                                                                                                  \n",
      " conv2_block1_2_conv (Conv2D)   (None, 56, 56, 64)   36864       ['conv2_block1_2_pad[0][0]']     \n",
      "                                                                                                  \n",
      " conv2_block1_2_bn (BatchNormal  (None, 56, 56, 64)  256         ['conv2_block1_2_conv[0][0]']    \n",
      " ization)                                                                                         \n",
      "                                                                                                  \n",
      " conv2_block1_2_relu (Activatio  (None, 56, 56, 64)  0           ['conv2_block1_2_bn[0][0]']      \n",
      " n)                                                                                               \n",
      "                                                                                                  \n",
      " conv2_block1_0_conv (Conv2D)   (None, 56, 56, 256)  16640       ['conv2_block1_preact_relu[0][0]'\n",
      "                                                                 ]                                \n",
      "                                                                                                  \n",
      " conv2_block1_3_conv (Conv2D)   (None, 56, 56, 256)  16640       ['conv2_block1_2_relu[0][0]']    \n",
      "                                                                                                  \n",
      " conv2_block1_out (Add)         (None, 56, 56, 256)  0           ['conv2_block1_0_conv[0][0]',    \n",
      "                                                                  'conv2_block1_3_conv[0][0]']    \n",
      "                                                                                                  \n",
      " conv2_block2_preact_bn (BatchN  (None, 56, 56, 256)  1024       ['conv2_block1_out[0][0]']       \n",
      " ormalization)                                                                                    \n",
      "                                                                                                  \n",
      " conv2_block2_preact_relu (Acti  (None, 56, 56, 256)  0          ['conv2_block2_preact_bn[0][0]'] \n",
      " vation)                                                                                          \n",
      "                                                                                                  \n",
      " conv2_block2_1_conv (Conv2D)   (None, 56, 56, 64)   16384       ['conv2_block2_preact_relu[0][0]'\n",
      "                                                                 ]                                \n",
      "                                                                                                  \n",
      " conv2_block2_1_bn (BatchNormal  (None, 56, 56, 64)  256         ['conv2_block2_1_conv[0][0]']    \n",
      " ization)                                                                                         \n",
      "                                                                                                  \n",
      " conv2_block2_1_relu (Activatio  (None, 56, 56, 64)  0           ['conv2_block2_1_bn[0][0]']      \n",
      " n)                                                                                               \n",
      "                                                                                                  \n",
      " conv2_block2_2_pad (ZeroPaddin  (None, 58, 58, 64)  0           ['conv2_block2_1_relu[0][0]']    \n",
      " g2D)                                                                                             \n",
      "                                                                                                  \n",
      " conv2_block2_2_conv (Conv2D)   (None, 56, 56, 64)   36864       ['conv2_block2_2_pad[0][0]']     \n",
      "                                                                                                  \n",
      " conv2_block2_2_bn (BatchNormal  (None, 56, 56, 64)  256         ['conv2_block2_2_conv[0][0]']    \n",
      " ization)                                                                                         \n",
      "                                                                                                  \n",
      " conv2_block2_2_relu (Activatio  (None, 56, 56, 64)  0           ['conv2_block2_2_bn[0][0]']      \n",
      " n)                                                                                               \n",
      "                                                                                                  \n",
      " conv2_block2_3_conv (Conv2D)   (None, 56, 56, 256)  16640       ['conv2_block2_2_relu[0][0]']    \n",
      "                                                                                                  \n",
      " conv2_block2_out (Add)         (None, 56, 56, 256)  0           ['conv2_block1_out[0][0]',       \n",
      "                                                                  'conv2_block2_3_conv[0][0]']    \n",
      "                                                                                                  \n",
      " conv2_block3_preact_bn (BatchN  (None, 56, 56, 256)  1024       ['conv2_block2_out[0][0]']       \n",
      " ormalization)                                                                                    \n",
      "                                                                                                  \n",
      " conv2_block3_preact_relu (Acti  (None, 56, 56, 256)  0          ['conv2_block3_preact_bn[0][0]'] \n",
      " vation)                                                                                          \n",
      "                                                                                                  \n",
      " conv2_block3_1_conv (Conv2D)   (None, 56, 56, 64)   16384       ['conv2_block3_preact_relu[0][0]'\n",
      "                                                                 ]                                \n",
      "                                                                                                  \n",
      " conv2_block3_1_bn (BatchNormal  (None, 56, 56, 64)  256         ['conv2_block3_1_conv[0][0]']    \n",
      " ization)                                                                                         \n",
      "                                                                                                  \n",
      " conv2_block3_1_relu (Activatio  (None, 56, 56, 64)  0           ['conv2_block3_1_bn[0][0]']      \n",
      " n)                                                                                               \n",
      "                                                                                                  \n",
      " conv2_block3_2_pad (ZeroPaddin  (None, 58, 58, 64)  0           ['conv2_block3_1_relu[0][0]']    \n",
      " g2D)                                                                                             \n",
      "                                                                                                  \n",
      " conv2_block3_2_conv (Conv2D)   (None, 28, 28, 64)   36864       ['conv2_block3_2_pad[0][0]']     \n",
      "                                                                                                  \n",
      " conv2_block3_2_bn (BatchNormal  (None, 28, 28, 64)  256         ['conv2_block3_2_conv[0][0]']    \n",
      " ization)                                                                                         \n",
      "                                                                                                  \n",
      " conv2_block3_2_relu (Activatio  (None, 28, 28, 64)  0           ['conv2_block3_2_bn[0][0]']      \n",
      " n)                                                                                               \n",
      "                                                                                                  \n",
      " max_pooling2d_3 (MaxPooling2D)  (None, 28, 28, 256)  0          ['conv2_block2_out[0][0]']       \n",
      "                                                                                                  \n",
      " conv2_block3_3_conv (Conv2D)   (None, 28, 28, 256)  16640       ['conv2_block3_2_relu[0][0]']    \n",
      "                                                                                                  \n",
      " conv2_block3_out (Add)         (None, 28, 28, 256)  0           ['max_pooling2d_3[0][0]',        \n",
      "                                                                  'conv2_block3_3_conv[0][0]']    \n",
      "                                                                                                  \n",
      " conv3_block1_preact_bn (BatchN  (None, 28, 28, 256)  1024       ['conv2_block3_out[0][0]']       \n",
      " ormalization)                                                                                    \n",
      "                                                                                                  \n",
      " conv3_block1_preact_relu (Acti  (None, 28, 28, 256)  0          ['conv3_block1_preact_bn[0][0]'] \n",
      " vation)                                                                                          \n",
      "                                                                                                  \n",
      " conv3_block1_1_conv (Conv2D)   (None, 28, 28, 128)  32768       ['conv3_block1_preact_relu[0][0]'\n",
      "                                                                 ]                                \n",
      "                                                                                                  \n",
      " conv3_block1_1_bn (BatchNormal  (None, 28, 28, 128)  512        ['conv3_block1_1_conv[0][0]']    \n",
      " ization)                                                                                         \n",
      "                                                                                                  \n",
      " conv3_block1_1_relu (Activatio  (None, 28, 28, 128)  0          ['conv3_block1_1_bn[0][0]']      \n",
      " n)                                                                                               \n",
      "                                                                                                  \n",
      " conv3_block1_2_pad (ZeroPaddin  (None, 30, 30, 128)  0          ['conv3_block1_1_relu[0][0]']    \n",
      " g2D)                                                                                             \n",
      "                                                                                                  \n",
      " conv3_block1_2_conv (Conv2D)   (None, 28, 28, 128)  147456      ['conv3_block1_2_pad[0][0]']     \n",
      "                                                                                                  \n",
      " conv3_block1_2_bn (BatchNormal  (None, 28, 28, 128)  512        ['conv3_block1_2_conv[0][0]']    \n",
      " ization)                                                                                         \n",
      "                                                                                                  \n",
      " conv3_block1_2_relu (Activatio  (None, 28, 28, 128)  0          ['conv3_block1_2_bn[0][0]']      \n",
      " n)                                                                                               \n",
      "                                                                                                  \n",
      " conv3_block1_0_conv (Conv2D)   (None, 28, 28, 512)  131584      ['conv3_block1_preact_relu[0][0]'\n",
      "                                                                 ]                                \n",
      "                                                                                                  \n",
      " conv3_block1_3_conv (Conv2D)   (None, 28, 28, 512)  66048       ['conv3_block1_2_relu[0][0]']    \n",
      "                                                                                                  \n",
      " conv3_block1_out (Add)         (None, 28, 28, 512)  0           ['conv3_block1_0_conv[0][0]',    \n",
      "                                                                  'conv3_block1_3_conv[0][0]']    \n",
      "                                                                                                  \n",
      " conv3_block2_preact_bn (BatchN  (None, 28, 28, 512)  2048       ['conv3_block1_out[0][0]']       \n",
      " ormalization)                                                                                    \n",
      "                                                                                                  \n",
      " conv3_block2_preact_relu (Acti  (None, 28, 28, 512)  0          ['conv3_block2_preact_bn[0][0]'] \n",
      " vation)                                                                                          \n",
      "                                                                                                  \n",
      " conv3_block2_1_conv (Conv2D)   (None, 28, 28, 128)  65536       ['conv3_block2_preact_relu[0][0]'\n",
      "                                                                 ]                                \n",
      "                                                                                                  \n",
      " conv3_block2_1_bn (BatchNormal  (None, 28, 28, 128)  512        ['conv3_block2_1_conv[0][0]']    \n",
      " ization)                                                                                         \n",
      "                                                                                                  \n",
      " conv3_block2_1_relu (Activatio  (None, 28, 28, 128)  0          ['conv3_block2_1_bn[0][0]']      \n",
      " n)                                                                                               \n",
      "                                                                                                  \n",
      " conv3_block2_2_pad (ZeroPaddin  (None, 30, 30, 128)  0          ['conv3_block2_1_relu[0][0]']    \n",
      " g2D)                                                                                             \n",
      "                                                                                                  \n",
      " conv3_block2_2_conv (Conv2D)   (None, 28, 28, 128)  147456      ['conv3_block2_2_pad[0][0]']     \n",
      "                                                                                                  \n",
      " conv3_block2_2_bn (BatchNormal  (None, 28, 28, 128)  512        ['conv3_block2_2_conv[0][0]']    \n",
      " ization)                                                                                         \n",
      "                                                                                                  \n",
      " conv3_block2_2_relu (Activatio  (None, 28, 28, 128)  0          ['conv3_block2_2_bn[0][0]']      \n",
      " n)                                                                                               \n",
      "                                                                                                  \n",
      " conv3_block2_3_conv (Conv2D)   (None, 28, 28, 512)  66048       ['conv3_block2_2_relu[0][0]']    \n",
      "                                                                                                  \n",
      " conv3_block2_out (Add)         (None, 28, 28, 512)  0           ['conv3_block1_out[0][0]',       \n",
      "                                                                  'conv3_block2_3_conv[0][0]']    \n",
      "                                                                                                  \n",
      " conv3_block3_preact_bn (BatchN  (None, 28, 28, 512)  2048       ['conv3_block2_out[0][0]']       \n",
      " ormalization)                                                                                    \n",
      "                                                                                                  \n",
      " conv3_block3_preact_relu (Acti  (None, 28, 28, 512)  0          ['conv3_block3_preact_bn[0][0]'] \n",
      " vation)                                                                                          \n",
      "                                                                                                  \n",
      " conv3_block3_1_conv (Conv2D)   (None, 28, 28, 128)  65536       ['conv3_block3_preact_relu[0][0]'\n",
      "                                                                 ]                                \n",
      "                                                                                                  \n",
      " conv3_block3_1_bn (BatchNormal  (None, 28, 28, 128)  512        ['conv3_block3_1_conv[0][0]']    \n",
      " ization)                                                                                         \n",
      "                                                                                                  \n",
      " conv3_block3_1_relu (Activatio  (None, 28, 28, 128)  0          ['conv3_block3_1_bn[0][0]']      \n",
      " n)                                                                                               \n",
      "                                                                                                  \n",
      " conv3_block3_2_pad (ZeroPaddin  (None, 30, 30, 128)  0          ['conv3_block3_1_relu[0][0]']    \n",
      " g2D)                                                                                             \n",
      "                                                                                                  \n",
      " conv3_block3_2_conv (Conv2D)   (None, 28, 28, 128)  147456      ['conv3_block3_2_pad[0][0]']     \n",
      "                                                                                                  \n",
      " conv3_block3_2_bn (BatchNormal  (None, 28, 28, 128)  512        ['conv3_block3_2_conv[0][0]']    \n",
      " ization)                                                                                         \n",
      "                                                                                                  \n",
      " conv3_block3_2_relu (Activatio  (None, 28, 28, 128)  0          ['conv3_block3_2_bn[0][0]']      \n",
      " n)                                                                                               \n",
      "                                                                                                  \n",
      " conv3_block3_3_conv (Conv2D)   (None, 28, 28, 512)  66048       ['conv3_block3_2_relu[0][0]']    \n",
      "                                                                                                  \n",
      " conv3_block3_out (Add)         (None, 28, 28, 512)  0           ['conv3_block2_out[0][0]',       \n",
      "                                                                  'conv3_block3_3_conv[0][0]']    \n",
      "                                                                                                  \n",
      " conv3_block4_preact_bn (BatchN  (None, 28, 28, 512)  2048       ['conv3_block3_out[0][0]']       \n",
      " ormalization)                                                                                    \n",
      "                                                                                                  \n",
      " conv3_block4_preact_relu (Acti  (None, 28, 28, 512)  0          ['conv3_block4_preact_bn[0][0]'] \n",
      " vation)                                                                                          \n",
      "                                                                                                  \n",
      " conv3_block4_1_conv (Conv2D)   (None, 28, 28, 128)  65536       ['conv3_block4_preact_relu[0][0]'\n",
      "                                                                 ]                                \n",
      "                                                                                                  \n",
      " conv3_block4_1_bn (BatchNormal  (None, 28, 28, 128)  512        ['conv3_block4_1_conv[0][0]']    \n",
      " ization)                                                                                         \n",
      "                                                                                                  \n",
      " conv3_block4_1_relu (Activatio  (None, 28, 28, 128)  0          ['conv3_block4_1_bn[0][0]']      \n",
      " n)                                                                                               \n",
      "                                                                                                  \n",
      " conv3_block4_2_pad (ZeroPaddin  (None, 30, 30, 128)  0          ['conv3_block4_1_relu[0][0]']    \n",
      " g2D)                                                                                             \n",
      "                                                                                                  \n",
      " conv3_block4_2_conv (Conv2D)   (None, 14, 14, 128)  147456      ['conv3_block4_2_pad[0][0]']     \n",
      "                                                                                                  \n",
      " conv3_block4_2_bn (BatchNormal  (None, 14, 14, 128)  512        ['conv3_block4_2_conv[0][0]']    \n",
      " ization)                                                                                         \n",
      "                                                                                                  \n",
      " conv3_block4_2_relu (Activatio  (None, 14, 14, 128)  0          ['conv3_block4_2_bn[0][0]']      \n",
      " n)                                                                                               \n",
      "                                                                                                  \n",
      " max_pooling2d_4 (MaxPooling2D)  (None, 14, 14, 512)  0          ['conv3_block3_out[0][0]']       \n",
      "                                                                                                  \n",
      " conv3_block4_3_conv (Conv2D)   (None, 14, 14, 512)  66048       ['conv3_block4_2_relu[0][0]']    \n",
      "                                                                                                  \n",
      " conv3_block4_out (Add)         (None, 14, 14, 512)  0           ['max_pooling2d_4[0][0]',        \n",
      "                                                                  'conv3_block4_3_conv[0][0]']    \n",
      "                                                                                                  \n",
      " conv4_block1_preact_bn (BatchN  (None, 14, 14, 512)  2048       ['conv3_block4_out[0][0]']       \n",
      " ormalization)                                                                                    \n",
      "                                                                                                  \n",
      " conv4_block1_preact_relu (Acti  (None, 14, 14, 512)  0          ['conv4_block1_preact_bn[0][0]'] \n",
      " vation)                                                                                          \n",
      "                                                                                                  \n",
      " conv4_block1_1_conv (Conv2D)   (None, 14, 14, 256)  131072      ['conv4_block1_preact_relu[0][0]'\n",
      "                                                                 ]                                \n",
      "                                                                                                  \n",
      " conv4_block1_1_bn (BatchNormal  (None, 14, 14, 256)  1024       ['conv4_block1_1_conv[0][0]']    \n",
      " ization)                                                                                         \n",
      "                                                                                                  \n",
      " conv4_block1_1_relu (Activatio  (None, 14, 14, 256)  0          ['conv4_block1_1_bn[0][0]']      \n",
      " n)                                                                                               \n",
      "                                                                                                  \n",
      " conv4_block1_2_pad (ZeroPaddin  (None, 16, 16, 256)  0          ['conv4_block1_1_relu[0][0]']    \n",
      " g2D)                                                                                             \n",
      "                                                                                                  \n",
      " conv4_block1_2_conv (Conv2D)   (None, 14, 14, 256)  589824      ['conv4_block1_2_pad[0][0]']     \n",
      "                                                                                                  \n",
      " conv4_block1_2_bn (BatchNormal  (None, 14, 14, 256)  1024       ['conv4_block1_2_conv[0][0]']    \n",
      " ization)                                                                                         \n",
      "                                                                                                  \n",
      " conv4_block1_2_relu (Activatio  (None, 14, 14, 256)  0          ['conv4_block1_2_bn[0][0]']      \n",
      " n)                                                                                               \n",
      "                                                                                                  \n",
      " conv4_block1_0_conv (Conv2D)   (None, 14, 14, 1024  525312      ['conv4_block1_preact_relu[0][0]'\n",
      "                                )                                ]                                \n",
      "                                                                                                  \n",
      " conv4_block1_3_conv (Conv2D)   (None, 14, 14, 1024  263168      ['conv4_block1_2_relu[0][0]']    \n",
      "                                )                                                                 \n",
      "                                                                                                  \n",
      " conv4_block1_out (Add)         (None, 14, 14, 1024  0           ['conv4_block1_0_conv[0][0]',    \n",
      "                                )                                 'conv4_block1_3_conv[0][0]']    \n",
      "                                                                                                  \n",
      " conv4_block2_preact_bn (BatchN  (None, 14, 14, 1024  4096       ['conv4_block1_out[0][0]']       \n",
      " ormalization)                  )                                                                 \n",
      "                                                                                                  \n",
      " conv4_block2_preact_relu (Acti  (None, 14, 14, 1024  0          ['conv4_block2_preact_bn[0][0]'] \n",
      " vation)                        )                                                                 \n",
      "                                                                                                  \n",
      " conv4_block2_1_conv (Conv2D)   (None, 14, 14, 256)  262144      ['conv4_block2_preact_relu[0][0]'\n",
      "                                                                 ]                                \n",
      "                                                                                                  \n",
      " conv4_block2_1_bn (BatchNormal  (None, 14, 14, 256)  1024       ['conv4_block2_1_conv[0][0]']    \n",
      " ization)                                                                                         \n",
      "                                                                                                  \n",
      " conv4_block2_1_relu (Activatio  (None, 14, 14, 256)  0          ['conv4_block2_1_bn[0][0]']      \n",
      " n)                                                                                               \n",
      "                                                                                                  \n",
      " conv4_block2_2_pad (ZeroPaddin  (None, 16, 16, 256)  0          ['conv4_block2_1_relu[0][0]']    \n",
      " g2D)                                                                                             \n",
      "                                                                                                  \n",
      " conv4_block2_2_conv (Conv2D)   (None, 14, 14, 256)  589824      ['conv4_block2_2_pad[0][0]']     \n",
      "                                                                                                  \n",
      " conv4_block2_2_bn (BatchNormal  (None, 14, 14, 256)  1024       ['conv4_block2_2_conv[0][0]']    \n",
      " ization)                                                                                         \n",
      "                                                                                                  \n",
      " conv4_block2_2_relu (Activatio  (None, 14, 14, 256)  0          ['conv4_block2_2_bn[0][0]']      \n",
      " n)                                                                                               \n",
      "                                                                                                  \n",
      " conv4_block2_3_conv (Conv2D)   (None, 14, 14, 1024  263168      ['conv4_block2_2_relu[0][0]']    \n",
      "                                )                                                                 \n",
      "                                                                                                  \n",
      " conv4_block2_out (Add)         (None, 14, 14, 1024  0           ['conv4_block1_out[0][0]',       \n",
      "                                )                                 'conv4_block2_3_conv[0][0]']    \n",
      "                                                                                                  \n",
      " conv4_block3_preact_bn (BatchN  (None, 14, 14, 1024  4096       ['conv4_block2_out[0][0]']       \n",
      " ormalization)                  )                                                                 \n",
      "                                                                                                  \n",
      " conv4_block3_preact_relu (Acti  (None, 14, 14, 1024  0          ['conv4_block3_preact_bn[0][0]'] \n",
      " vation)                        )                                                                 \n",
      "                                                                                                  \n",
      " conv4_block3_1_conv (Conv2D)   (None, 14, 14, 256)  262144      ['conv4_block3_preact_relu[0][0]'\n",
      "                                                                 ]                                \n",
      "                                                                                                  \n",
      " conv4_block3_1_bn (BatchNormal  (None, 14, 14, 256)  1024       ['conv4_block3_1_conv[0][0]']    \n",
      " ization)                                                                                         \n",
      "                                                                                                  \n",
      " conv4_block3_1_relu (Activatio  (None, 14, 14, 256)  0          ['conv4_block3_1_bn[0][0]']      \n",
      " n)                                                                                               \n",
      "                                                                                                  \n",
      " conv4_block3_2_pad (ZeroPaddin  (None, 16, 16, 256)  0          ['conv4_block3_1_relu[0][0]']    \n",
      " g2D)                                                                                             \n",
      "                                                                                                  \n",
      " conv4_block3_2_conv (Conv2D)   (None, 14, 14, 256)  589824      ['conv4_block3_2_pad[0][0]']     \n",
      "                                                                                                  \n",
      " conv4_block3_2_bn (BatchNormal  (None, 14, 14, 256)  1024       ['conv4_block3_2_conv[0][0]']    \n",
      " ization)                                                                                         \n",
      "                                                                                                  \n",
      " conv4_block3_2_relu (Activatio  (None, 14, 14, 256)  0          ['conv4_block3_2_bn[0][0]']      \n",
      " n)                                                                                               \n",
      "                                                                                                  \n",
      " conv4_block3_3_conv (Conv2D)   (None, 14, 14, 1024  263168      ['conv4_block3_2_relu[0][0]']    \n",
      "                                )                                                                 \n",
      "                                                                                                  \n",
      " conv4_block3_out (Add)         (None, 14, 14, 1024  0           ['conv4_block2_out[0][0]',       \n",
      "                                )                                 'conv4_block3_3_conv[0][0]']    \n",
      "                                                                                                  \n",
      " conv4_block4_preact_bn (BatchN  (None, 14, 14, 1024  4096       ['conv4_block3_out[0][0]']       \n",
      " ormalization)                  )                                                                 \n",
      "                                                                                                  \n",
      " conv4_block4_preact_relu (Acti  (None, 14, 14, 1024  0          ['conv4_block4_preact_bn[0][0]'] \n",
      " vation)                        )                                                                 \n",
      "                                                                                                  \n",
      " conv4_block4_1_conv (Conv2D)   (None, 14, 14, 256)  262144      ['conv4_block4_preact_relu[0][0]'\n",
      "                                                                 ]                                \n",
      "                                                                                                  \n",
      " conv4_block4_1_bn (BatchNormal  (None, 14, 14, 256)  1024       ['conv4_block4_1_conv[0][0]']    \n",
      " ization)                                                                                         \n",
      "                                                                                                  \n",
      " conv4_block4_1_relu (Activatio  (None, 14, 14, 256)  0          ['conv4_block4_1_bn[0][0]']      \n",
      " n)                                                                                               \n",
      "                                                                                                  \n",
      " conv4_block4_2_pad (ZeroPaddin  (None, 16, 16, 256)  0          ['conv4_block4_1_relu[0][0]']    \n",
      " g2D)                                                                                             \n",
      "                                                                                                  \n",
      " conv4_block4_2_conv (Conv2D)   (None, 14, 14, 256)  589824      ['conv4_block4_2_pad[0][0]']     \n",
      "                                                                                                  \n",
      " conv4_block4_2_bn (BatchNormal  (None, 14, 14, 256)  1024       ['conv4_block4_2_conv[0][0]']    \n",
      " ization)                                                                                         \n",
      "                                                                                                  \n",
      " conv4_block4_2_relu (Activatio  (None, 14, 14, 256)  0          ['conv4_block4_2_bn[0][0]']      \n",
      " n)                                                                                               \n",
      "                                                                                                  \n",
      " conv4_block4_3_conv (Conv2D)   (None, 14, 14, 1024  263168      ['conv4_block4_2_relu[0][0]']    \n",
      "                                )                                                                 \n",
      "                                                                                                  \n",
      " conv4_block4_out (Add)         (None, 14, 14, 1024  0           ['conv4_block3_out[0][0]',       \n",
      "                                )                                 'conv4_block4_3_conv[0][0]']    \n",
      "                                                                                                  \n",
      " conv4_block5_preact_bn (BatchN  (None, 14, 14, 1024  4096       ['conv4_block4_out[0][0]']       \n",
      " ormalization)                  )                                                                 \n",
      "                                                                                                  \n",
      " conv4_block5_preact_relu (Acti  (None, 14, 14, 1024  0          ['conv4_block5_preact_bn[0][0]'] \n",
      " vation)                        )                                                                 \n",
      "                                                                                                  \n",
      " conv4_block5_1_conv (Conv2D)   (None, 14, 14, 256)  262144      ['conv4_block5_preact_relu[0][0]'\n",
      "                                                                 ]                                \n",
      "                                                                                                  \n",
      " conv4_block5_1_bn (BatchNormal  (None, 14, 14, 256)  1024       ['conv4_block5_1_conv[0][0]']    \n",
      " ization)                                                                                         \n",
      "                                                                                                  \n",
      " conv4_block5_1_relu (Activatio  (None, 14, 14, 256)  0          ['conv4_block5_1_bn[0][0]']      \n",
      " n)                                                                                               \n",
      "                                                                                                  \n",
      " conv4_block5_2_pad (ZeroPaddin  (None, 16, 16, 256)  0          ['conv4_block5_1_relu[0][0]']    \n",
      " g2D)                                                                                             \n",
      "                                                                                                  \n",
      " conv4_block5_2_conv (Conv2D)   (None, 14, 14, 256)  589824      ['conv4_block5_2_pad[0][0]']     \n",
      "                                                                                                  \n",
      " conv4_block5_2_bn (BatchNormal  (None, 14, 14, 256)  1024       ['conv4_block5_2_conv[0][0]']    \n",
      " ization)                                                                                         \n",
      "                                                                                                  \n",
      " conv4_block5_2_relu (Activatio  (None, 14, 14, 256)  0          ['conv4_block5_2_bn[0][0]']      \n",
      " n)                                                                                               \n",
      "                                                                                                  \n",
      " conv4_block5_3_conv (Conv2D)   (None, 14, 14, 1024  263168      ['conv4_block5_2_relu[0][0]']    \n",
      "                                )                                                                 \n",
      "                                                                                                  \n",
      " conv4_block5_out (Add)         (None, 14, 14, 1024  0           ['conv4_block4_out[0][0]',       \n",
      "                                )                                 'conv4_block5_3_conv[0][0]']    \n",
      "                                                                                                  \n",
      " conv4_block6_preact_bn (BatchN  (None, 14, 14, 1024  4096       ['conv4_block5_out[0][0]']       \n",
      " ormalization)                  )                                                                 \n",
      "                                                                                                  \n",
      " conv4_block6_preact_relu (Acti  (None, 14, 14, 1024  0          ['conv4_block6_preact_bn[0][0]'] \n",
      " vation)                        )                                                                 \n",
      "                                                                                                  \n",
      " conv4_block6_1_conv (Conv2D)   (None, 14, 14, 256)  262144      ['conv4_block6_preact_relu[0][0]'\n",
      "                                                                 ]                                \n",
      "                                                                                                  \n",
      " conv4_block6_1_bn (BatchNormal  (None, 14, 14, 256)  1024       ['conv4_block6_1_conv[0][0]']    \n",
      " ization)                                                                                         \n",
      "                                                                                                  \n",
      " conv4_block6_1_relu (Activatio  (None, 14, 14, 256)  0          ['conv4_block6_1_bn[0][0]']      \n",
      " n)                                                                                               \n",
      "                                                                                                  \n",
      " conv4_block6_2_pad (ZeroPaddin  (None, 16, 16, 256)  0          ['conv4_block6_1_relu[0][0]']    \n",
      " g2D)                                                                                             \n",
      "                                                                                                  \n",
      " conv4_block6_2_conv (Conv2D)   (None, 7, 7, 256)    589824      ['conv4_block6_2_pad[0][0]']     \n",
      "                                                                                                  \n",
      " conv4_block6_2_bn (BatchNormal  (None, 7, 7, 256)   1024        ['conv4_block6_2_conv[0][0]']    \n",
      " ization)                                                                                         \n",
      "                                                                                                  \n",
      " conv4_block6_2_relu (Activatio  (None, 7, 7, 256)   0           ['conv4_block6_2_bn[0][0]']      \n",
      " n)                                                                                               \n",
      "                                                                                                  \n",
      " max_pooling2d_5 (MaxPooling2D)  (None, 7, 7, 1024)  0           ['conv4_block5_out[0][0]']       \n",
      "                                                                                                  \n",
      " conv4_block6_3_conv (Conv2D)   (None, 7, 7, 1024)   263168      ['conv4_block6_2_relu[0][0]']    \n",
      "                                                                                                  \n",
      " conv4_block6_out (Add)         (None, 7, 7, 1024)   0           ['max_pooling2d_5[0][0]',        \n",
      "                                                                  'conv4_block6_3_conv[0][0]']    \n",
      "                                                                                                  \n",
      " conv5_block1_preact_bn (BatchN  (None, 7, 7, 1024)  4096        ['conv4_block6_out[0][0]']       \n",
      " ormalization)                                                                                    \n",
      "                                                                                                  \n",
      " conv5_block1_preact_relu (Acti  (None, 7, 7, 1024)  0           ['conv5_block1_preact_bn[0][0]'] \n",
      " vation)                                                                                          \n",
      "                                                                                                  \n",
      " conv5_block1_1_conv (Conv2D)   (None, 7, 7, 512)    524288      ['conv5_block1_preact_relu[0][0]'\n",
      "                                                                 ]                                \n",
      "                                                                                                  \n",
      " conv5_block1_1_bn (BatchNormal  (None, 7, 7, 512)   2048        ['conv5_block1_1_conv[0][0]']    \n",
      " ization)                                                                                         \n",
      "                                                                                                  \n",
      " conv5_block1_1_relu (Activatio  (None, 7, 7, 512)   0           ['conv5_block1_1_bn[0][0]']      \n",
      " n)                                                                                               \n",
      "                                                                                                  \n",
      " conv5_block1_2_pad (ZeroPaddin  (None, 9, 9, 512)   0           ['conv5_block1_1_relu[0][0]']    \n",
      " g2D)                                                                                             \n",
      "                                                                                                  \n",
      " conv5_block1_2_conv (Conv2D)   (None, 7, 7, 512)    2359296     ['conv5_block1_2_pad[0][0]']     \n",
      "                                                                                                  \n",
      " conv5_block1_2_bn (BatchNormal  (None, 7, 7, 512)   2048        ['conv5_block1_2_conv[0][0]']    \n",
      " ization)                                                                                         \n",
      "                                                                                                  \n",
      " conv5_block1_2_relu (Activatio  (None, 7, 7, 512)   0           ['conv5_block1_2_bn[0][0]']      \n",
      " n)                                                                                               \n",
      "                                                                                                  \n",
      " conv5_block1_0_conv (Conv2D)   (None, 7, 7, 2048)   2099200     ['conv5_block1_preact_relu[0][0]'\n",
      "                                                                 ]                                \n",
      "                                                                                                  \n",
      " conv5_block1_3_conv (Conv2D)   (None, 7, 7, 2048)   1050624     ['conv5_block1_2_relu[0][0]']    \n",
      "                                                                                                  \n",
      " conv5_block1_out (Add)         (None, 7, 7, 2048)   0           ['conv5_block1_0_conv[0][0]',    \n",
      "                                                                  'conv5_block1_3_conv[0][0]']    \n",
      "                                                                                                  \n",
      " conv5_block2_preact_bn (BatchN  (None, 7, 7, 2048)  8192        ['conv5_block1_out[0][0]']       \n",
      " ormalization)                                                                                    \n",
      "                                                                                                  \n",
      " conv5_block2_preact_relu (Acti  (None, 7, 7, 2048)  0           ['conv5_block2_preact_bn[0][0]'] \n",
      " vation)                                                                                          \n",
      "                                                                                                  \n",
      " conv5_block2_1_conv (Conv2D)   (None, 7, 7, 512)    1048576     ['conv5_block2_preact_relu[0][0]'\n",
      "                                                                 ]                                \n",
      "                                                                                                  \n",
      " conv5_block2_1_bn (BatchNormal  (None, 7, 7, 512)   2048        ['conv5_block2_1_conv[0][0]']    \n",
      " ization)                                                                                         \n",
      "                                                                                                  \n",
      " conv5_block2_1_relu (Activatio  (None, 7, 7, 512)   0           ['conv5_block2_1_bn[0][0]']      \n",
      " n)                                                                                               \n",
      "                                                                                                  \n",
      " conv5_block2_2_pad (ZeroPaddin  (None, 9, 9, 512)   0           ['conv5_block2_1_relu[0][0]']    \n",
      " g2D)                                                                                             \n",
      "                                                                                                  \n",
      " conv5_block2_2_conv (Conv2D)   (None, 7, 7, 512)    2359296     ['conv5_block2_2_pad[0][0]']     \n",
      "                                                                                                  \n",
      " conv5_block2_2_bn (BatchNormal  (None, 7, 7, 512)   2048        ['conv5_block2_2_conv[0][0]']    \n",
      " ization)                                                                                         \n",
      "                                                                                                  \n",
      " conv5_block2_2_relu (Activatio  (None, 7, 7, 512)   0           ['conv5_block2_2_bn[0][0]']      \n",
      " n)                                                                                               \n",
      "                                                                                                  \n",
      " conv5_block2_3_conv (Conv2D)   (None, 7, 7, 2048)   1050624     ['conv5_block2_2_relu[0][0]']    \n",
      "                                                                                                  \n",
      " conv5_block2_out (Add)         (None, 7, 7, 2048)   0           ['conv5_block1_out[0][0]',       \n",
      "                                                                  'conv5_block2_3_conv[0][0]']    \n",
      "                                                                                                  \n",
      " conv5_block3_preact_bn (BatchN  (None, 7, 7, 2048)  8192        ['conv5_block2_out[0][0]']       \n",
      " ormalization)                                                                                    \n",
      "                                                                                                  \n",
      " conv5_block3_preact_relu (Acti  (None, 7, 7, 2048)  0           ['conv5_block3_preact_bn[0][0]'] \n",
      " vation)                                                                                          \n",
      "                                                                                                  \n",
      " conv5_block3_1_conv (Conv2D)   (None, 7, 7, 512)    1048576     ['conv5_block3_preact_relu[0][0]'\n",
      "                                                                 ]                                \n",
      "                                                                                                  \n",
      " conv5_block3_1_bn (BatchNormal  (None, 7, 7, 512)   2048        ['conv5_block3_1_conv[0][0]']    \n",
      " ization)                                                                                         \n",
      "                                                                                                  \n",
      " conv5_block3_1_relu (Activatio  (None, 7, 7, 512)   0           ['conv5_block3_1_bn[0][0]']      \n",
      " n)                                                                                               \n",
      "                                                                                                  \n",
      " conv5_block3_2_pad (ZeroPaddin  (None, 9, 9, 512)   0           ['conv5_block3_1_relu[0][0]']    \n",
      " g2D)                                                                                             \n",
      "                                                                                                  \n",
      " conv5_block3_2_conv (Conv2D)   (None, 7, 7, 512)    2359296     ['conv5_block3_2_pad[0][0]']     \n",
      "                                                                                                  \n",
      " conv5_block3_2_bn (BatchNormal  (None, 7, 7, 512)   2048        ['conv5_block3_2_conv[0][0]']    \n",
      " ization)                                                                                         \n",
      "                                                                                                  \n",
      " conv5_block3_2_relu (Activatio  (None, 7, 7, 512)   0           ['conv5_block3_2_bn[0][0]']      \n",
      " n)                                                                                               \n",
      "                                                                                                  \n",
      " conv5_block3_3_conv (Conv2D)   (None, 7, 7, 2048)   1050624     ['conv5_block3_2_relu[0][0]']    \n",
      "                                                                                                  \n",
      " conv5_block3_out (Add)         (None, 7, 7, 2048)   0           ['conv5_block2_out[0][0]',       \n",
      "                                                                  'conv5_block3_3_conv[0][0]']    \n",
      "                                                                                                  \n",
      " post_bn (BatchNormalization)   (None, 7, 7, 2048)   8192        ['conv5_block3_out[0][0]']       \n",
      "                                                                                                  \n",
      " post_relu (Activation)         (None, 7, 7, 2048)   0           ['post_bn[0][0]']                \n",
      "                                                                                                  \n",
      " flatten_2 (Flatten)            (None, 100352)       0           ['post_relu[0][0]']              \n",
      "                                                                                                  \n",
      " dense_5 (Dense)                (None, 512)          51380736    ['flatten_2[0][0]']              \n",
      "                                                                                                  \n",
      " dense_6 (Dense)                (None, 11)           5643        ['dense_5[0][0]']                \n",
      "                                                                                                  \n",
      "==================================================================================================\n",
      "Total params: 74,951,179\n",
      "Trainable params: 74,804,747\n",
      "Non-trainable params: 146,432\n",
      "__________________________________________________________________________________________________\n",
      "--------------------------------------------------------------------------------\n",
      "Accuracy Found:  0.6646825396825397\n",
      "--------------------------------------------------------------------------------\n",
      "Confusion Matrix:\n",
      " [[ 86   2  17  26]\n",
      " [  0 192   0   1]\n",
      " [ 42   0  23  12]\n",
      " [ 58   0  11  34]]\n",
      "--------------------------------------------------------------------------------\n",
      "Classification Report:\n",
      "               precision    recall  f1-score   support\n",
      "\n",
      "           0       0.46      0.66      0.54       131\n",
      "           1       0.99      0.99      0.99       193\n",
      "           2       0.45      0.30      0.36        77\n",
      "           3       0.47      0.33      0.39       103\n",
      "\n",
      "    accuracy                           0.66       504\n",
      "   macro avg       0.59      0.57      0.57       504\n",
      "weighted avg       0.66      0.66      0.65       504\n",
      "\n",
      "--------------------------------------------------------------------------------\n"
     ]
    },
    {
     "data": {
      "image/png": "[encoded data removed]",
      "text/plain": [
       "<Figure size 432x288 with 1 Axes>"
      ]
     },
     "metadata": {
      "needs_background": "light"
     },
     "output_type": "display_data"
    },
    {
     "data": {
      "image/png": "[encoded data removed]",
      "text/plain": [
       "<Figure size 432x288 with 1 Axes>"
      ]
     },
     "metadata": {
      "needs_background": "light"
     },
     "output_type": "display_data"
    }
   ],
   "source": [
    "Resnet_model.summary()\n",
    "\n",
    "y_pred3=Resnet_model.predict(x_test)\n",
    "\n",
    "y_pred3=np.argmax(y_pred3,axis=1)\n",
    "\n",
    "print(\"-\"*80)\n",
    "print(\"Accuracy Found: \",accuracy_score(y_test,y_pred3))\n",
    "\n",
    "print(\"-\"*80)\n",
    "print(\"Confusion Matrix:\\n\",confusion_matrix(y_test,y_pred3)) \n",
    "print(\"-\"*80)\n",
    "print(\"Classification Report:\\n\",classification_report(y_test,y_pred3))\n",
    "print(\"-\"*80)\n",
    "\n",
    "#plt.figure(figsize=(15,9))\n",
    "plt.title('Loss Comparison',fontsize=20)\n",
    "plt.plot(history2.history['loss'],)\n",
    "plt.plot(history2.history['val_loss'])\n",
    "plt.legend(['Training Loss','Validation Loss'])\n",
    "plt.xlabel(\"Epochs\")\n",
    "plt.ylabel(\"Error rate\")\n",
    "plt.show()\n",
    "\n",
    "\n",
    "#plt.figure(figsize=(15,9))\n",
    "plt.title('Accuracy comparison ',fontsize=20)\n",
    "plt.plot(history2.history['accuracy'],)\n",
    "plt.plot(history2.history['val_accuracy'])\n",
    "plt.legend(['Training Acc','Validation Acc'])\n",
    "plt.xlabel(\"Epochs\")\n",
    "plt.ylabel(\"Accuracy rate\")\n",
    "plt.show()"
   ]
  },
  {
   "cell_type": "code",
   "execution_count": 53,
   "id": "009dbfa9",
   "metadata": {},
   "outputs": [],
   "source": [
    "import cv2\n",
    "image = cv2.imread(str('E:\\\\Python\\\\project\\\\test_spinach\\\\Ls (1).jpg'))\n",
    "image_resized = cv2.resize(image,(224,224))\n",
    "image = np.expand_dims(image_resized,axis = 0)  "
   ]
  },
  {
   "cell_type": "code",
   "execution_count": 54,
   "id": "6b128aa9",
   "metadata": {},
   "outputs": [],
   "source": [
    "pred = cnn.predict(image)"
   ]
  },
  {
   "cell_type": "code",
   "execution_count": 56,
   "id": "e94f56b8",
   "metadata": {},
   "outputs": [
    {
     "name": "stdout",
     "output_type": "stream",
     "text": [
      "The predicted class is Leaf_spot\n"
     ]
    }
   ],
   "source": [
    "output_class=catg1[np.argmax(pred)]\n",
    "print(\"The predicted class is\",output_class)"
   ]
  },
  {
   "cell_type": "markdown",
   "id": "5d6faa8c",
   "metadata": {},
   "source": [
    "# Model_4. InceptionV3"
   ]
  },
  {
   "cell_type": "code",
   "execution_count": 14,
   "id": "048ef66a",
   "metadata": {},
   "outputs": [
    {
     "name": "stdout",
     "output_type": "stream",
     "text": [
      "Epoch 1/10\n",
      "48/48 [==============================] - 250s 5s/step - loss: 0.9433 - accuracy: 0.6138 - val_loss: 1.3225 - val_accuracy: 0.6012\n",
      "Epoch 2/10\n",
      "48/48 [==============================] - 241s 5s/step - loss: 0.2715 - accuracy: 0.9101 - val_loss: 1.2244 - val_accuracy: 0.6369\n",
      "Epoch 3/10\n",
      "48/48 [==============================] - 242s 5s/step - loss: 0.1018 - accuracy: 0.9835 - val_loss: 1.0502 - val_accuracy: 0.6687\n",
      "Epoch 4/10\n",
      "48/48 [==============================] - 237s 5s/step - loss: 0.0454 - accuracy: 0.9954 - val_loss: 0.3580 - val_accuracy: 0.8690\n",
      "Epoch 5/10\n",
      "48/48 [==============================] - 238s 5s/step - loss: 0.0272 - accuracy: 0.9980 - val_loss: 0.4431 - val_accuracy: 0.8353\n",
      "Epoch 6/10\n",
      "48/48 [==============================] - 237s 5s/step - loss: 0.0216 - accuracy: 0.9993 - val_loss: 0.3000 - val_accuracy: 0.8948\n",
      "Epoch 7/10\n",
      "48/48 [==============================] - 237s 5s/step - loss: 0.0131 - accuracy: 1.0000 - val_loss: 0.2662 - val_accuracy: 0.9087\n",
      "Epoch 8/10\n",
      "48/48 [==============================] - 232s 5s/step - loss: 0.0117 - accuracy: 1.0000 - val_loss: 0.4552 - val_accuracy: 0.8373\n",
      "Epoch 9/10\n",
      "48/48 [==============================] - 233s 5s/step - loss: 0.0113 - accuracy: 1.0000 - val_loss: 0.3777 - val_accuracy: 0.8770\n",
      "Epoch 10/10\n",
      "48/48 [==============================] - 235s 5s/step - loss: 0.0105 - accuracy: 0.9993 - val_loss: 0.2656 - val_accuracy: 0.9067\n"
     ]
    }
   ],
   "source": [
    "Inception=tf.keras.applications.InceptionV3(weights='imagenet',include_top=False, input_shape=x_train.shape[1:])\n",
    "\n",
    "\n",
    "flat1=Flatten()(Inception.layers[-1].output)\n",
    "class1=Dense(512,activation='relu')(flat1)\n",
    "output=Dense(11,activation='softmax')(class1)\n",
    "\n",
    "Inception=Model(inputs=Inception.inputs,outputs=output)\n",
    "\n",
    "\n",
    "for layer in Inception.layers[:20]:\n",
    "    layer.trainable = False\n",
    "for layer in Inception.layers[20:]:\n",
    "    layer.trainable = True\n",
    "    \n",
    "Inception.compile(optimizer='Adagrad',loss=tf.keras.losses.SparseCategoricalCrossentropy(from_logits=False),metrics=['accuracy'])\n",
    "\n",
    "history2=Inception.fit(x_train,\n",
    "                     y_train,\n",
    "                     verbose=1,\n",
    "                     epochs=10,  #20\n",
    "                     batch_size=32,  #15\n",
    "                     validation_data=(x_test,y_test) )"
   ]
  },
  {
   "cell_type": "code",
   "execution_count": 15,
   "id": "cfc31946",
   "metadata": {},
   "outputs": [
    {
     "name": "stdout",
     "output_type": "stream",
     "text": [
      "Model: \"model\"\n",
      "__________________________________________________________________________________________________\n",
      " Layer (type)                   Output Shape         Param #     Connected to                     \n",
      "==================================================================================================\n",
      " input_1 (InputLayer)           [(None, 224, 224, 3  0           []                               \n",
      "                                )]                                                                \n",
      "                                                                                                  \n",
      " conv2d (Conv2D)                (None, 111, 111, 32  864         ['input_1[0][0]']                \n",
      "                                )                                                                 \n",
      "                                                                                                  \n",
      " batch_normalization (BatchNorm  (None, 111, 111, 32  96         ['conv2d[0][0]']                 \n",
      " alization)                     )                                                                 \n",
      "                                                                                                  \n",
      " activation (Activation)        (None, 111, 111, 32  0           ['batch_normalization[0][0]']    \n",
      "                                )                                                                 \n",
      "                                                                                                  \n",
      " conv2d_1 (Conv2D)              (None, 109, 109, 32  9216        ['activation[0][0]']             \n",
      "                                )                                                                 \n",
      "                                                                                                  \n",
      " batch_normalization_1 (BatchNo  (None, 109, 109, 32  96         ['conv2d_1[0][0]']               \n",
      " rmalization)                   )                                                                 \n",
      "                                                                                                  \n",
      " activation_1 (Activation)      (None, 109, 109, 32  0           ['batch_normalization_1[0][0]']  \n",
      "                                )                                                                 \n",
      "                                                                                                  \n",
      " conv2d_2 (Conv2D)              (None, 109, 109, 64  18432       ['activation_1[0][0]']           \n",
      "                                )                                                                 \n",
      "                                                                                                  \n",
      " batch_normalization_2 (BatchNo  (None, 109, 109, 64  192        ['conv2d_2[0][0]']               \n",
      " rmalization)                   )                                                                 \n",
      "                                                                                                  \n",
      " activation_2 (Activation)      (None, 109, 109, 64  0           ['batch_normalization_2[0][0]']  \n",
      "                                )                                                                 \n",
      "                                                                                                  \n",
      " max_pooling2d (MaxPooling2D)   (None, 54, 54, 64)   0           ['activation_2[0][0]']           \n",
      "                                                                                                  \n",
      " conv2d_3 (Conv2D)              (None, 54, 54, 80)   5120        ['max_pooling2d[0][0]']          \n",
      "                                                                                                  \n",
      " batch_normalization_3 (BatchNo  (None, 54, 54, 80)  240         ['conv2d_3[0][0]']               \n",
      " rmalization)                                                                                     \n",
      "                                                                                                  \n",
      " activation_3 (Activation)      (None, 54, 54, 80)   0           ['batch_normalization_3[0][0]']  \n",
      "                                                                                                  \n",
      " conv2d_4 (Conv2D)              (None, 52, 52, 192)  138240      ['activation_3[0][0]']           \n",
      "                                                                                                  \n",
      " batch_normalization_4 (BatchNo  (None, 52, 52, 192)  576        ['conv2d_4[0][0]']               \n",
      " rmalization)                                                                                     \n",
      "                                                                                                  \n",
      " activation_4 (Activation)      (None, 52, 52, 192)  0           ['batch_normalization_4[0][0]']  \n",
      "                                                                                                  \n",
      " max_pooling2d_1 (MaxPooling2D)  (None, 25, 25, 192)  0          ['activation_4[0][0]']           \n",
      "                                                                                                  \n",
      " conv2d_8 (Conv2D)              (None, 25, 25, 64)   12288       ['max_pooling2d_1[0][0]']        \n",
      "                                                                                                  \n",
      " batch_normalization_8 (BatchNo  (None, 25, 25, 64)  192         ['conv2d_8[0][0]']               \n",
      " rmalization)                                                                                     \n",
      "                                                                                                  \n",
      " activation_8 (Activation)      (None, 25, 25, 64)   0           ['batch_normalization_8[0][0]']  \n",
      "                                                                                                  \n",
      " conv2d_6 (Conv2D)              (None, 25, 25, 48)   9216        ['max_pooling2d_1[0][0]']        \n",
      "                                                                                                  \n",
      " conv2d_9 (Conv2D)              (None, 25, 25, 96)   55296       ['activation_8[0][0]']           \n",
      "                                                                                                  \n",
      " batch_normalization_6 (BatchNo  (None, 25, 25, 48)  144         ['conv2d_6[0][0]']               \n",
      " rmalization)                                                                                     \n",
      "                                                                                                  \n",
      " batch_normalization_9 (BatchNo  (None, 25, 25, 96)  288         ['conv2d_9[0][0]']               \n",
      " rmalization)                                                                                     \n",
      "                                                                                                  \n",
      " activation_6 (Activation)      (None, 25, 25, 48)   0           ['batch_normalization_6[0][0]']  \n",
      "                                                                                                  \n",
      " activation_9 (Activation)      (None, 25, 25, 96)   0           ['batch_normalization_9[0][0]']  \n",
      "                                                                                                  \n",
      " average_pooling2d (AveragePool  (None, 25, 25, 192)  0          ['max_pooling2d_1[0][0]']        \n",
      " ing2D)                                                                                           \n",
      "                                                                                                  \n",
      " conv2d_5 (Conv2D)              (None, 25, 25, 64)   12288       ['max_pooling2d_1[0][0]']        \n",
      "                                                                                                  \n",
      " conv2d_7 (Conv2D)              (None, 25, 25, 64)   76800       ['activation_6[0][0]']           \n",
      "                                                                                                  \n",
      " conv2d_10 (Conv2D)             (None, 25, 25, 96)   82944       ['activation_9[0][0]']           \n",
      "                                                                                                  \n",
      " conv2d_11 (Conv2D)             (None, 25, 25, 32)   6144        ['average_pooling2d[0][0]']      \n",
      "                                                                                                  \n",
      " batch_normalization_5 (BatchNo  (None, 25, 25, 64)  192         ['conv2d_5[0][0]']               \n",
      " rmalization)                                                                                     \n",
      "                                                                                                  \n",
      " batch_normalization_7 (BatchNo  (None, 25, 25, 64)  192         ['conv2d_7[0][0]']               \n",
      " rmalization)                                                                                     \n",
      "                                                                                                  \n",
      " batch_normalization_10 (BatchN  (None, 25, 25, 96)  288         ['conv2d_10[0][0]']              \n",
      " ormalization)                                                                                    \n",
      "                                                                                                  \n",
      " batch_normalization_11 (BatchN  (None, 25, 25, 32)  96          ['conv2d_11[0][0]']              \n",
      " ormalization)                                                                                    \n",
      "                                                                                                  \n",
      " activation_5 (Activation)      (None, 25, 25, 64)   0           ['batch_normalization_5[0][0]']  \n",
      "                                                                                                  \n",
      " activation_7 (Activation)      (None, 25, 25, 64)   0           ['batch_normalization_7[0][0]']  \n",
      "                                                                                                  \n",
      " activation_10 (Activation)     (None, 25, 25, 96)   0           ['batch_normalization_10[0][0]'] \n",
      "                                                                                                  \n",
      " activation_11 (Activation)     (None, 25, 25, 32)   0           ['batch_normalization_11[0][0]'] \n",
      "                                                                                                  \n",
      " mixed0 (Concatenate)           (None, 25, 25, 256)  0           ['activation_5[0][0]',           \n",
      "                                                                  'activation_7[0][0]',           \n",
      "                                                                  'activation_10[0][0]',          \n",
      "                                                                  'activation_11[0][0]']          \n",
      "                                                                                                  \n",
      " conv2d_15 (Conv2D)             (None, 25, 25, 64)   16384       ['mixed0[0][0]']                 \n",
      "                                                                                                  \n",
      " batch_normalization_15 (BatchN  (None, 25, 25, 64)  192         ['conv2d_15[0][0]']              \n",
      " ormalization)                                                                                    \n",
      "                                                                                                  \n",
      " activation_15 (Activation)     (None, 25, 25, 64)   0           ['batch_normalization_15[0][0]'] \n",
      "                                                                                                  \n",
      " conv2d_13 (Conv2D)             (None, 25, 25, 48)   12288       ['mixed0[0][0]']                 \n",
      "                                                                                                  \n",
      " conv2d_16 (Conv2D)             (None, 25, 25, 96)   55296       ['activation_15[0][0]']          \n",
      "                                                                                                  \n",
      " batch_normalization_13 (BatchN  (None, 25, 25, 48)  144         ['conv2d_13[0][0]']              \n",
      " ormalization)                                                                                    \n",
      "                                                                                                  \n",
      " batch_normalization_16 (BatchN  (None, 25, 25, 96)  288         ['conv2d_16[0][0]']              \n",
      " ormalization)                                                                                    \n",
      "                                                                                                  \n",
      " activation_13 (Activation)     (None, 25, 25, 48)   0           ['batch_normalization_13[0][0]'] \n",
      "                                                                                                  \n",
      " activation_16 (Activation)     (None, 25, 25, 96)   0           ['batch_normalization_16[0][0]'] \n",
      "                                                                                                  \n",
      " average_pooling2d_1 (AveragePo  (None, 25, 25, 256)  0          ['mixed0[0][0]']                 \n",
      " oling2D)                                                                                         \n",
      "                                                                                                  \n",
      " conv2d_12 (Conv2D)             (None, 25, 25, 64)   16384       ['mixed0[0][0]']                 \n",
      "                                                                                                  \n",
      " conv2d_14 (Conv2D)             (None, 25, 25, 64)   76800       ['activation_13[0][0]']          \n",
      "                                                                                                  \n",
      " conv2d_17 (Conv2D)             (None, 25, 25, 96)   82944       ['activation_16[0][0]']          \n",
      "                                                                                                  \n",
      " conv2d_18 (Conv2D)             (None, 25, 25, 64)   16384       ['average_pooling2d_1[0][0]']    \n",
      "                                                                                                  \n",
      " batch_normalization_12 (BatchN  (None, 25, 25, 64)  192         ['conv2d_12[0][0]']              \n",
      " ormalization)                                                                                    \n",
      "                                                                                                  \n",
      " batch_normalization_14 (BatchN  (None, 25, 25, 64)  192         ['conv2d_14[0][0]']              \n",
      " ormalization)                                                                                    \n",
      "                                                                                                  \n",
      " batch_normalization_17 (BatchN  (None, 25, 25, 96)  288         ['conv2d_17[0][0]']              \n",
      " ormalization)                                                                                    \n",
      "                                                                                                  \n",
      " batch_normalization_18 (BatchN  (None, 25, 25, 64)  192         ['conv2d_18[0][0]']              \n",
      " ormalization)                                                                                    \n",
      "                                                                                                  \n",
      " activation_12 (Activation)     (None, 25, 25, 64)   0           ['batch_normalization_12[0][0]'] \n",
      "                                                                                                  \n",
      " activation_14 (Activation)     (None, 25, 25, 64)   0           ['batch_normalization_14[0][0]'] \n",
      "                                                                                                  \n",
      " activation_17 (Activation)     (None, 25, 25, 96)   0           ['batch_normalization_17[0][0]'] \n",
      "                                                                                                  \n",
      " activation_18 (Activation)     (None, 25, 25, 64)   0           ['batch_normalization_18[0][0]'] \n",
      "                                                                                                  \n",
      " mixed1 (Concatenate)           (None, 25, 25, 288)  0           ['activation_12[0][0]',          \n",
      "                                                                  'activation_14[0][0]',          \n",
      "                                                                  'activation_17[0][0]',          \n",
      "                                                                  'activation_18[0][0]']          \n",
      "                                                                                                  \n",
      " conv2d_22 (Conv2D)             (None, 25, 25, 64)   18432       ['mixed1[0][0]']                 \n",
      "                                                                                                  \n",
      " batch_normalization_22 (BatchN  (None, 25, 25, 64)  192         ['conv2d_22[0][0]']              \n",
      " ormalization)                                                                                    \n",
      "                                                                                                  \n",
      " activation_22 (Activation)     (None, 25, 25, 64)   0           ['batch_normalization_22[0][0]'] \n",
      "                                                                                                  \n",
      " conv2d_20 (Conv2D)             (None, 25, 25, 48)   13824       ['mixed1[0][0]']                 \n",
      "                                                                                                  \n",
      " conv2d_23 (Conv2D)             (None, 25, 25, 96)   55296       ['activation_22[0][0]']          \n",
      "                                                                                                  \n",
      " batch_normalization_20 (BatchN  (None, 25, 25, 48)  144         ['conv2d_20[0][0]']              \n",
      " ormalization)                                                                                    \n",
      "                                                                                                  \n",
      " batch_normalization_23 (BatchN  (None, 25, 25, 96)  288         ['conv2d_23[0][0]']              \n",
      " ormalization)                                                                                    \n",
      "                                                                                                  \n",
      " activation_20 (Activation)     (None, 25, 25, 48)   0           ['batch_normalization_20[0][0]'] \n",
      "                                                                                                  \n",
      " activation_23 (Activation)     (None, 25, 25, 96)   0           ['batch_normalization_23[0][0]'] \n",
      "                                                                                                  \n",
      " average_pooling2d_2 (AveragePo  (None, 25, 25, 288)  0          ['mixed1[0][0]']                 \n",
      " oling2D)                                                                                         \n",
      "                                                                                                  \n",
      " conv2d_19 (Conv2D)             (None, 25, 25, 64)   18432       ['mixed1[0][0]']                 \n",
      "                                                                                                  \n",
      " conv2d_21 (Conv2D)             (None, 25, 25, 64)   76800       ['activation_20[0][0]']          \n",
      "                                                                                                  \n",
      " conv2d_24 (Conv2D)             (None, 25, 25, 96)   82944       ['activation_23[0][0]']          \n",
      "                                                                                                  \n",
      " conv2d_25 (Conv2D)             (None, 25, 25, 64)   18432       ['average_pooling2d_2[0][0]']    \n",
      "                                                                                                  \n",
      " batch_normalization_19 (BatchN  (None, 25, 25, 64)  192         ['conv2d_19[0][0]']              \n",
      " ormalization)                                                                                    \n",
      "                                                                                                  \n",
      " batch_normalization_21 (BatchN  (None, 25, 25, 64)  192         ['conv2d_21[0][0]']              \n",
      " ormalization)                                                                                    \n",
      "                                                                                                  \n",
      " batch_normalization_24 (BatchN  (None, 25, 25, 96)  288         ['conv2d_24[0][0]']              \n",
      " ormalization)                                                                                    \n",
      "                                                                                                  \n",
      " batch_normalization_25 (BatchN  (None, 25, 25, 64)  192         ['conv2d_25[0][0]']              \n",
      " ormalization)                                                                                    \n",
      "                                                                                                  \n",
      " activation_19 (Activation)     (None, 25, 25, 64)   0           ['batch_normalization_19[0][0]'] \n",
      "                                                                                                  \n",
      " activation_21 (Activation)     (None, 25, 25, 64)   0           ['batch_normalization_21[0][0]'] \n",
      "                                                                                                  \n",
      " activation_24 (Activation)     (None, 25, 25, 96)   0           ['batch_normalization_24[0][0]'] \n",
      "                                                                                                  \n",
      " activation_25 (Activation)     (None, 25, 25, 64)   0           ['batch_normalization_25[0][0]'] \n",
      "                                                                                                  \n",
      " mixed2 (Concatenate)           (None, 25, 25, 288)  0           ['activation_19[0][0]',          \n",
      "                                                                  'activation_21[0][0]',          \n",
      "                                                                  'activation_24[0][0]',          \n",
      "                                                                  'activation_25[0][0]']          \n",
      "                                                                                                  \n",
      " conv2d_27 (Conv2D)             (None, 25, 25, 64)   18432       ['mixed2[0][0]']                 \n",
      "                                                                                                  \n",
      " batch_normalization_27 (BatchN  (None, 25, 25, 64)  192         ['conv2d_27[0][0]']              \n",
      " ormalization)                                                                                    \n",
      "                                                                                                  \n",
      " activation_27 (Activation)     (None, 25, 25, 64)   0           ['batch_normalization_27[0][0]'] \n",
      "                                                                                                  \n",
      " conv2d_28 (Conv2D)             (None, 25, 25, 96)   55296       ['activation_27[0][0]']          \n",
      "                                                                                                  \n",
      " batch_normalization_28 (BatchN  (None, 25, 25, 96)  288         ['conv2d_28[0][0]']              \n",
      " ormalization)                                                                                    \n",
      "                                                                                                  \n",
      " activation_28 (Activation)     (None, 25, 25, 96)   0           ['batch_normalization_28[0][0]'] \n",
      "                                                                                                  \n",
      " conv2d_26 (Conv2D)             (None, 12, 12, 384)  995328      ['mixed2[0][0]']                 \n",
      "                                                                                                  \n",
      " conv2d_29 (Conv2D)             (None, 12, 12, 96)   82944       ['activation_28[0][0]']          \n",
      "                                                                                                  \n",
      " batch_normalization_26 (BatchN  (None, 12, 12, 384)  1152       ['conv2d_26[0][0]']              \n",
      " ormalization)                                                                                    \n",
      "                                                                                                  \n",
      " batch_normalization_29 (BatchN  (None, 12, 12, 96)  288         ['conv2d_29[0][0]']              \n",
      " ormalization)                                                                                    \n",
      "                                                                                                  \n",
      " activation_26 (Activation)     (None, 12, 12, 384)  0           ['batch_normalization_26[0][0]'] \n",
      "                                                                                                  \n",
      " activation_29 (Activation)     (None, 12, 12, 96)   0           ['batch_normalization_29[0][0]'] \n",
      "                                                                                                  \n",
      " max_pooling2d_2 (MaxPooling2D)  (None, 12, 12, 288)  0          ['mixed2[0][0]']                 \n",
      "                                                                                                  \n",
      " mixed3 (Concatenate)           (None, 12, 12, 768)  0           ['activation_26[0][0]',          \n",
      "                                                                  'activation_29[0][0]',          \n",
      "                                                                  'max_pooling2d_2[0][0]']        \n",
      "                                                                                                  \n",
      " conv2d_34 (Conv2D)             (None, 12, 12, 128)  98304       ['mixed3[0][0]']                 \n",
      "                                                                                                  \n",
      " batch_normalization_34 (BatchN  (None, 12, 12, 128)  384        ['conv2d_34[0][0]']              \n",
      " ormalization)                                                                                    \n",
      "                                                                                                  \n",
      " activation_34 (Activation)     (None, 12, 12, 128)  0           ['batch_normalization_34[0][0]'] \n",
      "                                                                                                  \n",
      " conv2d_35 (Conv2D)             (None, 12, 12, 128)  114688      ['activation_34[0][0]']          \n",
      "                                                                                                  \n",
      " batch_normalization_35 (BatchN  (None, 12, 12, 128)  384        ['conv2d_35[0][0]']              \n",
      " ormalization)                                                                                    \n",
      "                                                                                                  \n",
      " activation_35 (Activation)     (None, 12, 12, 128)  0           ['batch_normalization_35[0][0]'] \n",
      "                                                                                                  \n",
      " conv2d_31 (Conv2D)             (None, 12, 12, 128)  98304       ['mixed3[0][0]']                 \n",
      "                                                                                                  \n",
      " conv2d_36 (Conv2D)             (None, 12, 12, 128)  114688      ['activation_35[0][0]']          \n",
      "                                                                                                  \n",
      " batch_normalization_31 (BatchN  (None, 12, 12, 128)  384        ['conv2d_31[0][0]']              \n",
      " ormalization)                                                                                    \n",
      "                                                                                                  \n",
      " batch_normalization_36 (BatchN  (None, 12, 12, 128)  384        ['conv2d_36[0][0]']              \n",
      " ormalization)                                                                                    \n",
      "                                                                                                  \n",
      " activation_31 (Activation)     (None, 12, 12, 128)  0           ['batch_normalization_31[0][0]'] \n",
      "                                                                                                  \n",
      " activation_36 (Activation)     (None, 12, 12, 128)  0           ['batch_normalization_36[0][0]'] \n",
      "                                                                                                  \n",
      " conv2d_32 (Conv2D)             (None, 12, 12, 128)  114688      ['activation_31[0][0]']          \n",
      "                                                                                                  \n",
      " conv2d_37 (Conv2D)             (None, 12, 12, 128)  114688      ['activation_36[0][0]']          \n",
      "                                                                                                  \n",
      " batch_normalization_32 (BatchN  (None, 12, 12, 128)  384        ['conv2d_32[0][0]']              \n",
      " ormalization)                                                                                    \n",
      "                                                                                                  \n",
      " batch_normalization_37 (BatchN  (None, 12, 12, 128)  384        ['conv2d_37[0][0]']              \n",
      " ormalization)                                                                                    \n",
      "                                                                                                  \n",
      " activation_32 (Activation)     (None, 12, 12, 128)  0           ['batch_normalization_32[0][0]'] \n",
      "                                                                                                  \n",
      " activation_37 (Activation)     (None, 12, 12, 128)  0           ['batch_normalization_37[0][0]'] \n",
      "                                                                                                  \n",
      " average_pooling2d_3 (AveragePo  (None, 12, 12, 768)  0          ['mixed3[0][0]']                 \n",
      " oling2D)                                                                                         \n",
      "                                                                                                  \n",
      " conv2d_30 (Conv2D)             (None, 12, 12, 192)  147456      ['mixed3[0][0]']                 \n",
      "                                                                                                  \n",
      " conv2d_33 (Conv2D)             (None, 12, 12, 192)  172032      ['activation_32[0][0]']          \n",
      "                                                                                                  \n",
      " conv2d_38 (Conv2D)             (None, 12, 12, 192)  172032      ['activation_37[0][0]']          \n",
      "                                                                                                  \n",
      " conv2d_39 (Conv2D)             (None, 12, 12, 192)  147456      ['average_pooling2d_3[0][0]']    \n",
      "                                                                                                  \n",
      " batch_normalization_30 (BatchN  (None, 12, 12, 192)  576        ['conv2d_30[0][0]']              \n",
      " ormalization)                                                                                    \n",
      "                                                                                                  \n",
      " batch_normalization_33 (BatchN  (None, 12, 12, 192)  576        ['conv2d_33[0][0]']              \n",
      " ormalization)                                                                                    \n",
      "                                                                                                  \n",
      " batch_normalization_38 (BatchN  (None, 12, 12, 192)  576        ['conv2d_38[0][0]']              \n",
      " ormalization)                                                                                    \n",
      "                                                                                                  \n",
      " batch_normalization_39 (BatchN  (None, 12, 12, 192)  576        ['conv2d_39[0][0]']              \n",
      " ormalization)                                                                                    \n",
      "                                                                                                  \n",
      " activation_30 (Activation)     (None, 12, 12, 192)  0           ['batch_normalization_30[0][0]'] \n",
      "                                                                                                  \n",
      " activation_33 (Activation)     (None, 12, 12, 192)  0           ['batch_normalization_33[0][0]'] \n",
      "                                                                                                  \n",
      " activation_38 (Activation)     (None, 12, 12, 192)  0           ['batch_normalization_38[0][0]'] \n",
      "                                                                                                  \n",
      " activation_39 (Activation)     (None, 12, 12, 192)  0           ['batch_normalization_39[0][0]'] \n",
      "                                                                                                  \n",
      " mixed4 (Concatenate)           (None, 12, 12, 768)  0           ['activation_30[0][0]',          \n",
      "                                                                  'activation_33[0][0]',          \n",
      "                                                                  'activation_38[0][0]',          \n",
      "                                                                  'activation_39[0][0]']          \n",
      "                                                                                                  \n",
      " conv2d_44 (Conv2D)             (None, 12, 12, 160)  122880      ['mixed4[0][0]']                 \n",
      "                                                                                                  \n",
      " batch_normalization_44 (BatchN  (None, 12, 12, 160)  480        ['conv2d_44[0][0]']              \n",
      " ormalization)                                                                                    \n",
      "                                                                                                  \n",
      " activation_44 (Activation)     (None, 12, 12, 160)  0           ['batch_normalization_44[0][0]'] \n",
      "                                                                                                  \n",
      " conv2d_45 (Conv2D)             (None, 12, 12, 160)  179200      ['activation_44[0][0]']          \n",
      "                                                                                                  \n",
      " batch_normalization_45 (BatchN  (None, 12, 12, 160)  480        ['conv2d_45[0][0]']              \n",
      " ormalization)                                                                                    \n",
      "                                                                                                  \n",
      " activation_45 (Activation)     (None, 12, 12, 160)  0           ['batch_normalization_45[0][0]'] \n",
      "                                                                                                  \n",
      " conv2d_41 (Conv2D)             (None, 12, 12, 160)  122880      ['mixed4[0][0]']                 \n",
      "                                                                                                  \n",
      " conv2d_46 (Conv2D)             (None, 12, 12, 160)  179200      ['activation_45[0][0]']          \n",
      "                                                                                                  \n",
      " batch_normalization_41 (BatchN  (None, 12, 12, 160)  480        ['conv2d_41[0][0]']              \n",
      " ormalization)                                                                                    \n",
      "                                                                                                  \n",
      " batch_normalization_46 (BatchN  (None, 12, 12, 160)  480        ['conv2d_46[0][0]']              \n",
      " ormalization)                                                                                    \n",
      "                                                                                                  \n",
      " activation_41 (Activation)     (None, 12, 12, 160)  0           ['batch_normalization_41[0][0]'] \n",
      "                                                                                                  \n",
      " activation_46 (Activation)     (None, 12, 12, 160)  0           ['batch_normalization_46[0][0]'] \n",
      "                                                                                                  \n",
      " conv2d_42 (Conv2D)             (None, 12, 12, 160)  179200      ['activation_41[0][0]']          \n",
      "                                                                                                  \n",
      " conv2d_47 (Conv2D)             (None, 12, 12, 160)  179200      ['activation_46[0][0]']          \n",
      "                                                                                                  \n",
      " batch_normalization_42 (BatchN  (None, 12, 12, 160)  480        ['conv2d_42[0][0]']              \n",
      " ormalization)                                                                                    \n",
      "                                                                                                  \n",
      " batch_normalization_47 (BatchN  (None, 12, 12, 160)  480        ['conv2d_47[0][0]']              \n",
      " ormalization)                                                                                    \n",
      "                                                                                                  \n",
      " activation_42 (Activation)     (None, 12, 12, 160)  0           ['batch_normalization_42[0][0]'] \n",
      "                                                                                                  \n",
      " activation_47 (Activation)     (None, 12, 12, 160)  0           ['batch_normalization_47[0][0]'] \n",
      "                                                                                                  \n",
      " average_pooling2d_4 (AveragePo  (None, 12, 12, 768)  0          ['mixed4[0][0]']                 \n",
      " oling2D)                                                                                         \n",
      "                                                                                                  \n",
      " conv2d_40 (Conv2D)             (None, 12, 12, 192)  147456      ['mixed4[0][0]']                 \n",
      "                                                                                                  \n",
      " conv2d_43 (Conv2D)             (None, 12, 12, 192)  215040      ['activation_42[0][0]']          \n",
      "                                                                                                  \n",
      " conv2d_48 (Conv2D)             (None, 12, 12, 192)  215040      ['activation_47[0][0]']          \n",
      "                                                                                                  \n",
      " conv2d_49 (Conv2D)             (None, 12, 12, 192)  147456      ['average_pooling2d_4[0][0]']    \n",
      "                                                                                                  \n",
      " batch_normalization_40 (BatchN  (None, 12, 12, 192)  576        ['conv2d_40[0][0]']              \n",
      " ormalization)                                                                                    \n",
      "                                                                                                  \n",
      " batch_normalization_43 (BatchN  (None, 12, 12, 192)  576        ['conv2d_43[0][0]']              \n",
      " ormalization)                                                                                    \n",
      "                                                                                                  \n",
      " batch_normalization_48 (BatchN  (None, 12, 12, 192)  576        ['conv2d_48[0][0]']              \n",
      " ormalization)                                                                                    \n",
      "                                                                                                  \n",
      " batch_normalization_49 (BatchN  (None, 12, 12, 192)  576        ['conv2d_49[0][0]']              \n",
      " ormalization)                                                                                    \n",
      "                                                                                                  \n",
      " activation_40 (Activation)     (None, 12, 12, 192)  0           ['batch_normalization_40[0][0]'] \n",
      "                                                                                                  \n",
      " activation_43 (Activation)     (None, 12, 12, 192)  0           ['batch_normalization_43[0][0]'] \n",
      "                                                                                                  \n",
      " activation_48 (Activation)     (None, 12, 12, 192)  0           ['batch_normalization_48[0][0]'] \n",
      "                                                                                                  \n",
      " activation_49 (Activation)     (None, 12, 12, 192)  0           ['batch_normalization_49[0][0]'] \n",
      "                                                                                                  \n",
      " mixed5 (Concatenate)           (None, 12, 12, 768)  0           ['activation_40[0][0]',          \n",
      "                                                                  'activation_43[0][0]',          \n",
      "                                                                  'activation_48[0][0]',          \n",
      "                                                                  'activation_49[0][0]']          \n",
      "                                                                                                  \n",
      " conv2d_54 (Conv2D)             (None, 12, 12, 160)  122880      ['mixed5[0][0]']                 \n",
      "                                                                                                  \n",
      " batch_normalization_54 (BatchN  (None, 12, 12, 160)  480        ['conv2d_54[0][0]']              \n",
      " ormalization)                                                                                    \n",
      "                                                                                                  \n",
      " activation_54 (Activation)     (None, 12, 12, 160)  0           ['batch_normalization_54[0][0]'] \n",
      "                                                                                                  \n",
      " conv2d_55 (Conv2D)             (None, 12, 12, 160)  179200      ['activation_54[0][0]']          \n",
      "                                                                                                  \n",
      " batch_normalization_55 (BatchN  (None, 12, 12, 160)  480        ['conv2d_55[0][0]']              \n",
      " ormalization)                                                                                    \n",
      "                                                                                                  \n",
      " activation_55 (Activation)     (None, 12, 12, 160)  0           ['batch_normalization_55[0][0]'] \n",
      "                                                                                                  \n",
      " conv2d_51 (Conv2D)             (None, 12, 12, 160)  122880      ['mixed5[0][0]']                 \n",
      "                                                                                                  \n",
      " conv2d_56 (Conv2D)             (None, 12, 12, 160)  179200      ['activation_55[0][0]']          \n",
      "                                                                                                  \n",
      " batch_normalization_51 (BatchN  (None, 12, 12, 160)  480        ['conv2d_51[0][0]']              \n",
      " ormalization)                                                                                    \n",
      "                                                                                                  \n",
      " batch_normalization_56 (BatchN  (None, 12, 12, 160)  480        ['conv2d_56[0][0]']              \n",
      " ormalization)                                                                                    \n",
      "                                                                                                  \n",
      " activation_51 (Activation)     (None, 12, 12, 160)  0           ['batch_normalization_51[0][0]'] \n",
      "                                                                                                  \n",
      " activation_56 (Activation)     (None, 12, 12, 160)  0           ['batch_normalization_56[0][0]'] \n",
      "                                                                                                  \n",
      " conv2d_52 (Conv2D)             (None, 12, 12, 160)  179200      ['activation_51[0][0]']          \n",
      "                                                                                                  \n",
      " conv2d_57 (Conv2D)             (None, 12, 12, 160)  179200      ['activation_56[0][0]']          \n",
      "                                                                                                  \n",
      " batch_normalization_52 (BatchN  (None, 12, 12, 160)  480        ['conv2d_52[0][0]']              \n",
      " ormalization)                                                                                    \n",
      "                                                                                                  \n",
      " batch_normalization_57 (BatchN  (None, 12, 12, 160)  480        ['conv2d_57[0][0]']              \n",
      " ormalization)                                                                                    \n",
      "                                                                                                  \n",
      " activation_52 (Activation)     (None, 12, 12, 160)  0           ['batch_normalization_52[0][0]'] \n",
      "                                                                                                  \n",
      " activation_57 (Activation)     (None, 12, 12, 160)  0           ['batch_normalization_57[0][0]'] \n",
      "                                                                                                  \n",
      " average_pooling2d_5 (AveragePo  (None, 12, 12, 768)  0          ['mixed5[0][0]']                 \n",
      " oling2D)                                                                                         \n",
      "                                                                                                  \n",
      " conv2d_50 (Conv2D)             (None, 12, 12, 192)  147456      ['mixed5[0][0]']                 \n",
      "                                                                                                  \n",
      " conv2d_53 (Conv2D)             (None, 12, 12, 192)  215040      ['activation_52[0][0]']          \n",
      "                                                                                                  \n",
      " conv2d_58 (Conv2D)             (None, 12, 12, 192)  215040      ['activation_57[0][0]']          \n",
      "                                                                                                  \n",
      " conv2d_59 (Conv2D)             (None, 12, 12, 192)  147456      ['average_pooling2d_5[0][0]']    \n",
      "                                                                                                  \n",
      " batch_normalization_50 (BatchN  (None, 12, 12, 192)  576        ['conv2d_50[0][0]']              \n",
      " ormalization)                                                                                    \n",
      "                                                                                                  \n",
      " batch_normalization_53 (BatchN  (None, 12, 12, 192)  576        ['conv2d_53[0][0]']              \n",
      " ormalization)                                                                                    \n",
      "                                                                                                  \n",
      " batch_normalization_58 (BatchN  (None, 12, 12, 192)  576        ['conv2d_58[0][0]']              \n",
      " ormalization)                                                                                    \n",
      "                                                                                                  \n",
      " batch_normalization_59 (BatchN  (None, 12, 12, 192)  576        ['conv2d_59[0][0]']              \n",
      " ormalization)                                                                                    \n",
      "                                                                                                  \n",
      " activation_50 (Activation)     (None, 12, 12, 192)  0           ['batch_normalization_50[0][0]'] \n",
      "                                                                                                  \n",
      " activation_53 (Activation)     (None, 12, 12, 192)  0           ['batch_normalization_53[0][0]'] \n",
      "                                                                                                  \n",
      " activation_58 (Activation)     (None, 12, 12, 192)  0           ['batch_normalization_58[0][0]'] \n",
      "                                                                                                  \n",
      " activation_59 (Activation)     (None, 12, 12, 192)  0           ['batch_normalization_59[0][0]'] \n",
      "                                                                                                  \n",
      " mixed6 (Concatenate)           (None, 12, 12, 768)  0           ['activation_50[0][0]',          \n",
      "                                                                  'activation_53[0][0]',          \n",
      "                                                                  'activation_58[0][0]',          \n",
      "                                                                  'activation_59[0][0]']          \n",
      "                                                                                                  \n",
      " conv2d_64 (Conv2D)             (None, 12, 12, 192)  147456      ['mixed6[0][0]']                 \n",
      "                                                                                                  \n",
      " batch_normalization_64 (BatchN  (None, 12, 12, 192)  576        ['conv2d_64[0][0]']              \n",
      " ormalization)                                                                                    \n",
      "                                                                                                  \n",
      " activation_64 (Activation)     (None, 12, 12, 192)  0           ['batch_normalization_64[0][0]'] \n",
      "                                                                                                  \n",
      " conv2d_65 (Conv2D)             (None, 12, 12, 192)  258048      ['activation_64[0][0]']          \n",
      "                                                                                                  \n",
      " batch_normalization_65 (BatchN  (None, 12, 12, 192)  576        ['conv2d_65[0][0]']              \n",
      " ormalization)                                                                                    \n",
      "                                                                                                  \n",
      " activation_65 (Activation)     (None, 12, 12, 192)  0           ['batch_normalization_65[0][0]'] \n",
      "                                                                                                  \n",
      " conv2d_61 (Conv2D)             (None, 12, 12, 192)  147456      ['mixed6[0][0]']                 \n",
      "                                                                                                  \n",
      " conv2d_66 (Conv2D)             (None, 12, 12, 192)  258048      ['activation_65[0][0]']          \n",
      "                                                                                                  \n",
      " batch_normalization_61 (BatchN  (None, 12, 12, 192)  576        ['conv2d_61[0][0]']              \n",
      " ormalization)                                                                                    \n",
      "                                                                                                  \n",
      " batch_normalization_66 (BatchN  (None, 12, 12, 192)  576        ['conv2d_66[0][0]']              \n",
      " ormalization)                                                                                    \n",
      "                                                                                                  \n",
      " activation_61 (Activation)     (None, 12, 12, 192)  0           ['batch_normalization_61[0][0]'] \n",
      "                                                                                                  \n",
      " activation_66 (Activation)     (None, 12, 12, 192)  0           ['batch_normalization_66[0][0]'] \n",
      "                                                                                                  \n",
      " conv2d_62 (Conv2D)             (None, 12, 12, 192)  258048      ['activation_61[0][0]']          \n",
      "                                                                                                  \n",
      " conv2d_67 (Conv2D)             (None, 12, 12, 192)  258048      ['activation_66[0][0]']          \n",
      "                                                                                                  \n",
      " batch_normalization_62 (BatchN  (None, 12, 12, 192)  576        ['conv2d_62[0][0]']              \n",
      " ormalization)                                                                                    \n",
      "                                                                                                  \n",
      " batch_normalization_67 (BatchN  (None, 12, 12, 192)  576        ['conv2d_67[0][0]']              \n",
      " ormalization)                                                                                    \n",
      "                                                                                                  \n",
      " activation_62 (Activation)     (None, 12, 12, 192)  0           ['batch_normalization_62[0][0]'] \n",
      "                                                                                                  \n",
      " activation_67 (Activation)     (None, 12, 12, 192)  0           ['batch_normalization_67[0][0]'] \n",
      "                                                                                                  \n",
      " average_pooling2d_6 (AveragePo  (None, 12, 12, 768)  0          ['mixed6[0][0]']                 \n",
      " oling2D)                                                                                         \n",
      "                                                                                                  \n",
      " conv2d_60 (Conv2D)             (None, 12, 12, 192)  147456      ['mixed6[0][0]']                 \n",
      "                                                                                                  \n",
      " conv2d_63 (Conv2D)             (None, 12, 12, 192)  258048      ['activation_62[0][0]']          \n",
      "                                                                                                  \n",
      " conv2d_68 (Conv2D)             (None, 12, 12, 192)  258048      ['activation_67[0][0]']          \n",
      "                                                                                                  \n",
      " conv2d_69 (Conv2D)             (None, 12, 12, 192)  147456      ['average_pooling2d_6[0][0]']    \n",
      "                                                                                                  \n",
      " batch_normalization_60 (BatchN  (None, 12, 12, 192)  576        ['conv2d_60[0][0]']              \n",
      " ormalization)                                                                                    \n",
      "                                                                                                  \n",
      " batch_normalization_63 (BatchN  (None, 12, 12, 192)  576        ['conv2d_63[0][0]']              \n",
      " ormalization)                                                                                    \n",
      "                                                                                                  \n",
      " batch_normalization_68 (BatchN  (None, 12, 12, 192)  576        ['conv2d_68[0][0]']              \n",
      " ormalization)                                                                                    \n",
      "                                                                                                  \n",
      " batch_normalization_69 (BatchN  (None, 12, 12, 192)  576        ['conv2d_69[0][0]']              \n",
      " ormalization)                                                                                    \n",
      "                                                                                                  \n",
      " activation_60 (Activation)     (None, 12, 12, 192)  0           ['batch_normalization_60[0][0]'] \n",
      "                                                                                                  \n",
      " activation_63 (Activation)     (None, 12, 12, 192)  0           ['batch_normalization_63[0][0]'] \n",
      "                                                                                                  \n",
      " activation_68 (Activation)     (None, 12, 12, 192)  0           ['batch_normalization_68[0][0]'] \n",
      "                                                                                                  \n",
      " activation_69 (Activation)     (None, 12, 12, 192)  0           ['batch_normalization_69[0][0]'] \n",
      "                                                                                                  \n",
      " mixed7 (Concatenate)           (None, 12, 12, 768)  0           ['activation_60[0][0]',          \n",
      "                                                                  'activation_63[0][0]',          \n",
      "                                                                  'activation_68[0][0]',          \n",
      "                                                                  'activation_69[0][0]']          \n",
      "                                                                                                  \n",
      " conv2d_72 (Conv2D)             (None, 12, 12, 192)  147456      ['mixed7[0][0]']                 \n",
      "                                                                                                  \n",
      " batch_normalization_72 (BatchN  (None, 12, 12, 192)  576        ['conv2d_72[0][0]']              \n",
      " ormalization)                                                                                    \n",
      "                                                                                                  \n",
      " activation_72 (Activation)     (None, 12, 12, 192)  0           ['batch_normalization_72[0][0]'] \n",
      "                                                                                                  \n",
      " conv2d_73 (Conv2D)             (None, 12, 12, 192)  258048      ['activation_72[0][0]']          \n",
      "                                                                                                  \n",
      " batch_normalization_73 (BatchN  (None, 12, 12, 192)  576        ['conv2d_73[0][0]']              \n",
      " ormalization)                                                                                    \n",
      "                                                                                                  \n",
      " activation_73 (Activation)     (None, 12, 12, 192)  0           ['batch_normalization_73[0][0]'] \n",
      "                                                                                                  \n",
      " conv2d_70 (Conv2D)             (None, 12, 12, 192)  147456      ['mixed7[0][0]']                 \n",
      "                                                                                                  \n",
      " conv2d_74 (Conv2D)             (None, 12, 12, 192)  258048      ['activation_73[0][0]']          \n",
      "                                                                                                  \n",
      " batch_normalization_70 (BatchN  (None, 12, 12, 192)  576        ['conv2d_70[0][0]']              \n",
      " ormalization)                                                                                    \n",
      "                                                                                                  \n",
      " batch_normalization_74 (BatchN  (None, 12, 12, 192)  576        ['conv2d_74[0][0]']              \n",
      " ormalization)                                                                                    \n",
      "                                                                                                  \n",
      " activation_70 (Activation)     (None, 12, 12, 192)  0           ['batch_normalization_70[0][0]'] \n",
      "                                                                                                  \n",
      " activation_74 (Activation)     (None, 12, 12, 192)  0           ['batch_normalization_74[0][0]'] \n",
      "                                                                                                  \n",
      " conv2d_71 (Conv2D)             (None, 5, 5, 320)    552960      ['activation_70[0][0]']          \n",
      "                                                                                                  \n",
      " conv2d_75 (Conv2D)             (None, 5, 5, 192)    331776      ['activation_74[0][0]']          \n",
      "                                                                                                  \n",
      " batch_normalization_71 (BatchN  (None, 5, 5, 320)   960         ['conv2d_71[0][0]']              \n",
      " ormalization)                                                                                    \n",
      "                                                                                                  \n",
      " batch_normalization_75 (BatchN  (None, 5, 5, 192)   576         ['conv2d_75[0][0]']              \n",
      " ormalization)                                                                                    \n",
      "                                                                                                  \n",
      " activation_71 (Activation)     (None, 5, 5, 320)    0           ['batch_normalization_71[0][0]'] \n",
      "                                                                                                  \n",
      " activation_75 (Activation)     (None, 5, 5, 192)    0           ['batch_normalization_75[0][0]'] \n",
      "                                                                                                  \n",
      " max_pooling2d_3 (MaxPooling2D)  (None, 5, 5, 768)   0           ['mixed7[0][0]']                 \n",
      "                                                                                                  \n",
      " mixed8 (Concatenate)           (None, 5, 5, 1280)   0           ['activation_71[0][0]',          \n",
      "                                                                  'activation_75[0][0]',          \n",
      "                                                                  'max_pooling2d_3[0][0]']        \n",
      "                                                                                                  \n",
      " conv2d_80 (Conv2D)             (None, 5, 5, 448)    573440      ['mixed8[0][0]']                 \n",
      "                                                                                                  \n",
      " batch_normalization_80 (BatchN  (None, 5, 5, 448)   1344        ['conv2d_80[0][0]']              \n",
      " ormalization)                                                                                    \n",
      "                                                                                                  \n",
      " activation_80 (Activation)     (None, 5, 5, 448)    0           ['batch_normalization_80[0][0]'] \n",
      "                                                                                                  \n",
      " conv2d_77 (Conv2D)             (None, 5, 5, 384)    491520      ['mixed8[0][0]']                 \n",
      "                                                                                                  \n",
      " conv2d_81 (Conv2D)             (None, 5, 5, 384)    1548288     ['activation_80[0][0]']          \n",
      "                                                                                                  \n",
      " batch_normalization_77 (BatchN  (None, 5, 5, 384)   1152        ['conv2d_77[0][0]']              \n",
      " ormalization)                                                                                    \n",
      "                                                                                                  \n",
      " batch_normalization_81 (BatchN  (None, 5, 5, 384)   1152        ['conv2d_81[0][0]']              \n",
      " ormalization)                                                                                    \n",
      "                                                                                                  \n",
      " activation_77 (Activation)     (None, 5, 5, 384)    0           ['batch_normalization_77[0][0]'] \n",
      "                                                                                                  \n",
      " activation_81 (Activation)     (None, 5, 5, 384)    0           ['batch_normalization_81[0][0]'] \n",
      "                                                                                                  \n",
      " conv2d_78 (Conv2D)             (None, 5, 5, 384)    442368      ['activation_77[0][0]']          \n",
      "                                                                                                  \n",
      " conv2d_79 (Conv2D)             (None, 5, 5, 384)    442368      ['activation_77[0][0]']          \n",
      "                                                                                                  \n",
      " conv2d_82 (Conv2D)             (None, 5, 5, 384)    442368      ['activation_81[0][0]']          \n",
      "                                                                                                  \n",
      " conv2d_83 (Conv2D)             (None, 5, 5, 384)    442368      ['activation_81[0][0]']          \n",
      "                                                                                                  \n",
      " average_pooling2d_7 (AveragePo  (None, 5, 5, 1280)  0           ['mixed8[0][0]']                 \n",
      " oling2D)                                                                                         \n",
      "                                                                                                  \n",
      " conv2d_76 (Conv2D)             (None, 5, 5, 320)    409600      ['mixed8[0][0]']                 \n",
      "                                                                                                  \n",
      " batch_normalization_78 (BatchN  (None, 5, 5, 384)   1152        ['conv2d_78[0][0]']              \n",
      " ormalization)                                                                                    \n",
      "                                                                                                  \n",
      " batch_normalization_79 (BatchN  (None, 5, 5, 384)   1152        ['conv2d_79[0][0]']              \n",
      " ormalization)                                                                                    \n",
      "                                                                                                  \n",
      " batch_normalization_82 (BatchN  (None, 5, 5, 384)   1152        ['conv2d_82[0][0]']              \n",
      " ormalization)                                                                                    \n",
      "                                                                                                  \n",
      " batch_normalization_83 (BatchN  (None, 5, 5, 384)   1152        ['conv2d_83[0][0]']              \n",
      " ormalization)                                                                                    \n",
      "                                                                                                  \n",
      " conv2d_84 (Conv2D)             (None, 5, 5, 192)    245760      ['average_pooling2d_7[0][0]']    \n",
      "                                                                                                  \n",
      " batch_normalization_76 (BatchN  (None, 5, 5, 320)   960         ['conv2d_76[0][0]']              \n",
      " ormalization)                                                                                    \n",
      "                                                                                                  \n",
      " activation_78 (Activation)     (None, 5, 5, 384)    0           ['batch_normalization_78[0][0]'] \n",
      "                                                                                                  \n",
      " activation_79 (Activation)     (None, 5, 5, 384)    0           ['batch_normalization_79[0][0]'] \n",
      "                                                                                                  \n",
      " activation_82 (Activation)     (None, 5, 5, 384)    0           ['batch_normalization_82[0][0]'] \n",
      "                                                                                                  \n",
      " activation_83 (Activation)     (None, 5, 5, 384)    0           ['batch_normalization_83[0][0]'] \n",
      "                                                                                                  \n",
      " batch_normalization_84 (BatchN  (None, 5, 5, 192)   576         ['conv2d_84[0][0]']              \n",
      " ormalization)                                                                                    \n",
      "                                                                                                  \n",
      " activation_76 (Activation)     (None, 5, 5, 320)    0           ['batch_normalization_76[0][0]'] \n",
      "                                                                                                  \n",
      " mixed9_0 (Concatenate)         (None, 5, 5, 768)    0           ['activation_78[0][0]',          \n",
      "                                                                  'activation_79[0][0]']          \n",
      "                                                                                                  \n",
      " concatenate (Concatenate)      (None, 5, 5, 768)    0           ['activation_82[0][0]',          \n",
      "                                                                  'activation_83[0][0]']          \n",
      "                                                                                                  \n",
      " activation_84 (Activation)     (None, 5, 5, 192)    0           ['batch_normalization_84[0][0]'] \n",
      "                                                                                                  \n",
      " mixed9 (Concatenate)           (None, 5, 5, 2048)   0           ['activation_76[0][0]',          \n",
      "                                                                  'mixed9_0[0][0]',               \n",
      "                                                                  'concatenate[0][0]',            \n",
      "                                                                  'activation_84[0][0]']          \n",
      "                                                                                                  \n",
      " conv2d_89 (Conv2D)             (None, 5, 5, 448)    917504      ['mixed9[0][0]']                 \n",
      "                                                                                                  \n",
      " batch_normalization_89 (BatchN  (None, 5, 5, 448)   1344        ['conv2d_89[0][0]']              \n",
      " ormalization)                                                                                    \n",
      "                                                                                                  \n",
      " activation_89 (Activation)     (None, 5, 5, 448)    0           ['batch_normalization_89[0][0]'] \n",
      "                                                                                                  \n",
      " conv2d_86 (Conv2D)             (None, 5, 5, 384)    786432      ['mixed9[0][0]']                 \n",
      "                                                                                                  \n",
      " conv2d_90 (Conv2D)             (None, 5, 5, 384)    1548288     ['activation_89[0][0]']          \n",
      "                                                                                                  \n",
      " batch_normalization_86 (BatchN  (None, 5, 5, 384)   1152        ['conv2d_86[0][0]']              \n",
      " ormalization)                                                                                    \n",
      "                                                                                                  \n",
      " batch_normalization_90 (BatchN  (None, 5, 5, 384)   1152        ['conv2d_90[0][0]']              \n",
      " ormalization)                                                                                    \n",
      "                                                                                                  \n",
      " activation_86 (Activation)     (None, 5, 5, 384)    0           ['batch_normalization_86[0][0]'] \n",
      "                                                                                                  \n",
      " activation_90 (Activation)     (None, 5, 5, 384)    0           ['batch_normalization_90[0][0]'] \n",
      "                                                                                                  \n",
      " conv2d_87 (Conv2D)             (None, 5, 5, 384)    442368      ['activation_86[0][0]']          \n",
      "                                                                                                  \n",
      " conv2d_88 (Conv2D)             (None, 5, 5, 384)    442368      ['activation_86[0][0]']          \n",
      "                                                                                                  \n",
      " conv2d_91 (Conv2D)             (None, 5, 5, 384)    442368      ['activation_90[0][0]']          \n",
      "                                                                                                  \n",
      " conv2d_92 (Conv2D)             (None, 5, 5, 384)    442368      ['activation_90[0][0]']          \n",
      "                                                                                                  \n",
      " average_pooling2d_8 (AveragePo  (None, 5, 5, 2048)  0           ['mixed9[0][0]']                 \n",
      " oling2D)                                                                                         \n",
      "                                                                                                  \n",
      " conv2d_85 (Conv2D)             (None, 5, 5, 320)    655360      ['mixed9[0][0]']                 \n",
      "                                                                                                  \n",
      " batch_normalization_87 (BatchN  (None, 5, 5, 384)   1152        ['conv2d_87[0][0]']              \n",
      " ormalization)                                                                                    \n",
      "                                                                                                  \n",
      " batch_normalization_88 (BatchN  (None, 5, 5, 384)   1152        ['conv2d_88[0][0]']              \n",
      " ormalization)                                                                                    \n",
      "                                                                                                  \n",
      " batch_normalization_91 (BatchN  (None, 5, 5, 384)   1152        ['conv2d_91[0][0]']              \n",
      " ormalization)                                                                                    \n",
      "                                                                                                  \n",
      " batch_normalization_92 (BatchN  (None, 5, 5, 384)   1152        ['conv2d_92[0][0]']              \n",
      " ormalization)                                                                                    \n",
      "                                                                                                  \n",
      " conv2d_93 (Conv2D)             (None, 5, 5, 192)    393216      ['average_pooling2d_8[0][0]']    \n",
      "                                                                                                  \n",
      " batch_normalization_85 (BatchN  (None, 5, 5, 320)   960         ['conv2d_85[0][0]']              \n",
      " ormalization)                                                                                    \n",
      "                                                                                                  \n",
      " activation_87 (Activation)     (None, 5, 5, 384)    0           ['batch_normalization_87[0][0]'] \n",
      "                                                                                                  \n",
      " activation_88 (Activation)     (None, 5, 5, 384)    0           ['batch_normalization_88[0][0]'] \n",
      "                                                                                                  \n",
      " activation_91 (Activation)     (None, 5, 5, 384)    0           ['batch_normalization_91[0][0]'] \n",
      "                                                                                                  \n",
      " activation_92 (Activation)     (None, 5, 5, 384)    0           ['batch_normalization_92[0][0]'] \n",
      "                                                                                                  \n",
      " batch_normalization_93 (BatchN  (None, 5, 5, 192)   576         ['conv2d_93[0][0]']              \n",
      " ormalization)                                                                                    \n",
      "                                                                                                  \n",
      " activation_85 (Activation)     (None, 5, 5, 320)    0           ['batch_normalization_85[0][0]'] \n",
      "                                                                                                  \n",
      " mixed9_1 (Concatenate)         (None, 5, 5, 768)    0           ['activation_87[0][0]',          \n",
      "                                                                  'activation_88[0][0]']          \n",
      "                                                                                                  \n",
      " concatenate_1 (Concatenate)    (None, 5, 5, 768)    0           ['activation_91[0][0]',          \n",
      "                                                                  'activation_92[0][0]']          \n",
      "                                                                                                  \n",
      " activation_93 (Activation)     (None, 5, 5, 192)    0           ['batch_normalization_93[0][0]'] \n",
      "                                                                                                  \n",
      " mixed10 (Concatenate)          (None, 5, 5, 2048)   0           ['activation_85[0][0]',          \n",
      "                                                                  'mixed9_1[0][0]',               \n",
      "                                                                  'concatenate_1[0][0]',          \n",
      "                                                                  'activation_93[0][0]']          \n",
      "                                                                                                  \n",
      " flatten (Flatten)              (None, 51200)        0           ['mixed10[0][0]']                \n",
      "                                                                                                  \n",
      " dense (Dense)                  (None, 512)          26214912    ['flatten[0][0]']                \n",
      "                                                                                                  \n",
      " dense_1 (Dense)                (None, 11)           5643        ['dense[0][0]']                  \n",
      "                                                                                                  \n",
      "==================================================================================================\n",
      "Total params: 48,023,339\n",
      "Trainable params: 47,804,283\n",
      "Non-trainable params: 219,056\n",
      "__________________________________________________________________________________________________\n",
      "--------------------------------------------------------------------------------\n",
      "Accuracy Found:  0.9067460317460317\n",
      "--------------------------------------------------------------------------------\n",
      "Confusion Matrix:\n",
      " [[101   0   5  17]\n",
      " [  2 205   0   0]\n",
      " [  4   1  71   8]\n",
      " [  4   0   6  80]]\n",
      "--------------------------------------------------------------------------------\n",
      "Classification Report:\n",
      "               precision    recall  f1-score   support\n",
      "\n",
      "           0       0.91      0.82      0.86       123\n",
      "           1       1.00      0.99      0.99       207\n",
      "           2       0.87      0.85      0.86        84\n",
      "           3       0.76      0.89      0.82        90\n",
      "\n",
      "    accuracy                           0.91       504\n",
      "   macro avg       0.88      0.89      0.88       504\n",
      "weighted avg       0.91      0.91      0.91       504\n",
      "\n",
      "--------------------------------------------------------------------------------\n"
     ]
    },
    {
     "data": {
      "image/png": "[encoded data removed]",
      "text/plain": [
       "<Figure size 432x288 with 1 Axes>"
      ]
     },
     "metadata": {
      "needs_background": "light"
     },
     "output_type": "display_data"
    },
    {
     "data": {
      "image/png": "[encoded data removed]",
      "text/plain": [
       "<Figure size 432x288 with 1 Axes>"
      ]
     },
     "metadata": {
      "needs_background": "light"
     },
     "output_type": "display_data"
    }
   ],
   "source": [
    "Inception.summary()\n",
    "\n",
    "y_pred4=Inception.predict(x_test)\n",
    "\n",
    "y_pred4=np.argmax(y_pred4,axis=1)\n",
    "\n",
    "print(\"-\"*80)\n",
    "print(\"Accuracy Found: \",accuracy_score(y_test,y_pred4))\n",
    "\n",
    "print(\"-\"*80)\n",
    "print(\"Confusion Matrix:\\n\",confusion_matrix(y_test,y_pred4)) \n",
    "print(\"-\"*80)\n",
    "print(\"Classification Report:\\n\",classification_report(y_test,y_pred4))\n",
    "print(\"-\"*80)\n",
    "\n",
    "#plt.figure(figsize=(15,9))\n",
    "plt.title('Loss Comparison',fontsize=20)\n",
    "plt.plot(history2.history['loss'],)\n",
    "plt.plot(history2.history['val_loss'])\n",
    "plt.legend(['Training Loss','Validation Loss'])\n",
    "plt.xlabel(\"Epochs\")\n",
    "plt.ylabel(\"Error rate\")\n",
    "plt.show()\n",
    "\n",
    "\n",
    "#plt.figure(figsize=(15,9))\n",
    "plt.title('Accuracy comparison ',fontsize=20)\n",
    "plt.plot(history2.history['accuracy'],)\n",
    "plt.plot(history2.history['val_accuracy'])\n",
    "plt.legend(['Training Acc','Validation Acc'])\n",
    "plt.xlabel(\"Epochs\")\n",
    "plt.ylabel(\"Accuracy rate\")\n",
    "plt.show()"
   ]
  },
  {
   "cell_type": "markdown",
   "id": "7e57b2f9",
   "metadata": {},
   "source": [
    "# Model_5. DenseNet201"
   ]
  },
  {
   "cell_type": "code",
   "execution_count": 46,
   "id": "afe42a2c",
   "metadata": {},
   "outputs": [
    {
     "name": "stdout",
     "output_type": "stream",
     "text": [
      "Epoch 1/10\n",
      "48/48 [==============================] - 1142s 23s/step - loss: 0.9162 - accuracy: 0.7130 - val_loss: 0.6820 - val_accuracy: 0.7044\n",
      "Epoch 2/10\n",
      "48/48 [==============================] - 1045s 22s/step - loss: 0.0911 - accuracy: 0.9828 - val_loss: 0.3434 - val_accuracy: 0.8730\n",
      "Epoch 3/10\n",
      "48/48 [==============================] - 1047s 22s/step - loss: 0.0275 - accuracy: 0.9993 - val_loss: 0.2879 - val_accuracy: 0.8948\n",
      "Epoch 4/10\n",
      "48/48 [==============================] - 1052s 22s/step - loss: 0.0143 - accuracy: 0.9993 - val_loss: 0.2287 - val_accuracy: 0.9147\n",
      "Epoch 5/10\n"
     ]
    }
   ],
   "source": [
    "DenseNet201=tf.keras.applications.DenseNet201(weights='imagenet',include_top=False, input_shape=x_train.shape[1:])\n",
    "\n",
    "flat1=Flatten()(DenseNet201.layers[-1].output)\n",
    "class1=Dense(512,activation='relu')(flat1)\n",
    "output=Dense(11,activation='softmax')(class1)\n",
    "\n",
    "DenseNet201=Model(inputs=DenseNet201.inputs,outputs=output)\n",
    "\n",
    "\n",
    "for layer in DenseNet201.layers[:20]:\n",
    "    layer.trainable = False\n",
    "for layer in DenseNet201.layers[20:]:\n",
    "    layer.trainable = True\n",
    "    \n",
    "DenseNet201.compile(optimizer='Adagrad',loss=tf.keras.losses.SparseCategoricalCrossentropy(from_logits=False),metrics=['accuracy'])\n",
    "\n",
    "history2=DenseNet201.fit(x_train,\n",
    "                     y_train,\n",
    "                     verbose=1,\n",
    "                     epochs=10,  #20\n",
    "                     batch_size=32,  #15\n",
    "                     validation_data=(x_test,y_test) )"
   ]
  },
  {
   "cell_type": "code",
   "execution_count": null,
   "id": "44433792",
   "metadata": {},
   "outputs": [],
   "source": [
    "#DenseNet201.summary()\n",
    "\n",
    "y_pred5=DenseNet201.predict(x_test)\n",
    "\n",
    "y_pred5=np.argmax(y_pred5,axis=1)\n",
    "\n",
    "print(\"-\"*80)\n",
    "print(\"Accuracy Found: \",accuracy_score(y_test,y_pred5))\n",
    "\n",
    "print(\"-\"*80)\n",
    "print(\"Confusion Matrix:\\n\",confusion_matrix(y_test,y_pred5)) \n",
    "print(\"-\"*80)\n",
    "print(\"Classification Report:\\n\",classification_report(y_test,y_pred5))\n",
    "print(\"-\"*80)\n",
    "\n",
    "#plt.figure(figsize=(15,9))\n",
    "plt.title('Loss Comparison',fontsize=20)\n",
    "plt.plot(history2.history['loss'],)\n",
    "plt.plot(history2.history['val_loss'])\n",
    "plt.legend(['Training Loss','Validation Loss'])\n",
    "plt.xlabel(\"Epochs\")\n",
    "plt.ylabel(\"Error rate\")\n",
    "plt.show()\n",
    "\n",
    "\n",
    "#plt.figure(figsize=(15,9))\n",
    "plt.title('Accuracy comparison ',fontsize=20)\n",
    "plt.plot(history2.history['accuracy'],)\n",
    "plt.plot(history2.history['val_accuracy'])\n",
    "plt.legend(['Training Acc','Validation Acc'])\n",
    "plt.xlabel(\"Epochs\")\n",
    "plt.ylabel(\"Accuracy rate\")\n",
    "plt.show()"
   ]
  },
  {
   "cell_type": "markdown",
   "id": "dca5c785",
   "metadata": {},
   "source": [
    "# Model_6. MobileNetV2"
   ]
  },
  {
   "cell_type": "code",
   "execution_count": 26,
   "id": "43f1bd87",
   "metadata": {},
   "outputs": [
    {
     "name": "stdout",
     "output_type": "stream",
     "text": [
      "Epoch 1/10\n",
      "48/48 [==============================] - 140s 3s/step - loss: 1.0184 - accuracy: 0.6832 - val_loss: 0.8918 - val_accuracy: 0.6667\n",
      "Epoch 2/10\n",
      "48/48 [==============================] - 133s 3s/step - loss: 0.1070 - accuracy: 0.9729 - val_loss: 1.0913 - val_accuracy: 0.6627\n",
      "Epoch 3/10\n",
      "48/48 [==============================] - 131s 3s/step - loss: 0.0388 - accuracy: 0.9940 - val_loss: 0.5412 - val_accuracy: 0.7956\n",
      "Epoch 4/10\n",
      "48/48 [==============================] - 129s 3s/step - loss: 0.0236 - accuracy: 0.9974 - val_loss: 1.4072 - val_accuracy: 0.6190\n",
      "Epoch 5/10\n",
      "48/48 [==============================] - 128s 3s/step - loss: 0.0192 - accuracy: 0.9974 - val_loss: 0.7223 - val_accuracy: 0.7857\n",
      "Epoch 6/10\n",
      "48/48 [==============================] - 127s 3s/step - loss: 0.0121 - accuracy: 0.9993 - val_loss: 0.5774 - val_accuracy: 0.7956\n",
      "Epoch 7/10\n",
      "48/48 [==============================] - 127s 3s/step - loss: 0.0077 - accuracy: 0.9993 - val_loss: 0.5327 - val_accuracy: 0.7956\n",
      "Epoch 8/10\n",
      "48/48 [==============================] - 129s 3s/step - loss: 0.0068 - accuracy: 1.0000 - val_loss: 0.5145 - val_accuracy: 0.8194\n",
      "Epoch 9/10\n",
      "48/48 [==============================] - 128s 3s/step - loss: 0.0065 - accuracy: 0.9987 - val_loss: 0.6022 - val_accuracy: 0.7877\n",
      "Epoch 10/10\n",
      "48/48 [==============================] - 127s 3s/step - loss: 0.0069 - accuracy: 0.9993 - val_loss: 0.6917 - val_accuracy: 0.7937\n"
     ]
    }
   ],
   "source": [
    "Mobile_netv2 =tf.keras.applications.MobileNetV2(weights='imagenet',include_top=False, input_shape=x_train.shape[1:])\n",
    "\n",
    "flat1=Flatten()(Mobile_netv2.layers[-1].output)\n",
    "class1=Dense(512,activation='relu')(flat1)\n",
    "output=Dense(11,activation='softmax')(class1)\n",
    "\n",
    "Mobile_netv2=Model(inputs=Mobile_netv2.inputs,outputs=output)\n",
    "\n",
    "\n",
    "for layer in Mobile_netv2.layers[:20]:\n",
    "    layer.trainable = False\n",
    "for layer in Mobile_netv2.layers[20:]:\n",
    "    layer.trainable = True\n",
    "    \n",
    "Mobile_netv2.compile(optimizer='Adagrad',loss=tf.keras.losses.SparseCategoricalCrossentropy(from_logits=False),metrics=['accuracy'])\n",
    "\n",
    "history6=Mobile_netv2.fit(x_train,\n",
    "                     y_train,\n",
    "                     verbose=1,\n",
    "                     epochs=10,  #20\n",
    "                     batch_size=32,  #15\n",
    "                     validation_data=(x_test,y_test) )"
   ]
  },
  {
   "cell_type": "code",
   "execution_count": 27,
   "id": "7d998d48",
   "metadata": {},
   "outputs": [
    {
     "name": "stdout",
     "output_type": "stream",
     "text": [
      "--------------------------------------------------------------------------------\n",
      "Accuracy Found:  0.7936507936507936\n",
      "--------------------------------------------------------------------------------\n",
      "Confusion Matrix:\n",
      " [[110   2   1   7]\n",
      " [  0 209   1   0]\n",
      " [ 33   0  18  18]\n",
      " [ 42   0   0  63]]\n",
      "--------------------------------------------------------------------------------\n",
      "Classification Report:\n",
      "               precision    recall  f1-score   support\n",
      "\n",
      "           0       0.59      0.92      0.72       120\n",
      "           1       0.99      1.00      0.99       210\n",
      "           2       0.90      0.26      0.40        69\n",
      "           3       0.72      0.60      0.65       105\n",
      "\n",
      "    accuracy                           0.79       504\n",
      "   macro avg       0.80      0.69      0.69       504\n",
      "weighted avg       0.83      0.79      0.78       504\n",
      "\n",
      "--------------------------------------------------------------------------------\n"
     ]
    },
    {
     "data": {
      "image/png": "[encoded data removed]",
      "text/plain": [
       "<Figure size 432x288 with 1 Axes>"
      ]
     },
     "metadata": {
      "needs_background": "light"
     },
     "output_type": "display_data"
    },
    {
     "data": {
      "image/png": "[encoded data removed]",
      "text/plain": [
       "<Figure size 432x288 with 1 Axes>"
      ]
     },
     "metadata": {
      "needs_background": "light"
     },
     "output_type": "display_data"
    }
   ],
   "source": [
    "#mn = Mobile_netv2.summary()\n",
    "#mn.head()\n",
    "\n",
    "y_pred6=Mobile_netv2.predict(x_test)\n",
    "\n",
    "y_pred6=np.argmax(y_pred6,axis=1)\n",
    "\n",
    "print(\"-\"*80)\n",
    "print(\"Accuracy Found: \",accuracy_score(y_test,y_pred6))\n",
    "\n",
    "print(\"-\"*80)\n",
    "print(\"Confusion Matrix:\\n\",confusion_matrix(y_test,y_pred6)) \n",
    "print(\"-\"*80)\n",
    "print(\"Classification Report:\\n\",classification_report(y_test,y_pred6))\n",
    "print(\"-\"*80)\n",
    "\n",
    "#plt.figure(figsize=(15,9))\n",
    "plt.title('Loss Comparison',fontsize=20)\n",
    "plt.plot(history6.history['loss'],)\n",
    "plt.plot(history6.history['val_loss'])\n",
    "plt.legend(['Training Loss','Validation Loss'])\n",
    "plt.xlabel(\"Epochs\")\n",
    "plt.ylabel(\"Error rate\")\n",
    "plt.show()\n",
    "\n",
    "\n",
    "#plt.figure(figsize=(15,9))\n",
    "plt.title('Accuracy comparison ',fontsize=20)\n",
    "plt.plot(history6.history['accuracy'],)\n",
    "plt.plot(history6.history['val_accuracy'])\n",
    "plt.legend(['Training Acc','Validation Acc'])\n",
    "plt.xlabel(\"Epochs\")\n",
    "plt.ylabel(\"Accuracy rate\")\n",
    "plt.show()\n"
   ]
  },
  {
   "cell_type": "markdown",
   "id": "80ca1407",
   "metadata": {},
   "source": [
    "# Model_7. VGG16"
   ]
  },
  {
   "cell_type": "code",
   "execution_count": 30,
   "id": "d3440498",
   "metadata": {},
   "outputs": [
    {
     "name": "stdout",
     "output_type": "stream",
     "text": [
      "Epoch 1/10\n",
      "48/48 [==============================] - 172s 4s/step - loss: 1.7459 - accuracy: 0.6574 - val_loss: 1.1325 - val_accuracy: 0.7103\n",
      "Epoch 2/10\n",
      "48/48 [==============================] - 167s 3s/step - loss: 0.3082 - accuracy: 0.8843 - val_loss: 0.6857 - val_accuracy: 0.7937\n",
      "Epoch 3/10\n",
      "48/48 [==============================] - 167s 3s/step - loss: 0.0806 - accuracy: 0.9709 - val_loss: 0.7071 - val_accuracy: 0.7937\n",
      "Epoch 4/10\n",
      "48/48 [==============================] - 164s 3s/step - loss: 0.0352 - accuracy: 0.9914 - val_loss: 0.6492 - val_accuracy: 0.8095\n",
      "Epoch 5/10\n",
      "48/48 [==============================] - 165s 3s/step - loss: 0.0154 - accuracy: 0.9993 - val_loss: 0.5673 - val_accuracy: 0.8333\n",
      "Epoch 6/10\n",
      "48/48 [==============================] - 165s 3s/step - loss: 0.0053 - accuracy: 1.0000 - val_loss: 0.5552 - val_accuracy: 0.8353\n",
      "Epoch 7/10\n",
      "48/48 [==============================] - 165s 3s/step - loss: 0.0039 - accuracy: 1.0000 - val_loss: 0.5732 - val_accuracy: 0.8353\n",
      "Epoch 8/10\n",
      "48/48 [==============================] - 165s 3s/step - loss: 0.0032 - accuracy: 1.0000 - val_loss: 0.5575 - val_accuracy: 0.8472\n",
      "Epoch 9/10\n",
      "48/48 [==============================] - 166s 3s/step - loss: 0.0028 - accuracy: 1.0000 - val_loss: 0.5403 - val_accuracy: 0.8472\n",
      "Epoch 10/10\n",
      "48/48 [==============================] - 165s 3s/step - loss: 0.0023 - accuracy: 1.0000 - val_loss: 0.5669 - val_accuracy: 0.8433\n"
     ]
    }
   ],
   "source": [
    "vgg =tf.keras.applications.VGG16(weights='imagenet',include_top=False, input_shape=x_train.shape[1:])\n",
    "\n",
    "\n",
    "flat1=Flatten()(vgg.layers[-1].output)\n",
    "class1=Dense(512,activation='relu')(flat1)\n",
    "output=Dense(11,activation='softmax')(class1)\n",
    "\n",
    "vgg=Model(inputs=vgg.inputs,outputs=output)\n",
    "\n",
    "\n",
    "for layer in vgg.layers[:20]:\n",
    "    layer.trainable = False\n",
    "for layer in vgg.layers[20:]:\n",
    "    layer.trainable = True\n",
    "    \n",
    "vgg.compile(optimizer='Adam',loss=tf.keras.losses.SparseCategoricalCrossentropy(from_logits=False),metrics=['accuracy'])\n",
    "\n",
    "history7=vgg.fit(x_train,\n",
    "                     y_train,\n",
    "                     verbose=1,\n",
    "                     epochs=10,  #20\n",
    "                     batch_size=32,  #15\n",
    "                     validation_data=(x_test,y_test) )"
   ]
  },
  {
   "cell_type": "code",
   "execution_count": 31,
   "id": "de287161",
   "metadata": {},
   "outputs": [
    {
     "name": "stdout",
     "output_type": "stream",
     "text": [
      "--------------------------------------------------------------------------------\n",
      "Accuracy Found:  0.7936507936507936\n",
      "--------------------------------------------------------------------------------\n",
      "Confusion Matrix:\n",
      " [[110   2   1   7]\n",
      " [  0 209   1   0]\n",
      " [ 33   0  18  18]\n",
      " [ 42   0   0  63]]\n",
      "--------------------------------------------------------------------------------\n",
      "Classification Report:\n",
      "               precision    recall  f1-score   support\n",
      "\n",
      "           0       0.59      0.92      0.72       120\n",
      "           1       0.99      1.00      0.99       210\n",
      "           2       0.90      0.26      0.40        69\n",
      "           3       0.72      0.60      0.65       105\n",
      "\n",
      "    accuracy                           0.79       504\n",
      "   macro avg       0.80      0.69      0.69       504\n",
      "weighted avg       0.83      0.79      0.78       504\n",
      "\n",
      "--------------------------------------------------------------------------------\n"
     ]
    },
    {
     "data": {
      "image/png": "[encoded data removed]",
      "text/plain": [
       "<Figure size 432x288 with 1 Axes>"
      ]
     },
     "metadata": {
      "needs_background": "light"
     },
     "output_type": "display_data"
    },
    {
     "data": {
      "image/png": "[encoded data removed]",
      "text/plain": [
       "<Figure size 432x288 with 1 Axes>"
      ]
     },
     "metadata": {
      "needs_background": "light"
     },
     "output_type": "display_data"
    }
   ],
   "source": [
    "#mn = vgg.summary()\n",
    "#mn.head()\n",
    "\n",
    "y_pred7=Mobile_netv2.predict(x_test)\n",
    "\n",
    "y_pred7=np.argmax(y_pred7,axis=1)\n",
    "\n",
    "print(\"-\"*80)\n",
    "print(\"Accuracy Found: \",accuracy_score(y_test,y_pred7))\n",
    "\n",
    "print(\"-\"*80)\n",
    "print(\"Confusion Matrix:\\n\",confusion_matrix(y_test,y_pred7)) \n",
    "print(\"-\"*80)\n",
    "print(\"Classification Report:\\n\",classification_report(y_test,y_pred7))\n",
    "print(\"-\"*80)\n",
    "\n",
    "#plt.figure(figsize=(15,9))\n",
    "plt.title('Loss Comparison',fontsize=20)\n",
    "plt.plot(history7.history['loss'],)\n",
    "plt.plot(history7.history['val_loss'])\n",
    "plt.legend(['Training Loss','Validation Loss'])\n",
    "plt.xlabel(\"Epochs\")\n",
    "plt.ylabel(\"Error rate\")\n",
    "plt.show()\n",
    "\n",
    "\n",
    "#plt.figure(figsize=(15,9))\n",
    "plt.title('Accuracy comparison ',fontsize=20)\n",
    "plt.plot(history7.history['accuracy'],)\n",
    "plt.plot(history7.history['val_accuracy'])\n",
    "plt.legend(['Training Acc','Validation Acc'])\n",
    "plt.xlabel(\"Epochs\")\n",
    "plt.ylabel(\"Accuracy rate\")\n",
    "plt.show()\n"
   ]
  },
  {
   "cell_type": "markdown",
   "id": "faddc726",
   "metadata": {},
   "source": [
    "# K_fold Cross Validation"
   ]
  },
  {
   "cell_type": "code",
   "execution_count": 18,
   "id": "76a8dc36",
   "metadata": {},
   "outputs": [
    {
     "name": "stdout",
     "output_type": "stream",
     "text": [
      "Model: \"sequential\"\n",
      "_________________________________________________________________\n",
      " Layer (type)                Output Shape              Param #   \n",
      "=================================================================\n",
      " conv2d (Conv2D)             (None, 222, 222, 64)      1792      \n",
      "                                                                 \n",
      " max_pooling2d (MaxPooling2D  (None, 74, 74, 64)       0         \n",
      " )                                                               \n",
      "                                                                 \n",
      " conv2d_1 (Conv2D)           (None, 72, 72, 128)       73856     \n",
      "                                                                 \n",
      " max_pooling2d_1 (MaxPooling  (None, 24, 24, 128)      0         \n",
      " 2D)                                                             \n",
      "                                                                 \n",
      " conv2d_2 (Conv2D)           (None, 22, 22, 256)       295168    \n",
      "                                                                 \n",
      " max_pooling2d_2 (MaxPooling  (None, 7, 7, 256)        0         \n",
      " 2D)                                                             \n",
      "                                                                 \n",
      " flatten (Flatten)           (None, 12544)             0         \n",
      "                                                                 \n",
      " dense (Dense)               (None, 256)               3211520   \n",
      "                                                                 \n",
      " dropout (Dropout)           (None, 256)               0         \n",
      "                                                                 \n",
      " dense_1 (Dense)             (None, 9)                 2313      \n",
      "                                                                 \n",
      "=================================================================\n",
      "Total params: 3,584,649\n",
      "Trainable params: 3,584,649\n",
      "Non-trainable params: 0\n",
      "_________________________________________________________________\n"
     ]
    }
   ],
   "source": [
    "from keras.callbacks import EarlyStopping, ModelCheckpoint\n",
    "\n",
    "CnnCv=Sequential()\n",
    "CnnCv.add(Conv2D(64, kernel_size=(3, 3), input_shape=x_train.shape[1:], activation='relu'))\n",
    "CnnCv.add(MaxPooling2D(3,3))\n",
    "CnnCv.add(Conv2D(128, kernel_size=(3, 3), activation='relu'))\n",
    "CnnCv.add(MaxPooling2D(3,3))\n",
    "CnnCv.add(Conv2D(256, kernel_size=(3, 3), activation='relu'))\n",
    "CnnCv.add(MaxPooling2D(3,3))\n",
    "\n",
    "CnnCv.add(Flatten())\n",
    "\n",
    "CnnCv.add(Dense(256,activation='relu'))\n",
    "CnnCv.add(Dropout(0.2))\n",
    "\n",
    "CnnCv.add(Dense(9,activation='softmax'))\n",
    "\n",
    "CnnCv.compile(optimizer='Adam',\n",
    "              loss=tf.keras.losses.SparseCategoricalCrossentropy(from_logits=False),\n",
    "              metrics=['accuracy'])\n",
    "\n",
    "CnnCv.summary()"
   ]
  },
  {
   "cell_type": "code",
   "execution_count": 35,
   "id": "c8d1ba6f",
   "metadata": {},
   "outputs": [],
   "source": [
    "from keras.callbacks import EarlyStopping, ModelCheckpoint\n",
    "pat = 5\n",
    "early_stopping = EarlyStopping(monitor='val_loss',patience = pat,verbose = 1)\n",
    "model_checkpoint = ModelCheckpoint('CV.h5',verbose =1,save_best_only=True)\n",
    "\n",
    "def fit_and_evaluate(x_train,x_test,y_train,y_test):\n",
    "    model = None\n",
    "    model = CnnCv\n",
    "    results = model.fit(x_train,y_train,epochs=20,batch_size = 128, callbacks = [early_stopping,model_checkpoint],verbose=1,validation_split=0.1)\n",
    "    print(\"Val score : \",model.evaluate(x_test,y_test))\n",
    "    return results"
   ]
  },
  {
   "cell_type": "code",
   "execution_count": 36,
   "id": "ad949aa1",
   "metadata": {},
   "outputs": [
    {
     "name": "stdout",
     "output_type": "stream",
     "text": [
      "Training on fold :  1\n",
      "Epoch 1/20\n",
      "11/11 [==============================] - ETA: 0s - loss: 1.5287 - accuracy: 0.3382\n",
      "Epoch 1: val_loss improved from inf to 1.20783, saving model to CV.h5\n",
      "11/11 [==============================] - 107s 8s/step - loss: 1.5287 - accuracy: 0.3382 - val_loss: 1.2078 - val_accuracy: 0.5789\n",
      "Epoch 2/20\n",
      "11/11 [==============================] - ETA: 0s - loss: 1.0228 - accuracy: 0.5588\n",
      "Epoch 2: val_loss improved from 1.20783 to 0.90594, saving model to CV.h5\n",
      "11/11 [==============================] - 91s 8s/step - loss: 1.0228 - accuracy: 0.5588 - val_loss: 0.9059 - val_accuracy: 0.5789\n",
      "Epoch 3/20\n",
      "11/11 [==============================] - ETA: 0s - loss: 0.8623 - accuracy: 0.5713\n",
      "Epoch 3: val_loss improved from 0.90594 to 0.79400, saving model to CV.h5\n",
      "11/11 [==============================] - 91s 8s/step - loss: 0.8623 - accuracy: 0.5713 - val_loss: 0.7940 - val_accuracy: 0.6118\n",
      "Epoch 4/20\n",
      "11/11 [==============================] - ETA: 0s - loss: 0.7916 - accuracy: 0.6088\n",
      "Epoch 4: val_loss improved from 0.79400 to 0.73126, saving model to CV.h5\n",
      "11/11 [==============================] - 86s 8s/step - loss: 0.7916 - accuracy: 0.6088 - val_loss: 0.7313 - val_accuracy: 0.6579\n",
      "Epoch 5/20\n",
      "11/11 [==============================] - ETA: 0s - loss: 0.7263 - accuracy: 0.6353\n",
      "Epoch 5: val_loss did not improve from 0.73126\n",
      "11/11 [==============================] - 84s 8s/step - loss: 0.7263 - accuracy: 0.6353 - val_loss: 0.7505 - val_accuracy: 0.6645\n",
      "Epoch 6/20\n",
      "11/11 [==============================] - ETA: 0s - loss: 0.7058 - accuracy: 0.6559\n",
      "Epoch 6: val_loss improved from 0.73126 to 0.66836, saving model to CV.h5\n",
      "11/11 [==============================] - 83s 7s/step - loss: 0.7058 - accuracy: 0.6559 - val_loss: 0.6684 - val_accuracy: 0.6776\n",
      "Epoch 7/20\n",
      "11/11 [==============================] - ETA: 0s - loss: 0.6553 - accuracy: 0.6824\n",
      "Epoch 7: val_loss improved from 0.66836 to 0.62301, saving model to CV.h5\n",
      "11/11 [==============================] - 86s 8s/step - loss: 0.6553 - accuracy: 0.6824 - val_loss: 0.6230 - val_accuracy: 0.6645\n",
      "Epoch 8/20\n",
      "11/11 [==============================] - ETA: 0s - loss: 0.6070 - accuracy: 0.7176\n",
      "Epoch 8: val_loss improved from 0.62301 to 0.60655, saving model to CV.h5\n",
      "11/11 [==============================] - 78s 7s/step - loss: 0.6070 - accuracy: 0.7176 - val_loss: 0.6066 - val_accuracy: 0.6645\n",
      "Epoch 9/20\n",
      "11/11 [==============================] - ETA: 0s - loss: 0.5537 - accuracy: 0.7419\n",
      "Epoch 9: val_loss improved from 0.60655 to 0.59681, saving model to CV.h5\n",
      "11/11 [==============================] - 77s 7s/step - loss: 0.5537 - accuracy: 0.7419 - val_loss: 0.5968 - val_accuracy: 0.7697\n",
      "Epoch 10/20\n",
      "11/11 [==============================] - ETA: 0s - loss: 0.4898 - accuracy: 0.7853\n",
      "Epoch 10: val_loss did not improve from 0.59681\n",
      "11/11 [==============================] - 76s 7s/step - loss: 0.4898 - accuracy: 0.7853 - val_loss: 0.6060 - val_accuracy: 0.7237\n",
      "Epoch 11/20\n",
      "11/11 [==============================] - ETA: 0s - loss: 0.4698 - accuracy: 0.7956\n",
      "Epoch 11: val_loss improved from 0.59681 to 0.52921, saving model to CV.h5\n",
      "11/11 [==============================] - 77s 7s/step - loss: 0.4698 - accuracy: 0.7956 - val_loss: 0.5292 - val_accuracy: 0.7500\n",
      "Epoch 12/20\n",
      "11/11 [==============================] - ETA: 0s - loss: 0.4340 - accuracy: 0.8132\n",
      "Epoch 12: val_loss improved from 0.52921 to 0.49850, saving model to CV.h5\n",
      "11/11 [==============================] - 77s 7s/step - loss: 0.4340 - accuracy: 0.8132 - val_loss: 0.4985 - val_accuracy: 0.7566\n",
      "Epoch 13/20\n",
      "11/11 [==============================] - ETA: 0s - loss: 0.4072 - accuracy: 0.8191\n",
      "Epoch 13: val_loss did not improve from 0.49850\n",
      "11/11 [==============================] - 79s 7s/step - loss: 0.4072 - accuracy: 0.8191 - val_loss: 0.5177 - val_accuracy: 0.7434\n",
      "Epoch 14/20\n",
      "11/11 [==============================] - ETA: 0s - loss: 0.3785 - accuracy: 0.8449\n",
      "Epoch 14: val_loss did not improve from 0.49850\n",
      "11/11 [==============================] - 76s 7s/step - loss: 0.3785 - accuracy: 0.8449 - val_loss: 0.5570 - val_accuracy: 0.7566\n",
      "Epoch 15/20\n",
      "11/11 [==============================] - ETA: 0s - loss: 0.3180 - accuracy: 0.8676\n",
      "Epoch 15: val_loss did not improve from 0.49850\n",
      "11/11 [==============================] - 77s 7s/step - loss: 0.3180 - accuracy: 0.8676 - val_loss: 0.5000 - val_accuracy: 0.7829\n",
      "Epoch 16/20\n",
      "11/11 [==============================] - ETA: 0s - loss: 0.2863 - accuracy: 0.8838\n",
      "Epoch 16: val_loss improved from 0.49850 to 0.47326, saving model to CV.h5\n",
      "11/11 [==============================] - 76s 7s/step - loss: 0.2863 - accuracy: 0.8838 - val_loss: 0.4733 - val_accuracy: 0.7829\n",
      "Epoch 17/20\n",
      "11/11 [==============================] - ETA: 0s - loss: 0.2506 - accuracy: 0.8941 \n",
      "Epoch 17: val_loss did not improve from 0.47326\n",
      "11/11 [==============================] - 168s 16s/step - loss: 0.2506 - accuracy: 0.8941 - val_loss: 0.4907 - val_accuracy: 0.8026\n",
      "Epoch 18/20\n",
      "11/11 [==============================] - ETA: 0s - loss: 0.2420 - accuracy: 0.9074\n",
      "Epoch 18: val_loss did not improve from 0.47326\n",
      "11/11 [==============================] - 84s 7s/step - loss: 0.2420 - accuracy: 0.9074 - val_loss: 0.5301 - val_accuracy: 0.8092\n",
      "Epoch 19/20\n",
      "11/11 [==============================] - ETA: 0s - loss: 0.2092 - accuracy: 0.9250\n",
      "Epoch 19: val_loss did not improve from 0.47326\n",
      "11/11 [==============================] - 82s 8s/step - loss: 0.2092 - accuracy: 0.9250 - val_loss: 0.5816 - val_accuracy: 0.7829\n",
      "Epoch 20/20\n",
      "11/11 [==============================] - ETA: 0s - loss: 0.2122 - accuracy: 0.9191\n",
      "Epoch 20: val_loss did not improve from 0.47326\n",
      "11/11 [==============================] - 79s 7s/step - loss: 0.2122 - accuracy: 0.9191 - val_loss: 0.4922 - val_accuracy: 0.7632\n",
      "16/16 [==============================] - 7s 450ms/step - loss: 0.4992 - accuracy: 0.8075\n",
      "Val score :  [0.49916166067123413, 0.807539701461792]\n",
      "Training on fold :  2\n",
      "Epoch 1/20\n",
      "11/11 [==============================] - ETA: 0s - loss: 0.1857 - accuracy: 0.9279\n",
      "Epoch 1: val_loss did not improve from 0.47326\n",
      "11/11 [==============================] - 92s 7s/step - loss: 0.1857 - accuracy: 0.9279 - val_loss: 0.4767 - val_accuracy: 0.8224\n",
      "Epoch 2/20\n",
      "11/11 [==============================] - ETA: 0s - loss: 0.1361 - accuracy: 0.9559\n",
      "Epoch 2: val_loss did not improve from 0.47326\n",
      "11/11 [==============================] - 86s 8s/step - loss: 0.1361 - accuracy: 0.9559 - val_loss: 0.5086 - val_accuracy: 0.8026\n",
      "Epoch 3/20\n",
      "11/11 [==============================] - ETA: 0s - loss: 0.1225 - accuracy: 0.9559\n",
      "Epoch 3: val_loss did not improve from 0.47326\n",
      "11/11 [==============================] - 84s 8s/step - loss: 0.1225 - accuracy: 0.9559 - val_loss: 0.5207 - val_accuracy: 0.8224\n",
      "Epoch 4/20\n",
      "11/11 [==============================] - ETA: 0s - loss: 0.1030 - accuracy: 0.9647\n",
      "Epoch 4: val_loss did not improve from 0.47326\n",
      "11/11 [==============================] - 78s 7s/step - loss: 0.1030 - accuracy: 0.9647 - val_loss: 0.5116 - val_accuracy: 0.8092\n",
      "Epoch 5/20\n",
      "11/11 [==============================] - ETA: 0s - loss: 0.0849 - accuracy: 0.9735\n",
      "Epoch 5: val_loss did not improve from 0.47326\n",
      "11/11 [==============================] - 84s 8s/step - loss: 0.0849 - accuracy: 0.9735 - val_loss: 0.5447 - val_accuracy: 0.8224\n",
      "Epoch 6/20\n",
      "11/11 [==============================] - ETA: 0s - loss: 0.0635 - accuracy: 0.9831\n",
      "Epoch 6: val_loss did not improve from 0.47326\n",
      "11/11 [==============================] - 83s 8s/step - loss: 0.0635 - accuracy: 0.9831 - val_loss: 0.5406 - val_accuracy: 0.8092\n",
      "Epoch 6: early stopping\n",
      "16/16 [==============================] - 7s 423ms/step - loss: 0.4554 - accuracy: 0.8472\n",
      "Val score :  [0.45540690422058105, 0.8472222089767456]\n",
      "Training on fold :  3\n",
      "Epoch 1/20\n",
      "11/11 [==============================] - ETA: 0s - loss: 0.0653 - accuracy: 0.9779\n",
      "Epoch 1: val_loss did not improve from 0.47326\n",
      "11/11 [==============================] - 223s 8s/step - loss: 0.0653 - accuracy: 0.9779 - val_loss: 0.5578 - val_accuracy: 0.8421\n",
      "Epoch 2/20\n",
      "11/11 [==============================] - ETA: 0s - loss: 0.0708 - accuracy: 0.9787\n",
      "Epoch 2: val_loss did not improve from 0.47326\n",
      "11/11 [==============================] - 90s 8s/step - loss: 0.0708 - accuracy: 0.9787 - val_loss: 0.5725 - val_accuracy: 0.7895\n",
      "Epoch 3/20\n",
      "11/11 [==============================] - ETA: 0s - loss: 0.0927 - accuracy: 0.9676\n",
      "Epoch 3: val_loss did not improve from 0.47326\n",
      "11/11 [==============================] - 90s 8s/step - loss: 0.0927 - accuracy: 0.9676 - val_loss: 0.7266 - val_accuracy: 0.7895\n",
      "Epoch 4/20\n",
      "11/11 [==============================] - ETA: 0s - loss: 0.1187 - accuracy: 0.9647\n",
      "Epoch 4: val_loss did not improve from 0.47326\n",
      "11/11 [==============================] - 91s 8s/step - loss: 0.1187 - accuracy: 0.9647 - val_loss: 0.6437 - val_accuracy: 0.7961\n",
      "Epoch 5/20\n",
      "11/11 [==============================] - ETA: 0s - loss: 0.0861 - accuracy: 0.9721\n",
      "Epoch 5: val_loss did not improve from 0.47326\n",
      "11/11 [==============================] - 100s 9s/step - loss: 0.0861 - accuracy: 0.9721 - val_loss: 0.4775 - val_accuracy: 0.8553\n",
      "Epoch 6/20\n",
      "11/11 [==============================] - ETA: 0s - loss: 0.0579 - accuracy: 0.9824\n",
      "Epoch 6: val_loss did not improve from 0.47326\n",
      "11/11 [==============================] - 91s 8s/step - loss: 0.0579 - accuracy: 0.9824 - val_loss: 0.5654 - val_accuracy: 0.8355\n",
      "Epoch 7/20\n",
      "11/11 [==============================] - ETA: 0s - loss: 0.0461 - accuracy: 0.9853\n",
      "Epoch 7: val_loss did not improve from 0.47326\n",
      "11/11 [==============================] - 86s 8s/step - loss: 0.0461 - accuracy: 0.9853 - val_loss: 0.6255 - val_accuracy: 0.8355\n",
      "Epoch 8/20\n",
      "11/11 [==============================] - ETA: 0s - loss: 0.0381 - accuracy: 0.9868\n",
      "Epoch 8: val_loss did not improve from 0.47326\n",
      "11/11 [==============================] - 85s 8s/step - loss: 0.0381 - accuracy: 0.9868 - val_loss: 0.7911 - val_accuracy: 0.7829\n",
      "Epoch 9/20\n",
      "11/11 [==============================] - ETA: 0s - loss: 1.2541 - accuracy: 0.7618\n",
      "Epoch 9: val_loss did not improve from 0.47326\n",
      "11/11 [==============================] - 87s 8s/step - loss: 1.2541 - accuracy: 0.7618 - val_loss: 1.0300 - val_accuracy: 0.6842\n",
      "Epoch 10/20\n",
      "11/11 [==============================] - ETA: 0s - loss: 0.5547 - accuracy: 0.7860\n",
      "Epoch 10: val_loss did not improve from 0.47326\n",
      "11/11 [==============================] - 82s 7s/step - loss: 0.5547 - accuracy: 0.7860 - val_loss: 0.7940 - val_accuracy: 0.6908\n",
      "Epoch 10: early stopping\n",
      "16/16 [==============================] - 7s 433ms/step - loss: 0.6342 - accuracy: 0.7361\n",
      "Val score :  [0.6341836452484131, 0.7361111044883728]\n",
      "Training on fold :  4\n",
      "Epoch 1/20\n",
      "11/11 [==============================] - ETA: 0s - loss: 0.3237 - accuracy: 0.8662\n",
      "Epoch 1: val_loss did not improve from 0.47326\n",
      "11/11 [==============================] - 93s 8s/step - loss: 0.3237 - accuracy: 0.8662 - val_loss: 0.6096 - val_accuracy: 0.7632\n",
      "Epoch 2/20\n",
      "11/11 [==============================] - ETA: 0s - loss: 0.2024 - accuracy: 0.9279\n",
      "Epoch 2: val_loss did not improve from 0.47326\n",
      "11/11 [==============================] - 95s 9s/step - loss: 0.2024 - accuracy: 0.9279 - val_loss: 0.5936 - val_accuracy: 0.7697\n",
      "Epoch 3/20\n",
      "11/11 [==============================] - ETA: 0s - loss: 0.1141 - accuracy: 0.9669\n",
      "Epoch 3: val_loss did not improve from 0.47326\n",
      "11/11 [==============================] - 94s 8s/step - loss: 0.1141 - accuracy: 0.9669 - val_loss: 0.5808 - val_accuracy: 0.8224\n",
      "Epoch 4/20\n",
      "11/11 [==============================] - ETA: 0s - loss: 0.0836 - accuracy: 0.9801\n",
      "Epoch 4: val_loss did not improve from 0.47326\n",
      "11/11 [==============================] - 87s 8s/step - loss: 0.0836 - accuracy: 0.9801 - val_loss: 0.5906 - val_accuracy: 0.8224\n",
      "Epoch 5/20\n",
      "11/11 [==============================] - ETA: 0s - loss: 0.0580 - accuracy: 0.9860\n",
      "Epoch 5: val_loss did not improve from 0.47326\n",
      "11/11 [==============================] - 236s 9s/step - loss: 0.0580 - accuracy: 0.9860 - val_loss: 0.6020 - val_accuracy: 0.8092\n",
      "Epoch 6/20\n",
      "11/11 [==============================] - ETA: 0s - loss: 0.0606 - accuracy: 0.9824\n",
      "Epoch 6: val_loss did not improve from 0.47326\n",
      "11/11 [==============================] - 87s 8s/step - loss: 0.0606 - accuracy: 0.9824 - val_loss: 0.5290 - val_accuracy: 0.8684\n",
      "Epoch 7/20\n",
      "11/11 [==============================] - ETA: 0s - loss: 0.0487 - accuracy: 0.9875\n",
      "Epoch 7: val_loss did not improve from 0.47326\n",
      "11/11 [==============================] - 85s 8s/step - loss: 0.0487 - accuracy: 0.9875 - val_loss: 0.6297 - val_accuracy: 0.8355\n",
      "Epoch 8/20\n",
      "11/11 [==============================] - ETA: 0s - loss: 0.0353 - accuracy: 0.9941\n",
      "Epoch 8: val_loss did not improve from 0.47326\n",
      "11/11 [==============================] - 82s 7s/step - loss: 0.0353 - accuracy: 0.9941 - val_loss: 0.5931 - val_accuracy: 0.8618\n",
      "Epoch 9/20\n",
      "11/11 [==============================] - ETA: 0s - loss: 0.0315 - accuracy: 0.9904\n",
      "Epoch 9: val_loss did not improve from 0.47326\n",
      "11/11 [==============================] - 85s 8s/step - loss: 0.0315 - accuracy: 0.9904 - val_loss: 0.6258 - val_accuracy: 0.8487\n",
      "Epoch 10/20\n",
      "11/11 [==============================] - ETA: 0s - loss: 0.0207 - accuracy: 0.9949\n",
      "Epoch 10: val_loss did not improve from 0.47326\n",
      "11/11 [==============================] - 84s 8s/step - loss: 0.0207 - accuracy: 0.9949 - val_loss: 0.5914 - val_accuracy: 0.8618\n",
      "Epoch 11/20\n",
      "11/11 [==============================] - ETA: 0s - loss: 0.0227 - accuracy: 0.9926\n",
      "Epoch 11: val_loss did not improve from 0.47326\n",
      "11/11 [==============================] - 77s 7s/step - loss: 0.0227 - accuracy: 0.9926 - val_loss: 0.6268 - val_accuracy: 0.8421\n",
      "Epoch 11: early stopping\n",
      "16/16 [==============================] - 7s 437ms/step - loss: 0.5392 - accuracy: 0.8790\n",
      "Val score :  [0.5392096042633057, 0.8789682388305664]\n",
      "Training on fold :  5\n",
      "Epoch 1/20\n",
      "11/11 [==============================] - ETA: 0s - loss: 0.0176 - accuracy: 0.9963\n",
      "Epoch 1: val_loss did not improve from 0.47326\n",
      "11/11 [==============================] - 90s 8s/step - loss: 0.0176 - accuracy: 0.9963 - val_loss: 0.6463 - val_accuracy: 0.8553\n",
      "Epoch 2/20\n",
      "11/11 [==============================] - ETA: 0s - loss: 0.0164 - accuracy: 0.9963\n",
      "Epoch 2: val_loss did not improve from 0.47326\n",
      "11/11 [==============================] - 84s 8s/step - loss: 0.0164 - accuracy: 0.9963 - val_loss: 0.6331 - val_accuracy: 0.8553\n",
      "Epoch 3/20\n",
      "11/11 [==============================] - ETA: 0s - loss: 0.0132 - accuracy: 0.9963\n",
      "Epoch 3: val_loss did not improve from 0.47326\n",
      "11/11 [==============================] - 79s 7s/step - loss: 0.0132 - accuracy: 0.9963 - val_loss: 0.6019 - val_accuracy: 0.8816\n",
      "Epoch 4/20\n",
      "11/11 [==============================] - ETA: 0s - loss: 0.0113 - accuracy: 0.9978\n",
      "Epoch 4: val_loss did not improve from 0.47326\n",
      "11/11 [==============================] - 83s 8s/step - loss: 0.0113 - accuracy: 0.9978 - val_loss: 0.6362 - val_accuracy: 0.8553\n",
      "Epoch 5/20\n",
      "11/11 [==============================] - ETA: 0s - loss: 0.0129 - accuracy: 0.9956\n",
      "Epoch 5: val_loss did not improve from 0.47326\n",
      "11/11 [==============================] - 88s 8s/step - loss: 0.0129 - accuracy: 0.9956 - val_loss: 0.6119 - val_accuracy: 0.8553\n",
      "Epoch 6/20\n",
      "11/11 [==============================] - ETA: 0s - loss: 0.0113 - accuracy: 0.9993\n",
      "Epoch 6: val_loss did not improve from 0.47326\n",
      "11/11 [==============================] - 91s 8s/step - loss: 0.0113 - accuracy: 0.9993 - val_loss: 0.7069 - val_accuracy: 0.8684\n",
      "Epoch 7/20\n",
      "11/11 [==============================] - ETA: 0s - loss: 0.0140 - accuracy: 0.9978\n",
      "Epoch 7: val_loss did not improve from 0.47326\n",
      "11/11 [==============================] - 85s 8s/step - loss: 0.0140 - accuracy: 0.9978 - val_loss: 0.6892 - val_accuracy: 0.8355\n",
      "Epoch 8/20\n",
      "11/11 [==============================] - ETA: 0s - loss: 0.0155 - accuracy: 0.9971\n",
      "Epoch 8: val_loss did not improve from 0.47326\n",
      "11/11 [==============================] - 88s 8s/step - loss: 0.0155 - accuracy: 0.9971 - val_loss: 0.5890 - val_accuracy: 0.8553\n",
      "Epoch 9/20\n",
      "11/11 [==============================] - ETA: 0s - loss: 0.0105 - accuracy: 0.9985\n",
      "Epoch 9: val_loss did not improve from 0.47326\n",
      "11/11 [==============================] - 87s 8s/step - loss: 0.0105 - accuracy: 0.9985 - val_loss: 0.5560 - val_accuracy: 0.8684\n",
      "Epoch 10/20\n",
      "11/11 [==============================] - ETA: 0s - loss: 0.0063 - accuracy: 0.9993\n",
      "Epoch 10: val_loss did not improve from 0.47326\n",
      "11/11 [==============================] - 89s 8s/step - loss: 0.0063 - accuracy: 0.9993 - val_loss: 0.6749 - val_accuracy: 0.8487\n",
      "Epoch 11/20\n",
      "11/11 [==============================] - ETA: 0s - loss: 0.0065 - accuracy: 1.0000\n",
      "Epoch 11: val_loss did not improve from 0.47326\n",
      "11/11 [==============================] - 89s 8s/step - loss: 0.0065 - accuracy: 1.0000 - val_loss: 0.6363 - val_accuracy: 0.8750\n",
      "Epoch 12/20\n",
      "11/11 [==============================] - ETA: 0s - loss: 0.0049 - accuracy: 1.0000\n",
      "Epoch 12: val_loss did not improve from 0.47326\n",
      "11/11 [==============================] - 100s 9s/step - loss: 0.0049 - accuracy: 1.0000 - val_loss: 0.6723 - val_accuracy: 0.8487\n",
      "Epoch 13/20\n",
      "11/11 [==============================] - ETA: 0s - loss: 0.0041 - accuracy: 1.0000\n",
      "Epoch 13: val_loss did not improve from 0.47326\n",
      "11/11 [==============================] - 77s 7s/step - loss: 0.0041 - accuracy: 1.0000 - val_loss: 0.6017 - val_accuracy: 0.8816\n",
      "Epoch 14/20\n",
      "11/11 [==============================] - ETA: 0s - loss: 0.0032 - accuracy: 1.0000\n",
      "Epoch 14: val_loss did not improve from 0.47326\n",
      "11/11 [==============================] - 73s 7s/step - loss: 0.0032 - accuracy: 1.0000 - val_loss: 0.6818 - val_accuracy: 0.8684\n",
      "Epoch 14: early stopping\n",
      "16/16 [==============================] - 7s 446ms/step - loss: 0.6379 - accuracy: 0.8750\n",
      "Val score :  [0.6378962397575378, 0.875]\n"
     ]
    }
   ],
   "source": [
    "n_folds = 5\n",
    "#epochs = 20\n",
    "#batch_size = 128\n",
    "model_history = []\n",
    "\n",
    "for i in range(n_folds):\n",
    "    print(\"Training on fold : \",i+1)\n",
    "\n",
    "\n",
    "\n",
    "    \n",
    "    #t_x,val_x,t_y,val_y = train_test_split(x,y,test_size = 0.1,random_state = np.random.randint(1,1000,1)[0])\n",
    "    model_history.append(fit_and_evaluate(x_train,x_test,y_train,y_test))"
   ]
  },
  {
   "cell_type": "code",
   "execution_count": 12,
   "id": "e88154e1",
   "metadata": {},
   "outputs": [],
   "source": [
    "from sklearn.model_selection import StratifiedKFold"
   ]
  },
  {
   "cell_type": "code",
   "execution_count": null,
   "id": "34e29f0d",
   "metadata": {},
   "outputs": [],
   "source": []
  },
  {
   "cell_type": "code",
   "execution_count": null,
   "id": "92219a22",
   "metadata": {},
   "outputs": [],
   "source": [
    "kfold = StratifiedKFold(n_splits = 7,shuffle = True, random_state=42)\n",
    "j = 0\n",
    "for train_idx, val_idx in list(kfold.split(x_train,x_test)):\n",
    "    x_train_df = df.iloc[train_idx]\n",
    "    x_test_df = df.iloc[val_idx]"
   ]
  },
  {
   "cell_type": "code",
   "execution_count": 21,
   "id": "03f018d6",
   "metadata": {},
   "outputs": [
    {
     "data": {
      "image/png": "[encoded data removed]",
      "text/plain": [
       "<Figure size 1080x720 with 1 Axes>"
      ]
     },
     "metadata": {
      "needs_background": "light"
     },
     "output_type": "display_data"
    }
   ],
   "source": [
    "import matplotlib.pyplot as plt\n",
    "import numpy as np\n",
    "\n",
    "x = ['CNN','VGG16','VGG19','MobileNetV2','DenseNet201','InceptionV3','Resnet50V2']\n",
    "Fifty_Epochs = [25,142,183,107,790,175,290] \n",
    "Hundred_Epochs = [29,256,335,128,890,216,351]\n",
    "\n",
    "x_axis = np.arange(len(x))\n",
    "\n",
    "plt.bar(x_axis - 0.2,Fifty_Epochs,0.4,label = '50 Epochs(Core i7 10th gen , 16gb RAM)')\n",
    "plt.bar(x_axis + 0.2,Hundred_Epochs,0.4,label = '100 Epochs(Core i7 10th gen , 32gb RAM)')\n",
    "\n",
    "\n",
    "plt.xticks(x_axis,x)\n",
    "plt.xlabel('Models')\n",
    "plt.ylabel('Time taken by each Model(in mins)')\n",
    "plt.title('Performance according to Time Consumption')\n",
    "#plt.figure(figsize=(15,9))\n",
    "plt.legend()\n",
    "plt.show()\n",
    "#plt.grid()\n",
    "plt.rcParams[\"figure.figsize\"] = (15,10)\n"
   ]
  },
  {
   "cell_type": "code",
   "execution_count": 28,
   "id": "cac38d96",
   "metadata": {},
   "outputs": [
    {
     "data": {
      "image/png": "[encoded data removed]",
      "text/plain": [
       "<Figure size 1080x720 with 1 Axes>"
      ]
     },
     "metadata": {
      "needs_background": "light"
     },
     "output_type": "display_data"
    }
   ],
   "source": [
    "import matplotlib.pyplot as plt\n",
    "import numpy as np\n",
    "\n",
    "\n",
    "models =  ['CNN','VGG16','VGG19','MobileNetV2','DenseNet201','InceptionV3','Resnet50V2']\n",
    "fifty=[25,142,183,107,790,175,290] \n",
    "Hundred =[29,256,335,128,890,216,351]\n",
    "\n",
    "\n",
    "x = np.arange(len(models))  \n",
    "width = 0.35  \n",
    "\n",
    "fig, ax = plt.subplots()\n",
    "rects1 = ax.bar(x - width/2, fifty, width, label='50 Epochs(Core i7 10th gen, 16gb RAM)')\n",
    "rects2 = ax.bar(x + width/2, Hundred, width, label='100 Epochs(Core i7 10th gen, 32gb RAM)')\n",
    "\n",
    "\n",
    "ax.set_ylabel('Time Taken(in mins)')\n",
    "ax.set_xlabel('Models')\n",
    "ax.set_title('Models Comparision on the basis of Time taken')\n",
    "ax.set_xticks(x, models)\n",
    "ax.legend()\n",
    "\n",
    "ax.bar_label(rects1, padding=3)\n",
    "ax.bar_label(rects2, padding=3)\n",
    "plt.rcParams[\"figure.figsize\"] = (15,10)\n",
    "#fig.tight_layout()\n",
    "\n",
    "plt.show()"
   ]
  },
  {
   "cell_type": "code",
   "execution_count": 38,
   "id": "0815cfde",
   "metadata": {},
   "outputs": [
    {
     "data": {
      "image/png": "[encoded data removed]",
      "text/plain": [
       "<Figure size 1080x720 with 1 Axes>"
      ]
     },
     "metadata": {
      "needs_background": "light"
     },
     "output_type": "display_data"
    }
   ],
   "source": [
    "import matplotlib.pyplot as plt\n",
    "import numpy as np\n",
    "\n",
    "\n",
    "models =  ['CNN','VGG16','VGG19','MobileNetV2','DenseNet201','InceptionV3','Resnet50V2']\n",
    "fifty=[87,90,90,90,97,92,64] \n",
    "Hundred =[97,93,91,93,97,93,92]\n",
    "\n",
    "\n",
    "x = np.arange(len(models))  \n",
    "width = 0.35  \n",
    "\n",
    "fig, ax = plt.subplots()\n",
    "rects1 = ax.bar(x - width/2, fifty, width, label='50 Epochs(Core i7 10th gen, 16gb RAM)')\n",
    "rects2 = ax.bar(x + width/2, Hundred, width, label='100 Epochs(Core i7 10th gen, 32gb RAM)')\n",
    "\n",
    "\n",
    "ax.set_ylabel('Time Taken(in mins)')\n",
    "ax.set_xlabel('Models')\n",
    "ax.set_title('Models Comparision on the basis of Time taken')\n",
    "ax.set_xticks(x, models)\n",
    "ax.legend()\n",
    "\n",
    "ax.bar_label(rects1, padding=3)\n",
    "ax.bar_label(rects2, padding=3)\n",
    "plt.rcParams[\"figure.figsize\"] = (15,10)\n",
    "#fig.tight_layout()\n",
    "\n",
    "plt.show()"
   ]
  },
  {
   "cell_type": "code",
   "execution_count": 46,
   "id": "cb2ae861",
   "metadata": {},
   "outputs": [
    {
     "data": {
      "application/vnd.plotly.v1+json": {
       "config": {
        "plotlyServerURL": "https://plot.ly"
       },
       "data": [
        {
         "name": "50 Epochs(Core i7 10th gen, 16gb RAM)",
         "type": "scatter",
         "x": [
          "CNN",
          "VGG16",
          "VGG19",
          "MobileNetV2",
          "DenseNet201",
          "InceptionV3",
          "Resnet50V2"
         ],
         "y": [
          87,
          90,
          90,
          90,
          97,
          92,
          64
         ]
        },
        {
         "name": "100 Epochs(Core i7 10th gen, 32gb RAM)",
         "type": "scatter",
         "x": [
          "CNN",
          "VGG16",
          "VGG19",
          "MobileNetV2",
          "DenseNet201",
          "InceptionV3",
          "Resnet50V2"
         ],
         "y": [
          97,
          93,
          91,
          93,
          97,
          93,
          92
         ]
        }
       ],
       "layout": {
        "height": 400,
        "template": {
         "data": {
          "bar": [
           {
            "error_x": {
             "color": "#2a3f5f"
            },
            "error_y": {
             "color": "#2a3f5f"
            },
            "marker": {
             "line": {
              "color": "#E5ECF6",
              "width": 0.5
             },
             "pattern": {
              "fillmode": "overlay",
              "size": 10,
              "solidity": 0.2
             }
            },
            "type": "bar"
           }
          ],
          "barpolar": [
           {
            "marker": {
             "line": {
              "color": "#E5ECF6",
              "width": 0.5
             },
             "pattern": {
              "fillmode": "overlay",
              "size": 10,
              "solidity": 0.2
             }
            },
            "type": "barpolar"
           }
          ],
          "carpet": [
           {
            "aaxis": {
             "endlinecolor": "#2a3f5f",
             "gridcolor": "white",
             "linecolor": "white",
             "minorgridcolor": "white",
             "startlinecolor": "#2a3f5f"
            },
            "baxis": {
             "endlinecolor": "#2a3f5f",
             "gridcolor": "white",
             "linecolor": "white",
             "minorgridcolor": "white",
             "startlinecolor": "#2a3f5f"
            },
            "type": "carpet"
           }
          ],
          "choropleth": [
           {
            "colorbar": {
             "outlinewidth": 0,
             "ticks": ""
            },
            "type": "choropleth"
           }
          ],
          "contour": [
           {
            "colorbar": {
             "outlinewidth": 0,
             "ticks": ""
            },
            "colorscale": [
             [
              0,
              "#0d0887"
             ],
             [
              0.1111111111111111,
              "#46039f"
             ],
             [
              0.2222222222222222,
              "#7201a8"
             ],
             [
              0.3333333333333333,
              "#9c179e"
             ],
             [
              0.4444444444444444,
              "#bd3786"
             ],
             [
              0.5555555555555556,
              "#d8576b"
             ],
             [
              0.6666666666666666,
              "#ed7953"
             ],
             [
              0.7777777777777778,
              "#fb9f3a"
             ],
             [
              0.8888888888888888,
              "#fdca26"
             ],
             [
              1,
              "#f0f921"
             ]
            ],
            "type": "contour"
           }
          ],
          "contourcarpet": [
           {
            "colorbar": {
             "outlinewidth": 0,
             "ticks": ""
            },
            "type": "contourcarpet"
           }
          ],
          "heatmap": [
           {
            "colorbar": {
             "outlinewidth": 0,
             "ticks": ""
            },
            "colorscale": [
             [
              0,
              "#0d0887"
             ],
             [
              0.1111111111111111,
              "#46039f"
             ],
             [
              0.2222222222222222,
              "#7201a8"
             ],
             [
              0.3333333333333333,
              "#9c179e"
             ],
             [
              0.4444444444444444,
              "#bd3786"
             ],
             [
              0.5555555555555556,
              "#d8576b"
             ],
             [
              0.6666666666666666,
              "#ed7953"
             ],
             [
              0.7777777777777778,
              "#fb9f3a"
             ],
             [
              0.8888888888888888,
              "#fdca26"
             ],
             [
              1,
              "#f0f921"
             ]
            ],
            "type": "heatmap"
           }
          ],
          "heatmapgl": [
           {
            "colorbar": {
             "outlinewidth": 0,
             "ticks": ""
            },
            "colorscale": [
             [
              0,
              "#0d0887"
             ],
             [
              0.1111111111111111,
              "#46039f"
             ],
             [
              0.2222222222222222,
              "#7201a8"
             ],
             [
              0.3333333333333333,
              "#9c179e"
             ],
             [
              0.4444444444444444,
              "#bd3786"
             ],
             [
              0.5555555555555556,
              "#d8576b"
             ],
             [
              0.6666666666666666,
              "#ed7953"
             ],
             [
              0.7777777777777778,
              "#fb9f3a"
             ],
             [
              0.8888888888888888,
              "#fdca26"
             ],
             [
              1,
              "#f0f921"
             ]
            ],
            "type": "heatmapgl"
           }
          ],
          "histogram": [
           {
            "marker": {
             "pattern": {
              "fillmode": "overlay",
              "size": 10,
              "solidity": 0.2
             }
            },
            "type": "histogram"
           }
          ],
          "histogram2d": [
           {
            "colorbar": {
             "outlinewidth": 0,
             "ticks": ""
            },
            "colorscale": [
             [
              0,
              "#0d0887"
             ],
             [
              0.1111111111111111,
              "#46039f"
             ],
             [
              0.2222222222222222,
              "#7201a8"
             ],
             [
              0.3333333333333333,
              "#9c179e"
             ],
             [
              0.4444444444444444,
              "#bd3786"
             ],
             [
              0.5555555555555556,
              "#d8576b"
             ],
             [
              0.6666666666666666,
              "#ed7953"
             ],
             [
              0.7777777777777778,
              "#fb9f3a"
             ],
             [
              0.8888888888888888,
              "#fdca26"
             ],
             [
              1,
              "#f0f921"
             ]
            ],
            "type": "histogram2d"
           }
          ],
          "histogram2dcontour": [
           {
            "colorbar": {
             "outlinewidth": 0,
             "ticks": ""
            },
            "colorscale": [
             [
              0,
              "#0d0887"
             ],
             [
              0.1111111111111111,
              "#46039f"
             ],
             [
              0.2222222222222222,
              "#7201a8"
             ],
             [
              0.3333333333333333,
              "#9c179e"
             ],
             [
              0.4444444444444444,
              "#bd3786"
             ],
             [
              0.5555555555555556,
              "#d8576b"
             ],
             [
              0.6666666666666666,
              "#ed7953"
             ],
             [
              0.7777777777777778,
              "#fb9f3a"
             ],
             [
              0.8888888888888888,
              "#fdca26"
             ],
             [
              1,
              "#f0f921"
             ]
            ],
            "type": "histogram2dcontour"
           }
          ],
          "mesh3d": [
           {
            "colorbar": {
             "outlinewidth": 0,
             "ticks": ""
            },
            "type": "mesh3d"
           }
          ],
          "parcoords": [
           {
            "line": {
             "colorbar": {
              "outlinewidth": 0,
              "ticks": ""
             }
            },
            "type": "parcoords"
           }
          ],
          "pie": [
           {
            "automargin": true,
            "type": "pie"
           }
          ],
          "scatter": [
           {
            "fillpattern": {
             "fillmode": "overlay",
             "size": 10,
             "solidity": 0.2
            },
            "type": "scatter"
           }
          ],
          "scatter3d": [
           {
            "line": {
             "colorbar": {
              "outlinewidth": 0,
              "ticks": ""
             }
            },
            "marker": {
             "colorbar": {
              "outlinewidth": 0,
              "ticks": ""
             }
            },
            "type": "scatter3d"
           }
          ],
          "scattercarpet": [
           {
            "marker": {
             "colorbar": {
              "outlinewidth": 0,
              "ticks": ""
             }
            },
            "type": "scattercarpet"
           }
          ],
          "scattergeo": [
           {
            "marker": {
             "colorbar": {
              "outlinewidth": 0,
              "ticks": ""
             }
            },
            "type": "scattergeo"
           }
          ],
          "scattergl": [
           {
            "marker": {
             "colorbar": {
              "outlinewidth": 0,
              "ticks": ""
             }
            },
            "type": "scattergl"
           }
          ],
          "scattermapbox": [
           {
            "marker": {
             "colorbar": {
              "outlinewidth": 0,
              "ticks": ""
             }
            },
            "type": "scattermapbox"
           }
          ],
          "scatterpolar": [
           {
            "marker": {
             "colorbar": {
              "outlinewidth": 0,
              "ticks": ""
             }
            },
            "type": "scatterpolar"
           }
          ],
          "scatterpolargl": [
           {
            "marker": {
             "colorbar": {
              "outlinewidth": 0,
              "ticks": ""
             }
            },
            "type": "scatterpolargl"
           }
          ],
          "scatterternary": [
           {
            "marker": {
             "colorbar": {
              "outlinewidth": 0,
              "ticks": ""
             }
            },
            "type": "scatterternary"
           }
          ],
          "surface": [
           {
            "colorbar": {
             "outlinewidth": 0,
             "ticks": ""
            },
            "colorscale": [
             [
              0,
              "#0d0887"
             ],
             [
              0.1111111111111111,
              "#46039f"
             ],
             [
              0.2222222222222222,
              "#7201a8"
             ],
             [
              0.3333333333333333,
              "#9c179e"
             ],
             [
              0.4444444444444444,
              "#bd3786"
             ],
             [
              0.5555555555555556,
              "#d8576b"
             ],
             [
              0.6666666666666666,
              "#ed7953"
             ],
             [
              0.7777777777777778,
              "#fb9f3a"
             ],
             [
              0.8888888888888888,
              "#fdca26"
             ],
             [
              1,
              "#f0f921"
             ]
            ],
            "type": "surface"
           }
          ],
          "table": [
           {
            "cells": {
             "fill": {
              "color": "#EBF0F8"
             },
             "line": {
              "color": "white"
             }
            },
            "header": {
             "fill": {
              "color": "#C8D4E3"
             },
             "line": {
              "color": "white"
             }
            },
            "type": "table"
           }
          ]
         },
         "layout": {
          "annotationdefaults": {
           "arrowcolor": "#2a3f5f",
           "arrowhead": 0,
           "arrowwidth": 1
          },
          "autotypenumbers": "strict",
          "coloraxis": {
           "colorbar": {
            "outlinewidth": 0,
            "ticks": ""
           }
          },
          "colorscale": {
           "diverging": [
            [
             0,
             "#8e0152"
            ],
            [
             0.1,
             "#c51b7d"
            ],
            [
             0.2,
             "#de77ae"
            ],
            [
             0.3,
             "#f1b6da"
            ],
            [
             0.4,
             "#fde0ef"
            ],
            [
             0.5,
             "#f7f7f7"
            ],
            [
             0.6,
             "#e6f5d0"
            ],
            [
             0.7,
             "#b8e186"
            ],
            [
             0.8,
             "#7fbc41"
            ],
            [
             0.9,
             "#4d9221"
            ],
            [
             1,
             "#276419"
            ]
           ],
           "sequential": [
            [
             0,
             "#0d0887"
            ],
            [
             0.1111111111111111,
             "#46039f"
            ],
            [
             0.2222222222222222,
             "#7201a8"
            ],
            [
             0.3333333333333333,
             "#9c179e"
            ],
            [
             0.4444444444444444,
             "#bd3786"
            ],
            [
             0.5555555555555556,
             "#d8576b"
            ],
            [
             0.6666666666666666,
             "#ed7953"
            ],
            [
             0.7777777777777778,
             "#fb9f3a"
            ],
            [
             0.8888888888888888,
             "#fdca26"
            ],
            [
             1,
             "#f0f921"
            ]
           ],
           "sequentialminus": [
            [
             0,
             "#0d0887"
            ],
            [
             0.1111111111111111,
             "#46039f"
            ],
            [
             0.2222222222222222,
             "#7201a8"
            ],
            [
             0.3333333333333333,
             "#9c179e"
            ],
            [
             0.4444444444444444,
             "#bd3786"
            ],
            [
             0.5555555555555556,
             "#d8576b"
            ],
            [
             0.6666666666666666,
             "#ed7953"
            ],
            [
             0.7777777777777778,
             "#fb9f3a"
            ],
            [
             0.8888888888888888,
             "#fdca26"
            ],
            [
             1,
             "#f0f921"
            ]
           ]
          },
          "colorway": [
           "#636efa",
           "#EF553B",
           "#00cc96",
           "#ab63fa",
           "#FFA15A",
           "#19d3f3",
           "#FF6692",
           "#B6E880",
           "#FF97FF",
           "#FECB52"
          ],
          "font": {
           "color": "#2a3f5f"
          },
          "geo": {
           "bgcolor": "white",
           "lakecolor": "white",
           "landcolor": "#E5ECF6",
           "showlakes": true,
           "showland": true,
           "subunitcolor": "white"
          },
          "hoverlabel": {
           "align": "left"
          },
          "hovermode": "closest",
          "mapbox": {
           "style": "light"
          },
          "paper_bgcolor": "white",
          "plot_bgcolor": "#E5ECF6",
          "polar": {
           "angularaxis": {
            "gridcolor": "white",
            "linecolor": "white",
            "ticks": ""
           },
           "bgcolor": "#E5ECF6",
           "radialaxis": {
            "gridcolor": "white",
            "linecolor": "white",
            "ticks": ""
           }
          },
          "scene": {
           "xaxis": {
            "backgroundcolor": "#E5ECF6",
            "gridcolor": "white",
            "gridwidth": 2,
            "linecolor": "white",
            "showbackground": true,
            "ticks": "",
            "zerolinecolor": "white"
           },
           "yaxis": {
            "backgroundcolor": "#E5ECF6",
            "gridcolor": "white",
            "gridwidth": 2,
            "linecolor": "white",
            "showbackground": true,
            "ticks": "",
            "zerolinecolor": "white"
           },
           "zaxis": {
            "backgroundcolor": "#E5ECF6",
            "gridcolor": "white",
            "gridwidth": 2,
            "linecolor": "white",
            "showbackground": true,
            "ticks": "",
            "zerolinecolor": "white"
           }
          },
          "shapedefaults": {
           "line": {
            "color": "#2a3f5f"
           }
          },
          "ternary": {
           "aaxis": {
            "gridcolor": "white",
            "linecolor": "white",
            "ticks": ""
           },
           "baxis": {
            "gridcolor": "white",
            "linecolor": "white",
            "ticks": ""
           },
           "bgcolor": "#E5ECF6",
           "caxis": {
            "gridcolor": "white",
            "linecolor": "white",
            "ticks": ""
           }
          },
          "title": {
           "x": 0.05
          },
          "xaxis": {
           "automargin": true,
           "gridcolor": "white",
           "linecolor": "white",
           "ticks": "",
           "title": {
            "standoff": 15
           },
           "zerolinecolor": "white",
           "zerolinewidth": 2
          },
          "yaxis": {
           "automargin": true,
           "gridcolor": "white",
           "linecolor": "white",
           "ticks": "",
           "title": {
            "standoff": 15
           },
           "zerolinecolor": "white",
           "zerolinewidth": 2
          }
         }
        },
        "title": {
         "text": "Accuracy of the models with different Epocs and Configuration"
        },
        "width": 1000,
        "xaxis": {
         "title": {
          "text": "Models"
         }
        },
        "yaxis": {
         "title": {
          "text": "Accuracy"
         }
        }
       }
      }
     },
     "metadata": {},
     "output_type": "display_data"
    }
   ],
   "source": [
    "import plotly.graph_objects as go\n",
    "\n",
    "models =  ['CNN','VGG16','VGG19','MobileNetV2','DenseNet201','InceptionV3','Resnet50V2']\n",
    "fifty=[87,90,90,90,97,92,64] \n",
    "Hundred =[97,93,91,93,97,93,92]\n",
    "\n",
    "fig=go.Figure()\n",
    "\n",
    "fig.add_trace(go.Scatter(x=models,y=fifty,name = '50 Epochs(Core i7 10th gen, 16gb RAM)'))\n",
    "fig.add_trace(go.Scatter(x=models,y=Hundred,name = '100 Epochs(Core i7 10th gen, 32gb RAM)'))\n",
    "\n",
    "fig.update_layout(title='Accuracy of the models with different Epocs and Configuration',\n",
    "                    xaxis_title='Models',\n",
    "                    yaxis_title='Accuracy',width=1000,height = 400)\n",
    "fig.show()"
   ]
  },
  {
   "cell_type": "code",
   "execution_count": null,
   "id": "d1a4687e",
   "metadata": {},
   "outputs": [],
   "source": []
  }
 ],
 "metadata": {
  "interpreter": {
   "hash": "7268f8b2c8e9b7c101aef22317ecead934d41adaa74e017730d34c40a6ef846d"
  },
  "kernelspec": {
   "display_name": "Python 3.8.5 64-bit",
   "language": "python",
   "name": "python3"
  },
  "language_info": {
   "codemirror_mode": {
    "name": "ipython",
    "version": 3
   },
   "file_extension": ".py",
   "mimetype": "text/x-python",
   "name": "python",
   "nbconvert_exporter": "python",
   "pygments_lexer": "ipython3",
   "version": "3.8.5"
  }
 },
 "nbformat": 4,
 "nbformat_minor": 5
}
